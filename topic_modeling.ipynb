{
  "nbformat": 4,
  "nbformat_minor": 0,
  "metadata": {
    "colab": {
      "provenance": [],
      "mount_file_id": "1xp4rUPcSBTQCSzQLz7jMhZUWK0ab5nbi",
      "authorship_tag": "ABX9TyOAyLtZAz9s+JnhLjx2CLWv",
      "include_colab_link": true
    },
    "kernelspec": {
      "name": "python3",
      "display_name": "Python 3"
    },
    "language_info": {
      "name": "python"
    }
  },
  "cells": [
    {
      "cell_type": "markdown",
      "metadata": {
        "id": "view-in-github",
        "colab_type": "text"
      },
      "source": [
        "<a href=\"https://colab.research.google.com/github/hna12/Topic_Modeling/blob/main/topic_modeling.ipynb\" target=\"_parent\"><img src=\"https://colab.research.google.com/assets/colab-badge.svg\" alt=\"Open In Colab\"/></a>"
      ]
    },
    {
      "cell_type": "code",
      "source": [
        "!sudo apt-get install -y fonts-nanum\n",
        "!sudo fc-cache -fv\n",
        "!rm ~/.cache/matplotlib -rf"
      ],
      "metadata": {
        "colab": {
          "base_uri": "https://localhost:8080/"
        },
        "id": "tCBhHxp3jXez",
        "outputId": "58763967-de10-4cba-a04e-4836dddc5b30"
      },
      "execution_count": 6,
      "outputs": [
        {
          "output_type": "stream",
          "name": "stdout",
          "text": [
            "Reading package lists... Done\n",
            "Building dependency tree       \n",
            "Reading state information... Done\n",
            "fonts-nanum is already the newest version (20170925-1).\n",
            "The following package was automatically installed and is no longer required:\n",
            "  libnvidia-common-460\n",
            "Use 'sudo apt autoremove' to remove it.\n",
            "0 upgraded, 0 newly installed, 0 to remove and 8 not upgraded.\n",
            "/usr/share/fonts: caching, new cache contents: 0 fonts, 1 dirs\n",
            "/usr/share/fonts/truetype: caching, new cache contents: 0 fonts, 3 dirs\n",
            "/usr/share/fonts/truetype/humor-sans: caching, new cache contents: 1 fonts, 0 dirs\n",
            "/usr/share/fonts/truetype/liberation: caching, new cache contents: 16 fonts, 0 dirs\n",
            "/usr/share/fonts/truetype/nanum: caching, new cache contents: 31 fonts, 0 dirs\n",
            "/usr/local/share/fonts: caching, new cache contents: 0 fonts, 0 dirs\n",
            "/root/.local/share/fonts: skipping, no such directory\n",
            "/root/.fonts: skipping, no such directory\n",
            "/var/cache/fontconfig: cleaning cache directory\n",
            "/root/.cache/fontconfig: not cleaning non-existent cache directory\n",
            "/root/.fontconfig: not cleaning non-existent cache directory\n",
            "fc-cache: succeeded\n"
          ]
        }
      ]
    },
    {
      "cell_type": "code",
      "source": [
        "# 예제 DATA\n",
        "!gdown https://drive.google.com/uc?id=1KuBG40WNpVPV1ilfGaiCI2D3l8JVSfbS"
      ],
      "metadata": {
        "colab": {
          "base_uri": "https://localhost:8080/"
        },
        "id": "fKUVD1ptuah5",
        "outputId": "b19b25d8-e6c1-43ea-b91b-5e2c529bd8f2"
      },
      "execution_count": 7,
      "outputs": [
        {
          "output_type": "stream",
          "name": "stdout",
          "text": [
            "Downloading...\n",
            "From: https://drive.google.com/uc?id=1KuBG40WNpVPV1ilfGaiCI2D3l8JVSfbS\n",
            "To: /content/train_original.json\n",
            "100% 800M/800M [00:08<00:00, 89.4MB/s]\n"
          ]
        }
      ]
    },
    {
      "cell_type": "code",
      "source": [
        "import pandas as pd\n",
        "import re\n",
        "from tqdm import tqdm"
      ],
      "metadata": {
        "id": "IxkpOajhShAL"
      },
      "execution_count": null,
      "outputs": []
    },
    {
      "cell_type": "code",
      "source": [
        "df_news = pd.read_json(\"./train_original.json\")\n",
        "df_news"
      ],
      "metadata": {
        "colab": {
          "base_uri": "https://localhost:8080/",
          "height": 641
        },
        "id": "8s8e4QN9jwGl",
        "outputId": "28bdb0c5-c629-4f59-b6cd-9a33ccc5c0ac"
      },
      "execution_count": 8,
      "outputs": [
        {
          "output_type": "execute_result",
          "data": {
            "text/plain": [
              "        media         id                                   article_original  \\\n",
              "0        부산일보  360972161  [지난해 고령화와 유례가 드문 겨울 한파 등 영향으로 우리나라 사망자 수가 통계 작...   \n",
              "1        중도일보  356659913  [서산시의회(의장 임재관) 가충순·이수의 의원이 (사)한국지역신문협회에서 수여하는 ...   \n",
              "2        무등일보  351718460  [지난 2004년 시작해 조선대 학생들의 대표적인 행사로 자리매김한 ‘조선대 국토대...   \n",
              "3        이데일리  335868123  [서울시는 신학기가 시작되는 다음달 4일부터 고등학교 3학년 무상급식을 실시한다고 ...   \n",
              "4        서울신문  351443347  [미국인 선교사가 우간다에서 의사 행세를 하며 의료 시설을 운영한 혐의로 지역 시민...   \n",
              "...       ...        ...                                                ...   \n",
              "260692   매일경제  353316985  [두통과 어지럼증은 우리에게 매우 익숙하다., 하루 이틀 정도만 참으면 자연스럽게 ...   \n",
              "260693   부산일보  360784906  [파주 최대 테마파크 퍼스트가든이 ㈜투바앤의 캐릭터 '라바'와 할로윈 페스티벌(사진...   \n",
              "260694   부산일보  357253753  [민원과 난공사로 완공이 늦어지고 있는 양산시 한일아파트 인근 옹벽 보수·보강공사 ...   \n",
              "260695   매일신문  347655953  [사단법인 전국자원봉사연맹이 호국보훈의 달을 맞이하여, 오는 2019년 6월 23일...   \n",
              "260696  아시아경제  369524558  [라이프스타일 투자플랫폼 와디즈는 서강대학교 경영전문대학원, 한국전문경영컨설팅과 함...   \n",
              "\n",
              "                                              abstractive   extractive  \n",
              "0       통계청이 발표한 '2018년 사망원인통계'를 보면 지난해 총 사망자 수는 관련 통계...  [4, 11, 18]  \n",
              "1       서산시 가충순 의원과 이수의 의원이 활발한 의정활동을 펼친 감사의 표시로 한국지역신...    [1, 3, 4]  \n",
              "2        ‘조선대의 새로운 비상을 꿈꾸다’를 슬로건으로 진행되어 단체생활을 통해 협동심과 ...    [0, 2, 4]  \n",
              "3       서울시가 다음달 4일부터 서울 시내 319개 고등학교 3학년 8만4700명을 대상으...    [0, 1, 2]  \n",
              "4       미국인 선교사가 우간다에서 의사 행세를 하며 두 아이의 죽음과 관련돼 있다며 지역 ...    [0, 1, 2]  \n",
              "...                                                   ...          ...  \n",
              "260692  두통과 어지럼증은 우리에게 매우 익숙한 증상이며, 이 두통은 크게 긴장성 두통, 혈...  [3, 12, 16]  \n",
              "260693  파주 최대 테마파크 퍼스트가든이 오는 10월 12일부터 31일까지 가족들이 함께 즐...    [0, 4, 1]  \n",
              "260694  양산시는 지난해 10월부터 43억 원을 들여 진행 중인 한일아파트 뒤편 옹벽 보수·...    [4, 6, 7]  \n",
              "260695  국가를 위해 헌신한 분들의 숭고한 희생을 기리고, 유가족 들을 위로하기 위해 열리는...    [0, 1, 2]  \n",
              "260696  지난 4일 라이프스타일 투자플랫롬 와디즈는 스타트업 투자 시장에서의 자금 조달 수요...    [0, 1, 2]  \n",
              "\n",
              "[260697 rows x 5 columns]"
            ],
            "text/html": [
              "\n",
              "  <div id=\"df-4c04488b-389d-4f1a-abfc-0976b65729ed\">\n",
              "    <div class=\"colab-df-container\">\n",
              "      <div>\n",
              "<style scoped>\n",
              "    .dataframe tbody tr th:only-of-type {\n",
              "        vertical-align: middle;\n",
              "    }\n",
              "\n",
              "    .dataframe tbody tr th {\n",
              "        vertical-align: top;\n",
              "    }\n",
              "\n",
              "    .dataframe thead th {\n",
              "        text-align: right;\n",
              "    }\n",
              "</style>\n",
              "<table border=\"1\" class=\"dataframe\">\n",
              "  <thead>\n",
              "    <tr style=\"text-align: right;\">\n",
              "      <th></th>\n",
              "      <th>media</th>\n",
              "      <th>id</th>\n",
              "      <th>article_original</th>\n",
              "      <th>abstractive</th>\n",
              "      <th>extractive</th>\n",
              "    </tr>\n",
              "  </thead>\n",
              "  <tbody>\n",
              "    <tr>\n",
              "      <th>0</th>\n",
              "      <td>부산일보</td>\n",
              "      <td>360972161</td>\n",
              "      <td>[지난해 고령화와 유례가 드문 겨울 한파 등 영향으로 우리나라 사망자 수가 통계 작...</td>\n",
              "      <td>통계청이 발표한 '2018년 사망원인통계'를 보면 지난해 총 사망자 수는 관련 통계...</td>\n",
              "      <td>[4, 11, 18]</td>\n",
              "    </tr>\n",
              "    <tr>\n",
              "      <th>1</th>\n",
              "      <td>중도일보</td>\n",
              "      <td>356659913</td>\n",
              "      <td>[서산시의회(의장 임재관) 가충순·이수의 의원이 (사)한국지역신문협회에서 수여하는 ...</td>\n",
              "      <td>서산시 가충순 의원과 이수의 의원이 활발한 의정활동을 펼친 감사의 표시로 한국지역신...</td>\n",
              "      <td>[1, 3, 4]</td>\n",
              "    </tr>\n",
              "    <tr>\n",
              "      <th>2</th>\n",
              "      <td>무등일보</td>\n",
              "      <td>351718460</td>\n",
              "      <td>[지난 2004년 시작해 조선대 학생들의 대표적인 행사로 자리매김한 ‘조선대 국토대...</td>\n",
              "      <td>‘조선대의 새로운 비상을 꿈꾸다’를 슬로건으로 진행되어 단체생활을 통해 협동심과 ...</td>\n",
              "      <td>[0, 2, 4]</td>\n",
              "    </tr>\n",
              "    <tr>\n",
              "      <th>3</th>\n",
              "      <td>이데일리</td>\n",
              "      <td>335868123</td>\n",
              "      <td>[서울시는 신학기가 시작되는 다음달 4일부터 고등학교 3학년 무상급식을 실시한다고 ...</td>\n",
              "      <td>서울시가 다음달 4일부터 서울 시내 319개 고등학교 3학년 8만4700명을 대상으...</td>\n",
              "      <td>[0, 1, 2]</td>\n",
              "    </tr>\n",
              "    <tr>\n",
              "      <th>4</th>\n",
              "      <td>서울신문</td>\n",
              "      <td>351443347</td>\n",
              "      <td>[미국인 선교사가 우간다에서 의사 행세를 하며 의료 시설을 운영한 혐의로 지역 시민...</td>\n",
              "      <td>미국인 선교사가 우간다에서 의사 행세를 하며 두 아이의 죽음과 관련돼 있다며 지역 ...</td>\n",
              "      <td>[0, 1, 2]</td>\n",
              "    </tr>\n",
              "    <tr>\n",
              "      <th>...</th>\n",
              "      <td>...</td>\n",
              "      <td>...</td>\n",
              "      <td>...</td>\n",
              "      <td>...</td>\n",
              "      <td>...</td>\n",
              "    </tr>\n",
              "    <tr>\n",
              "      <th>260692</th>\n",
              "      <td>매일경제</td>\n",
              "      <td>353316985</td>\n",
              "      <td>[두통과 어지럼증은 우리에게 매우 익숙하다., 하루 이틀 정도만 참으면 자연스럽게 ...</td>\n",
              "      <td>두통과 어지럼증은 우리에게 매우 익숙한 증상이며, 이 두통은 크게 긴장성 두통, 혈...</td>\n",
              "      <td>[3, 12, 16]</td>\n",
              "    </tr>\n",
              "    <tr>\n",
              "      <th>260693</th>\n",
              "      <td>부산일보</td>\n",
              "      <td>360784906</td>\n",
              "      <td>[파주 최대 테마파크 퍼스트가든이 ㈜투바앤의 캐릭터 '라바'와 할로윈 페스티벌(사진...</td>\n",
              "      <td>파주 최대 테마파크 퍼스트가든이 오는 10월 12일부터 31일까지 가족들이 함께 즐...</td>\n",
              "      <td>[0, 4, 1]</td>\n",
              "    </tr>\n",
              "    <tr>\n",
              "      <th>260694</th>\n",
              "      <td>부산일보</td>\n",
              "      <td>357253753</td>\n",
              "      <td>[민원과 난공사로 완공이 늦어지고 있는 양산시 한일아파트 인근 옹벽 보수·보강공사 ...</td>\n",
              "      <td>양산시는 지난해 10월부터 43억 원을 들여 진행 중인 한일아파트 뒤편 옹벽 보수·...</td>\n",
              "      <td>[4, 6, 7]</td>\n",
              "    </tr>\n",
              "    <tr>\n",
              "      <th>260695</th>\n",
              "      <td>매일신문</td>\n",
              "      <td>347655953</td>\n",
              "      <td>[사단법인 전국자원봉사연맹이 호국보훈의 달을 맞이하여, 오는 2019년 6월 23일...</td>\n",
              "      <td>국가를 위해 헌신한 분들의 숭고한 희생을 기리고, 유가족 들을 위로하기 위해 열리는...</td>\n",
              "      <td>[0, 1, 2]</td>\n",
              "    </tr>\n",
              "    <tr>\n",
              "      <th>260696</th>\n",
              "      <td>아시아경제</td>\n",
              "      <td>369524558</td>\n",
              "      <td>[라이프스타일 투자플랫폼 와디즈는 서강대학교 경영전문대학원, 한국전문경영컨설팅과 함...</td>\n",
              "      <td>지난 4일 라이프스타일 투자플랫롬 와디즈는 스타트업 투자 시장에서의 자금 조달 수요...</td>\n",
              "      <td>[0, 1, 2]</td>\n",
              "    </tr>\n",
              "  </tbody>\n",
              "</table>\n",
              "<p>260697 rows × 5 columns</p>\n",
              "</div>\n",
              "      <button class=\"colab-df-convert\" onclick=\"convertToInteractive('df-4c04488b-389d-4f1a-abfc-0976b65729ed')\"\n",
              "              title=\"Convert this dataframe to an interactive table.\"\n",
              "              style=\"display:none;\">\n",
              "        \n",
              "  <svg xmlns=\"http://www.w3.org/2000/svg\" height=\"24px\"viewBox=\"0 0 24 24\"\n",
              "       width=\"24px\">\n",
              "    <path d=\"M0 0h24v24H0V0z\" fill=\"none\"/>\n",
              "    <path d=\"M18.56 5.44l.94 2.06.94-2.06 2.06-.94-2.06-.94-.94-2.06-.94 2.06-2.06.94zm-11 1L8.5 8.5l.94-2.06 2.06-.94-2.06-.94L8.5 2.5l-.94 2.06-2.06.94zm10 10l.94 2.06.94-2.06 2.06-.94-2.06-.94-.94-2.06-.94 2.06-2.06.94z\"/><path d=\"M17.41 7.96l-1.37-1.37c-.4-.4-.92-.59-1.43-.59-.52 0-1.04.2-1.43.59L10.3 9.45l-7.72 7.72c-.78.78-.78 2.05 0 2.83L4 21.41c.39.39.9.59 1.41.59.51 0 1.02-.2 1.41-.59l7.78-7.78 2.81-2.81c.8-.78.8-2.07 0-2.86zM5.41 20L4 18.59l7.72-7.72 1.47 1.35L5.41 20z\"/>\n",
              "  </svg>\n",
              "      </button>\n",
              "      \n",
              "  <style>\n",
              "    .colab-df-container {\n",
              "      display:flex;\n",
              "      flex-wrap:wrap;\n",
              "      gap: 12px;\n",
              "    }\n",
              "\n",
              "    .colab-df-convert {\n",
              "      background-color: #E8F0FE;\n",
              "      border: none;\n",
              "      border-radius: 50%;\n",
              "      cursor: pointer;\n",
              "      display: none;\n",
              "      fill: #1967D2;\n",
              "      height: 32px;\n",
              "      padding: 0 0 0 0;\n",
              "      width: 32px;\n",
              "    }\n",
              "\n",
              "    .colab-df-convert:hover {\n",
              "      background-color: #E2EBFA;\n",
              "      box-shadow: 0px 1px 2px rgba(60, 64, 67, 0.3), 0px 1px 3px 1px rgba(60, 64, 67, 0.15);\n",
              "      fill: #174EA6;\n",
              "    }\n",
              "\n",
              "    [theme=dark] .colab-df-convert {\n",
              "      background-color: #3B4455;\n",
              "      fill: #D2E3FC;\n",
              "    }\n",
              "\n",
              "    [theme=dark] .colab-df-convert:hover {\n",
              "      background-color: #434B5C;\n",
              "      box-shadow: 0px 1px 3px 1px rgba(0, 0, 0, 0.15);\n",
              "      filter: drop-shadow(0px 1px 2px rgba(0, 0, 0, 0.3));\n",
              "      fill: #FFFFFF;\n",
              "    }\n",
              "  </style>\n",
              "\n",
              "      <script>\n",
              "        const buttonEl =\n",
              "          document.querySelector('#df-4c04488b-389d-4f1a-abfc-0976b65729ed button.colab-df-convert');\n",
              "        buttonEl.style.display =\n",
              "          google.colab.kernel.accessAllowed ? 'block' : 'none';\n",
              "\n",
              "        async function convertToInteractive(key) {\n",
              "          const element = document.querySelector('#df-4c04488b-389d-4f1a-abfc-0976b65729ed');\n",
              "          const dataTable =\n",
              "            await google.colab.kernel.invokeFunction('convertToInteractive',\n",
              "                                                     [key], {});\n",
              "          if (!dataTable) return;\n",
              "\n",
              "          const docLinkHtml = 'Like what you see? Visit the ' +\n",
              "            '<a target=\"_blank\" href=https://colab.research.google.com/notebooks/data_table.ipynb>data table notebook</a>'\n",
              "            + ' to learn more about interactive tables.';\n",
              "          element.innerHTML = '';\n",
              "          dataTable['output_type'] = 'display_data';\n",
              "          await google.colab.output.renderOutput(dataTable, element);\n",
              "          const docLink = document.createElement('div');\n",
              "          docLink.innerHTML = docLinkHtml;\n",
              "          element.appendChild(docLink);\n",
              "        }\n",
              "      </script>\n",
              "    </div>\n",
              "  </div>\n",
              "  "
            ]
          },
          "metadata": {},
          "execution_count": 8
        }
      ]
    },
    {
      "cell_type": "markdown",
      "source": [
        "## 1.Text preprocessing"
      ],
      "metadata": {
        "id": "R-gI9JFEhL3v"
      }
    },
    {
      "cell_type": "markdown",
      "source": [
        "한글, 영어, 숫자(소수와 퍼센트) 만 남기고 기타 특수문자들을 제거"
      ],
      "metadata": {
        "id": "GJGSjxUOhylA"
      }
    },
    {
      "cell_type": "code",
      "source": [
        "def text_cleaning(doc):\n",
        "  text = re.sub('[^가-힣ㄱ-ㅣa-zA-Z|0-9.%]', ' ', string = doc)\n",
        "  return text"
      ],
      "metadata": {
        "id": "MGqu25wuj8sF"
      },
      "execution_count": 9,
      "outputs": []
    },
    {
      "cell_type": "code",
      "source": [
        "# 원문\n",
        "doc = ' '.join(df_news['article_original'].iloc[0]) #하나의 문자열로 만드는 과정\n",
        "doc"
      ],
      "metadata": {
        "colab": {
          "base_uri": "https://localhost:8080/",
          "height": 235
        },
        "id": "sgJmfOSpQBxN",
        "outputId": "a2931fee-de41-4feb-9914-e4c33c2f0511"
      },
      "execution_count": 10,
      "outputs": [
        {
          "output_type": "execute_result",
          "data": {
            "text/plain": [
              "'지난해 고령화와 유례가 드문 겨울 한파 등 영향으로 우리나라 사망자 수가 통계 작성 이후 가장 많았다. 폐렴과 치매의 일종인 알츠하이머병은 지난해 사망원인 순위 3위와 9위로 전년보다 각각 한 단계, 두 단계 상승하는 등 노인성 질병에 의한 사망률이 급증하는 추세다. ‘연령표준화 사망률’(표준인구 10만 명당 사망자 수)은 울산·충북·부산 순으로 높게 나타났다. ■작년 사망자 29만 8820명, 역대 최다 24일 통계청이 발표한 \\'2018년 사망원인통계\\'를 보면 지난해 총 사망자 수는 전년 대비 4.7%(1만 3286명) 증가한 29만 8820명으로 관련 통계를 작성한 1983년 이후 가장 많았으며, 5년 연속 증가세를 보였다. 통계청은 인구 구조의 고령화와 지난해 1~2월 유례가 드문 한파 등을 그 원인으로 꼽았다. 지난해 조사망률(인구 10만 명당 사망자 수) 역시 582.5명으로 전년보다 4.5%(25.1명) 증가해 5년 연속 늘었다. 특히 80세 이상의 사망자가 전체 사망자의 절반에 가까운 46.3%로, 10년 전보다 14.3%포인트(P)나 증가했다. ■폐렴·알츠하이머병 사망률 순위 ‘껑충’ 사망원인별로 보면 지난해 암(악성신생물)에 의한 사망률(이하 인구 10만 명당 사망자 수)은 154.3명으로 전년보다 0.2% 증가했다. 1983년 관련 통계를 집계한 이래 줄곧 암이 사망원인 1위로 집계됐다. 특히 폐렴(4위→3위)과 치매의 일종인 알츠하이머병(11위→9위)에 의한 사망률 순위 상승이 두드러졌다. 폐렴 사망률은 2004년 10위에서 꾸준히 순위가 상승하고 있고, 알츠하이머병 사망률 역시 통계 작성 이래 10대 사인에 처음 포함됐다. 지난해 알츠하이머병에 의한 사망률은 12.0명으로 전년(9.8명) 대비 22.5% 증가했다. 알츠하이머병 사망률은 10년 전(3.8명)과 비교하면 무려 214.2% 증가했다. 폐렴 사망률은 45.4명으로 전년(37.8명) 대비 20.0% 증가했다. 알코올 관련 사망률은 9.6명으로 전년보다 2.0% 늘었다. ■자살률 5년 만에 증가…\"베르테르 효과 영향\" 지난해 자살에 의한 사망자는 1만 3670명으로 전년보다 9.7%(1207명) 증가했다. 자살률은 26.6명으로 전년보다 2.3명(9.5%) 증가했다. 자살률은 2013년 28.5명, 2014년 27.3명, 2015년 26.5명, 2016년 25.6명, 2017년 24.3명 등 4년 연속 줄어들다가 5년 만에 증가세로 돌아섰다. 자살은 10∼30대까지 사망원인 순위 1위를 차지했고, 40∼50대에서도 2위를 기록했다. 김진 통계청 인구동향과장은 \"자살에는 베르테르 효과, 즉 유명인 자살이 영향을 준다. 2011년 이후 유명인 자살이 줄면서 자살이 줄었는데 지난해에는 유명인 자살이 있어 영향을 줬다\"고 설명했다. 지역 간 연령구조 차이를 표준화한 사망률(표준인구 10만 명당 사망자 수)을 보면 울산(355.3명), 충북(352.6명), 부산(350.8명)이 높았고, 서울(283.3명)과 경기(306.8명)가 낮았다. 사인별로 연령표준화 사망률이 높은 지역을 보면 암은 경남(101.5명), 심장 질환은 경남(44.6명), 뇌혈관 질환은 울산(30.6명), 폐렴은 경북(30.3명), 운수사고는 전남(14.4명), 고의적 자해(자살)는 충남(29.8명)이었다.'"
            ],
            "application/vnd.google.colaboratory.intrinsic+json": {
              "type": "string"
            }
          },
          "metadata": {},
          "execution_count": 10
        }
      ]
    },
    {
      "cell_type": "code",
      "source": [
        "# 한글,영어, 숫자만 남은 문서입니다. \n",
        "clean_doc = text_cleaning(doc)\n",
        "clean_doc"
      ],
      "metadata": {
        "colab": {
          "base_uri": "https://localhost:8080/",
          "height": 235
        },
        "id": "FiFv0yMBQDEl",
        "outputId": "a0ca9be2-4aa8-4ce0-80f3-96b04ffb615b"
      },
      "execution_count": 11,
      "outputs": [
        {
          "output_type": "execute_result",
          "data": {
            "text/plain": [
              "'지난해 고령화와 유례가 드문 겨울 한파 등 영향으로 우리나라 사망자 수가 통계 작성 이후 가장 많았다. 폐렴과 치매의 일종인 알츠하이머병은 지난해 사망원인 순위 3위와 9위로 전년보다 각각 한 단계  두 단계 상승하는 등 노인성 질병에 의한 사망률이 급증하는 추세다.  연령표준화 사망률  표준인구 10만 명당 사망자 수 은 울산 충북 부산 순으로 높게 나타났다.  작년 사망자 29만 8820명  역대 최다 24일 통계청이 발표한  2018년 사망원인통계 를 보면 지난해 총 사망자 수는 전년 대비 4.7% 1만 3286명  증가한 29만 8820명으로 관련 통계를 작성한 1983년 이후 가장 많았으며  5년 연속 증가세를 보였다. 통계청은 인구 구조의 고령화와 지난해 1 2월 유례가 드문 한파 등을 그 원인으로 꼽았다. 지난해 조사망률 인구 10만 명당 사망자 수  역시 582.5명으로 전년보다 4.5% 25.1명  증가해 5년 연속 늘었다. 특히 80세 이상의 사망자가 전체 사망자의 절반에 가까운 46.3%로  10년 전보다 14.3%포인트 P 나 증가했다.  폐렴 알츠하이머병 사망률 순위  껑충  사망원인별로 보면 지난해 암 악성신생물 에 의한 사망률 이하 인구 10만 명당 사망자 수 은 154.3명으로 전년보다 0.2% 증가했다. 1983년 관련 통계를 집계한 이래 줄곧 암이 사망원인 1위로 집계됐다. 특히 폐렴 4위 3위 과 치매의 일종인 알츠하이머병 11위 9위 에 의한 사망률 순위 상승이 두드러졌다. 폐렴 사망률은 2004년 10위에서 꾸준히 순위가 상승하고 있고  알츠하이머병 사망률 역시 통계 작성 이래 10대 사인에 처음 포함됐다. 지난해 알츠하이머병에 의한 사망률은 12.0명으로 전년 9.8명  대비 22.5% 증가했다. 알츠하이머병 사망률은 10년 전 3.8명 과 비교하면 무려 214.2% 증가했다. 폐렴 사망률은 45.4명으로 전년 37.8명  대비 20.0% 증가했다. 알코올 관련 사망률은 9.6명으로 전년보다 2.0% 늘었다.  자살률 5년 만에 증가  베르테르 효과 영향  지난해 자살에 의한 사망자는 1만 3670명으로 전년보다 9.7% 1207명  증가했다. 자살률은 26.6명으로 전년보다 2.3명 9.5%  증가했다. 자살률은 2013년 28.5명  2014년 27.3명  2015년 26.5명  2016년 25.6명  2017년 24.3명 등 4년 연속 줄어들다가 5년 만에 증가세로 돌아섰다. 자살은 10 30대까지 사망원인 순위 1위를 차지했고  40 50대에서도 2위를 기록했다. 김진 통계청 인구동향과장은  자살에는 베르테르 효과  즉 유명인 자살이 영향을 준다. 2011년 이후 유명인 자살이 줄면서 자살이 줄었는데 지난해에는 유명인 자살이 있어 영향을 줬다 고 설명했다. 지역 간 연령구조 차이를 표준화한 사망률 표준인구 10만 명당 사망자 수 을 보면 울산 355.3명   충북 352.6명   부산 350.8명 이 높았고  서울 283.3명 과 경기 306.8명 가 낮았다. 사인별로 연령표준화 사망률이 높은 지역을 보면 암은 경남 101.5명   심장 질환은 경남 44.6명   뇌혈관 질환은 울산 30.6명   폐렴은 경북 30.3명   운수사고는 전남 14.4명   고의적 자해 자살 는 충남 29.8명 이었다.'"
            ],
            "application/vnd.google.colaboratory.intrinsic+json": {
              "type": "string"
            }
          },
          "metadata": {},
          "execution_count": 11
        }
      ]
    },
    {
      "cell_type": "markdown",
      "source": [
        "형태소 분석기'Mecab' 사용\n",
        "\n",
        "- 모든 NLP 의 필수 처리 과정\n",
        "- input으로 입력되는 문장을 작은 단위로 쪼개줌\n",
        "- 가장 많이 사용되는 형태소 분석기: mecab"
      ],
      "metadata": {
        "id": "h85xubI5iF6f"
      }
    },
    {
      "cell_type": "code",
      "source": [
        "# 코랩에서 Mecab 설치 \n",
        "!apt-get update\n",
        "!apt-get install g++ openjdk-8-jdk \n",
        "!pip3 install konlpy JPype1-py3\n",
        "!bash <(curl -s https://raw.githubusercontent.com/konlpy/konlpy/master/scripts/mecab.sh)"
      ],
      "metadata": {
        "id": "crSJGtxAQIPD"
      },
      "execution_count": null,
      "outputs": []
    },
    {
      "cell_type": "code",
      "source": [
        "# Mecab 토큰화 \n",
        "from konlpy.tag import Mecab\n",
        "\n",
        "tokenizer = Mecab()\n",
        "tokenizer.morphs(clean_doc.split('.')[0]) # 첫 문장 토큰화 "
      ],
      "metadata": {
        "colab": {
          "base_uri": "https://localhost:8080/"
        },
        "id": "PHybQwfeQMZE",
        "outputId": "08d156ab-4a2d-484e-cbfd-30d0c918d160"
      },
      "execution_count": 14,
      "outputs": [
        {
          "output_type": "execute_result",
          "data": {
            "text/plain": [
              "['지난해',\n",
              " '고령화',\n",
              " '와',\n",
              " '유례',\n",
              " '가',\n",
              " '드문',\n",
              " '겨울',\n",
              " '한파',\n",
              " '등',\n",
              " '영향',\n",
              " '으로',\n",
              " '우리나라',\n",
              " '사망자',\n",
              " '수',\n",
              " '가',\n",
              " '통계',\n",
              " '작성',\n",
              " '이후',\n",
              " '가장',\n",
              " '많',\n",
              " '았',\n",
              " '다']"
            ]
          },
          "metadata": {},
          "execution_count": 14
        }
      ]
    },
    {
      "cell_type": "markdown",
      "source": [],
      "metadata": {
        "id": "3mYVHqrQVt16"
      }
    },
    {
      "cell_type": "code",
      "source": [
        "# 토큰화 이후 단어 길이가 2 이상인 명사만 남기기 \n",
        "# 일반명사(NNG), 고유명사(NNP), 외국어(SL)만을 반환\n",
        "# 한국어의 경우 토큰화 과정에서 조사나 접속사 제거로 대부분의 불용어가제거 되지만 불필요한 명사나 형용사를 제거하고 싶은 경우 불용어 제거를 추가하면 됩니다. \n",
        "\n",
        "from konlpy.tag import Mecab\n",
        "\n",
        "def text_preprocess(doc):\n",
        "  tokenizer = Mecab()\n",
        "  \n",
        "  # 텍스트 전처리\n",
        "  clean_doc =  text_cleaning(doc)\n",
        "  \n",
        "  # 품사 붙이기\n",
        "  token_tagged = tokenizer.pos(clean_doc) #[(단어, 품사)] -> [(알디노, 명사),(알파코, 명사)] \n",
        "\n",
        "  # 명사추출\n",
        "  nouns = [s for s, t in token_tagged if t in ['SL', 'NNG', 'NNP'] and len(s) > 1] #sl: 외래어, nng:일반명사, nnp:고유명사. 보통 명사가 아닌데 명사로 태깅하는게 많아서 두개이상인것만 뽑음\n",
        "\n",
        "  # 한 문장으로 합치기 \n",
        "  # 아래에서 활용할 TfidfVectorizer는 기본적으로 토큰화가 되어있지 않은 텍스트 데이터를 입력으로 사용하기 때문에 join 작업을 미리 해줍니다. \n",
        "  preprocessed = ' '.join(nouns) #즉, 하나의 문자열로 합쳐줌\n",
        "\n",
        "  return preprocessed\n",
        "\n",
        "print('전처리 결과 확인 :')\n",
        "text_preprocess(doc)"
      ],
      "metadata": {
        "colab": {
          "base_uri": "https://localhost:8080/",
          "height": 198
        },
        "id": "U5ckVDmmRECu",
        "outputId": "ddd5f1bd-83d7-4d41-941d-f2a91641c1f0"
      },
      "execution_count": 15,
      "outputs": [
        {
          "output_type": "stream",
          "name": "stdout",
          "text": [
            "전처리 결과 확인 :\n"
          ]
        },
        {
          "output_type": "execute_result",
          "data": {
            "text/plain": [
              "'지난해 고령화 유례 겨울 한파 영향 우리나라 사망자 통계 작성 이후 폐렴 치매 일종 알츠하이머병 지난해 사망 원인 순위 전년 단계 단계 상승 노인 질병 사망 급증 추세 연령 표준 사망률 표준 인구 사망자 울산 충북 부산 작년 사망자 역대 최다 통계청 발표 망원 통계 지난해 사망자 전년 대비 증가 관련 통계 작성 이후 연속 증가세 통계청 인구 구조 고령화 지난해 유례 한파 원인 지난해 조사망 인구 사망자 전년 증가 연속 이상 사망자 전체 사망자 절반 포인트 증가 폐렴 알츠하이머병 사망률 순위 사망 원인 지난해 악성 생물 사망률 이하 인구 사망자 전년 증가 관련 통계 집계 사망 원인 집계 폐렴 치매 일종 알츠하이머병 사망률 순위 상승 폐렴 사망 순위 상승 알츠하이머병 사망 통계 작성 사인 처음 포함 지난해 알츠하이머병 사망률 전년 대비 증가 알츠하이머병 사망 비교 증가 폐렴 사망 전년 대비 증가 알코올 관련 사망 전년 자살 증가 베르테르 효과 영향 지난해 자살 사망자 전년 증가 자살 전년 증가 자살 연속 증가세 자살 사망 원인 순위 차지 기록 김진 통계청 인구 동향 과장 자살 베르테르 효과 유명 자살 영향 이후 유명 자살 자살 지난해 유명 자살 영향 설명 지역 연령 구조 차이 표준 사망률 표준 인구 사망자 울산 충북 부산 서울 경기 사인 연령 표준 사망 지역 경남 심장 질환 경남 뇌혈관 질환 울산 폐렴 경북 운수 사고 전남 고의 자해 자살 충남'"
            ],
            "application/vnd.google.colaboratory.intrinsic+json": {
              "type": "string"
            }
          },
          "metadata": {},
          "execution_count": 15
        }
      ]
    },
    {
      "cell_type": "code",
      "source": [
        "# tqdm.pandas를 활용하면 pandas내 apply 작업의 진행상황을 확인할 수 있습니다. \n",
        "tqdm.pandas() \n",
        "\n",
        "df_news['article_preprocessed']= df_news['article_original'].progress_apply(lambda x: text_preprocess(' '.join(x))) #입력받은애 문자열로 합치기\n",
        "df_news"
      ],
      "metadata": {
        "colab": {
          "base_uri": "https://localhost:8080/",
          "height": 867
        },
        "id": "CjEV4RmSRMgI",
        "outputId": "b03ee1a1-b615-4faf-8352-5c429b76568c"
      },
      "execution_count": 16,
      "outputs": [
        {
          "output_type": "stream",
          "name": "stderr",
          "text": [
            "100%|██████████| 260697/260697 [37:41<00:00, 115.28it/s]\n"
          ]
        },
        {
          "output_type": "execute_result",
          "data": {
            "text/plain": [
              "        media         id                                   article_original  \\\n",
              "0        부산일보  360972161  [지난해 고령화와 유례가 드문 겨울 한파 등 영향으로 우리나라 사망자 수가 통계 작...   \n",
              "1        중도일보  356659913  [서산시의회(의장 임재관) 가충순·이수의 의원이 (사)한국지역신문협회에서 수여하는 ...   \n",
              "2        무등일보  351718460  [지난 2004년 시작해 조선대 학생들의 대표적인 행사로 자리매김한 ‘조선대 국토대...   \n",
              "3        이데일리  335868123  [서울시는 신학기가 시작되는 다음달 4일부터 고등학교 3학년 무상급식을 실시한다고 ...   \n",
              "4        서울신문  351443347  [미국인 선교사가 우간다에서 의사 행세를 하며 의료 시설을 운영한 혐의로 지역 시민...   \n",
              "...       ...        ...                                                ...   \n",
              "260692   매일경제  353316985  [두통과 어지럼증은 우리에게 매우 익숙하다., 하루 이틀 정도만 참으면 자연스럽게 ...   \n",
              "260693   부산일보  360784906  [파주 최대 테마파크 퍼스트가든이 ㈜투바앤의 캐릭터 '라바'와 할로윈 페스티벌(사진...   \n",
              "260694   부산일보  357253753  [민원과 난공사로 완공이 늦어지고 있는 양산시 한일아파트 인근 옹벽 보수·보강공사 ...   \n",
              "260695   매일신문  347655953  [사단법인 전국자원봉사연맹이 호국보훈의 달을 맞이하여, 오는 2019년 6월 23일...   \n",
              "260696  아시아경제  369524558  [라이프스타일 투자플랫폼 와디즈는 서강대학교 경영전문대학원, 한국전문경영컨설팅과 함...   \n",
              "\n",
              "                                              abstractive   extractive  \\\n",
              "0       통계청이 발표한 '2018년 사망원인통계'를 보면 지난해 총 사망자 수는 관련 통계...  [4, 11, 18]   \n",
              "1       서산시 가충순 의원과 이수의 의원이 활발한 의정활동을 펼친 감사의 표시로 한국지역신...    [1, 3, 4]   \n",
              "2        ‘조선대의 새로운 비상을 꿈꾸다’를 슬로건으로 진행되어 단체생활을 통해 협동심과 ...    [0, 2, 4]   \n",
              "3       서울시가 다음달 4일부터 서울 시내 319개 고등학교 3학년 8만4700명을 대상으...    [0, 1, 2]   \n",
              "4       미국인 선교사가 우간다에서 의사 행세를 하며 두 아이의 죽음과 관련돼 있다며 지역 ...    [0, 1, 2]   \n",
              "...                                                   ...          ...   \n",
              "260692  두통과 어지럼증은 우리에게 매우 익숙한 증상이며, 이 두통은 크게 긴장성 두통, 혈...  [3, 12, 16]   \n",
              "260693  파주 최대 테마파크 퍼스트가든이 오는 10월 12일부터 31일까지 가족들이 함께 즐...    [0, 4, 1]   \n",
              "260694  양산시는 지난해 10월부터 43억 원을 들여 진행 중인 한일아파트 뒤편 옹벽 보수·...    [4, 6, 7]   \n",
              "260695  국가를 위해 헌신한 분들의 숭고한 희생을 기리고, 유가족 들을 위로하기 위해 열리는...    [0, 1, 2]   \n",
              "260696  지난 4일 라이프스타일 투자플랫롬 와디즈는 스타트업 투자 시장에서의 자금 조달 수요...    [0, 1, 2]   \n",
              "\n",
              "                                     article_preprocessed  \n",
              "0       지난해 고령화 유례 겨울 한파 영향 우리나라 사망자 통계 작성 이후 폐렴 치매 일종...  \n",
              "1       서산시 의회 의장 임재 가충 이수 의원 한국 지역 신문협회 수여 우수 대상 가충 의...  \n",
              "2       시작 조선대 학생 대표 행사 자리매김 조선대 국토 대장정 해단식 일정 마감 조선대 ...  \n",
              "3       서울시 신학기 시작 다음 고등학교 학년 무상급식 실시 서울 시내 고등학교 학년 대상...  \n",
              "4       미국인 선교사 우간다 의사 행세 의료 시설 운영 혐의 지역 시민 단체 주민 고소 원...  \n",
              "...                                                   ...  \n",
              "260692  두통 어지럼증 하루 이틀 정도 자연 증상 경우 신체 기관 중요 질환 전조 증상 간과...  \n",
              "260693  파주 최대 테마파크 퍼스트 가든 투바 캐릭터 라바 할로윈 페스티벌 사진 진행 이번 ...  \n",
              "260694  민원 난공사 완공 양산 아파트 인근 옹벽 보수 보강 공사 현장 경남 양산시 평산동 ...  \n",
              "260695  사단 법인 전국 자원 봉사 연맹 호국 보훈 일요일 대구 두류 공원 야외 음악당 진행...  \n",
              "260696  라이프 스타일 투자 플랫 디즈 서강대 학교 경영 전문 대학원 한국 전문 경영 컨설팅...  \n",
              "\n",
              "[260697 rows x 6 columns]"
            ],
            "text/html": [
              "\n",
              "  <div id=\"df-ccae6aed-182b-416b-a66e-9e3544d127f0\">\n",
              "    <div class=\"colab-df-container\">\n",
              "      <div>\n",
              "<style scoped>\n",
              "    .dataframe tbody tr th:only-of-type {\n",
              "        vertical-align: middle;\n",
              "    }\n",
              "\n",
              "    .dataframe tbody tr th {\n",
              "        vertical-align: top;\n",
              "    }\n",
              "\n",
              "    .dataframe thead th {\n",
              "        text-align: right;\n",
              "    }\n",
              "</style>\n",
              "<table border=\"1\" class=\"dataframe\">\n",
              "  <thead>\n",
              "    <tr style=\"text-align: right;\">\n",
              "      <th></th>\n",
              "      <th>media</th>\n",
              "      <th>id</th>\n",
              "      <th>article_original</th>\n",
              "      <th>abstractive</th>\n",
              "      <th>extractive</th>\n",
              "      <th>article_preprocessed</th>\n",
              "    </tr>\n",
              "  </thead>\n",
              "  <tbody>\n",
              "    <tr>\n",
              "      <th>0</th>\n",
              "      <td>부산일보</td>\n",
              "      <td>360972161</td>\n",
              "      <td>[지난해 고령화와 유례가 드문 겨울 한파 등 영향으로 우리나라 사망자 수가 통계 작...</td>\n",
              "      <td>통계청이 발표한 '2018년 사망원인통계'를 보면 지난해 총 사망자 수는 관련 통계...</td>\n",
              "      <td>[4, 11, 18]</td>\n",
              "      <td>지난해 고령화 유례 겨울 한파 영향 우리나라 사망자 통계 작성 이후 폐렴 치매 일종...</td>\n",
              "    </tr>\n",
              "    <tr>\n",
              "      <th>1</th>\n",
              "      <td>중도일보</td>\n",
              "      <td>356659913</td>\n",
              "      <td>[서산시의회(의장 임재관) 가충순·이수의 의원이 (사)한국지역신문협회에서 수여하는 ...</td>\n",
              "      <td>서산시 가충순 의원과 이수의 의원이 활발한 의정활동을 펼친 감사의 표시로 한국지역신...</td>\n",
              "      <td>[1, 3, 4]</td>\n",
              "      <td>서산시 의회 의장 임재 가충 이수 의원 한국 지역 신문협회 수여 우수 대상 가충 의...</td>\n",
              "    </tr>\n",
              "    <tr>\n",
              "      <th>2</th>\n",
              "      <td>무등일보</td>\n",
              "      <td>351718460</td>\n",
              "      <td>[지난 2004년 시작해 조선대 학생들의 대표적인 행사로 자리매김한 ‘조선대 국토대...</td>\n",
              "      <td>‘조선대의 새로운 비상을 꿈꾸다’를 슬로건으로 진행되어 단체생활을 통해 협동심과 ...</td>\n",
              "      <td>[0, 2, 4]</td>\n",
              "      <td>시작 조선대 학생 대표 행사 자리매김 조선대 국토 대장정 해단식 일정 마감 조선대 ...</td>\n",
              "    </tr>\n",
              "    <tr>\n",
              "      <th>3</th>\n",
              "      <td>이데일리</td>\n",
              "      <td>335868123</td>\n",
              "      <td>[서울시는 신학기가 시작되는 다음달 4일부터 고등학교 3학년 무상급식을 실시한다고 ...</td>\n",
              "      <td>서울시가 다음달 4일부터 서울 시내 319개 고등학교 3학년 8만4700명을 대상으...</td>\n",
              "      <td>[0, 1, 2]</td>\n",
              "      <td>서울시 신학기 시작 다음 고등학교 학년 무상급식 실시 서울 시내 고등학교 학년 대상...</td>\n",
              "    </tr>\n",
              "    <tr>\n",
              "      <th>4</th>\n",
              "      <td>서울신문</td>\n",
              "      <td>351443347</td>\n",
              "      <td>[미국인 선교사가 우간다에서 의사 행세를 하며 의료 시설을 운영한 혐의로 지역 시민...</td>\n",
              "      <td>미국인 선교사가 우간다에서 의사 행세를 하며 두 아이의 죽음과 관련돼 있다며 지역 ...</td>\n",
              "      <td>[0, 1, 2]</td>\n",
              "      <td>미국인 선교사 우간다 의사 행세 의료 시설 운영 혐의 지역 시민 단체 주민 고소 원...</td>\n",
              "    </tr>\n",
              "    <tr>\n",
              "      <th>...</th>\n",
              "      <td>...</td>\n",
              "      <td>...</td>\n",
              "      <td>...</td>\n",
              "      <td>...</td>\n",
              "      <td>...</td>\n",
              "      <td>...</td>\n",
              "    </tr>\n",
              "    <tr>\n",
              "      <th>260692</th>\n",
              "      <td>매일경제</td>\n",
              "      <td>353316985</td>\n",
              "      <td>[두통과 어지럼증은 우리에게 매우 익숙하다., 하루 이틀 정도만 참으면 자연스럽게 ...</td>\n",
              "      <td>두통과 어지럼증은 우리에게 매우 익숙한 증상이며, 이 두통은 크게 긴장성 두통, 혈...</td>\n",
              "      <td>[3, 12, 16]</td>\n",
              "      <td>두통 어지럼증 하루 이틀 정도 자연 증상 경우 신체 기관 중요 질환 전조 증상 간과...</td>\n",
              "    </tr>\n",
              "    <tr>\n",
              "      <th>260693</th>\n",
              "      <td>부산일보</td>\n",
              "      <td>360784906</td>\n",
              "      <td>[파주 최대 테마파크 퍼스트가든이 ㈜투바앤의 캐릭터 '라바'와 할로윈 페스티벌(사진...</td>\n",
              "      <td>파주 최대 테마파크 퍼스트가든이 오는 10월 12일부터 31일까지 가족들이 함께 즐...</td>\n",
              "      <td>[0, 4, 1]</td>\n",
              "      <td>파주 최대 테마파크 퍼스트 가든 투바 캐릭터 라바 할로윈 페스티벌 사진 진행 이번 ...</td>\n",
              "    </tr>\n",
              "    <tr>\n",
              "      <th>260694</th>\n",
              "      <td>부산일보</td>\n",
              "      <td>357253753</td>\n",
              "      <td>[민원과 난공사로 완공이 늦어지고 있는 양산시 한일아파트 인근 옹벽 보수·보강공사 ...</td>\n",
              "      <td>양산시는 지난해 10월부터 43억 원을 들여 진행 중인 한일아파트 뒤편 옹벽 보수·...</td>\n",
              "      <td>[4, 6, 7]</td>\n",
              "      <td>민원 난공사 완공 양산 아파트 인근 옹벽 보수 보강 공사 현장 경남 양산시 평산동 ...</td>\n",
              "    </tr>\n",
              "    <tr>\n",
              "      <th>260695</th>\n",
              "      <td>매일신문</td>\n",
              "      <td>347655953</td>\n",
              "      <td>[사단법인 전국자원봉사연맹이 호국보훈의 달을 맞이하여, 오는 2019년 6월 23일...</td>\n",
              "      <td>국가를 위해 헌신한 분들의 숭고한 희생을 기리고, 유가족 들을 위로하기 위해 열리는...</td>\n",
              "      <td>[0, 1, 2]</td>\n",
              "      <td>사단 법인 전국 자원 봉사 연맹 호국 보훈 일요일 대구 두류 공원 야외 음악당 진행...</td>\n",
              "    </tr>\n",
              "    <tr>\n",
              "      <th>260696</th>\n",
              "      <td>아시아경제</td>\n",
              "      <td>369524558</td>\n",
              "      <td>[라이프스타일 투자플랫폼 와디즈는 서강대학교 경영전문대학원, 한국전문경영컨설팅과 함...</td>\n",
              "      <td>지난 4일 라이프스타일 투자플랫롬 와디즈는 스타트업 투자 시장에서의 자금 조달 수요...</td>\n",
              "      <td>[0, 1, 2]</td>\n",
              "      <td>라이프 스타일 투자 플랫 디즈 서강대 학교 경영 전문 대학원 한국 전문 경영 컨설팅...</td>\n",
              "    </tr>\n",
              "  </tbody>\n",
              "</table>\n",
              "<p>260697 rows × 6 columns</p>\n",
              "</div>\n",
              "      <button class=\"colab-df-convert\" onclick=\"convertToInteractive('df-ccae6aed-182b-416b-a66e-9e3544d127f0')\"\n",
              "              title=\"Convert this dataframe to an interactive table.\"\n",
              "              style=\"display:none;\">\n",
              "        \n",
              "  <svg xmlns=\"http://www.w3.org/2000/svg\" height=\"24px\"viewBox=\"0 0 24 24\"\n",
              "       width=\"24px\">\n",
              "    <path d=\"M0 0h24v24H0V0z\" fill=\"none\"/>\n",
              "    <path d=\"M18.56 5.44l.94 2.06.94-2.06 2.06-.94-2.06-.94-.94-2.06-.94 2.06-2.06.94zm-11 1L8.5 8.5l.94-2.06 2.06-.94-2.06-.94L8.5 2.5l-.94 2.06-2.06.94zm10 10l.94 2.06.94-2.06 2.06-.94-2.06-.94-.94-2.06-.94 2.06-2.06.94z\"/><path d=\"M17.41 7.96l-1.37-1.37c-.4-.4-.92-.59-1.43-.59-.52 0-1.04.2-1.43.59L10.3 9.45l-7.72 7.72c-.78.78-.78 2.05 0 2.83L4 21.41c.39.39.9.59 1.41.59.51 0 1.02-.2 1.41-.59l7.78-7.78 2.81-2.81c.8-.78.8-2.07 0-2.86zM5.41 20L4 18.59l7.72-7.72 1.47 1.35L5.41 20z\"/>\n",
              "  </svg>\n",
              "      </button>\n",
              "      \n",
              "  <style>\n",
              "    .colab-df-container {\n",
              "      display:flex;\n",
              "      flex-wrap:wrap;\n",
              "      gap: 12px;\n",
              "    }\n",
              "\n",
              "    .colab-df-convert {\n",
              "      background-color: #E8F0FE;\n",
              "      border: none;\n",
              "      border-radius: 50%;\n",
              "      cursor: pointer;\n",
              "      display: none;\n",
              "      fill: #1967D2;\n",
              "      height: 32px;\n",
              "      padding: 0 0 0 0;\n",
              "      width: 32px;\n",
              "    }\n",
              "\n",
              "    .colab-df-convert:hover {\n",
              "      background-color: #E2EBFA;\n",
              "      box-shadow: 0px 1px 2px rgba(60, 64, 67, 0.3), 0px 1px 3px 1px rgba(60, 64, 67, 0.15);\n",
              "      fill: #174EA6;\n",
              "    }\n",
              "\n",
              "    [theme=dark] .colab-df-convert {\n",
              "      background-color: #3B4455;\n",
              "      fill: #D2E3FC;\n",
              "    }\n",
              "\n",
              "    [theme=dark] .colab-df-convert:hover {\n",
              "      background-color: #434B5C;\n",
              "      box-shadow: 0px 1px 3px 1px rgba(0, 0, 0, 0.15);\n",
              "      filter: drop-shadow(0px 1px 2px rgba(0, 0, 0, 0.3));\n",
              "      fill: #FFFFFF;\n",
              "    }\n",
              "  </style>\n",
              "\n",
              "      <script>\n",
              "        const buttonEl =\n",
              "          document.querySelector('#df-ccae6aed-182b-416b-a66e-9e3544d127f0 button.colab-df-convert');\n",
              "        buttonEl.style.display =\n",
              "          google.colab.kernel.accessAllowed ? 'block' : 'none';\n",
              "\n",
              "        async function convertToInteractive(key) {\n",
              "          const element = document.querySelector('#df-ccae6aed-182b-416b-a66e-9e3544d127f0');\n",
              "          const dataTable =\n",
              "            await google.colab.kernel.invokeFunction('convertToInteractive',\n",
              "                                                     [key], {});\n",
              "          if (!dataTable) return;\n",
              "\n",
              "          const docLinkHtml = 'Like what you see? Visit the ' +\n",
              "            '<a target=\"_blank\" href=https://colab.research.google.com/notebooks/data_table.ipynb>data table notebook</a>'\n",
              "            + ' to learn more about interactive tables.';\n",
              "          element.innerHTML = '';\n",
              "          dataTable['output_type'] = 'display_data';\n",
              "          await google.colab.output.renderOutput(dataTable, element);\n",
              "          const docLink = document.createElement('div');\n",
              "          docLink.innerHTML = docLinkHtml;\n",
              "          element.appendChild(docLink);\n",
              "        }\n",
              "      </script>\n",
              "    </div>\n",
              "  </div>\n",
              "  "
            ]
          },
          "metadata": {},
          "execution_count": 16
        }
      ]
    },
    {
      "cell_type": "code",
      "source": [
        "# 전처리 완료된 데이터프레임을 피클파일로 저장\n",
        "df_news.to_pickle('./news_tokenized.pickle')\n",
        "df_news"
      ],
      "metadata": {
        "colab": {
          "base_uri": "https://localhost:8080/",
          "height": 849
        },
        "id": "RclFqz6-RZ5K",
        "outputId": "2c279da9-4812-44a8-de31-b515ac41bf14"
      },
      "execution_count": 17,
      "outputs": [
        {
          "output_type": "execute_result",
          "data": {
            "text/plain": [
              "        media         id                                   article_original  \\\n",
              "0        부산일보  360972161  [지난해 고령화와 유례가 드문 겨울 한파 등 영향으로 우리나라 사망자 수가 통계 작...   \n",
              "1        중도일보  356659913  [서산시의회(의장 임재관) 가충순·이수의 의원이 (사)한국지역신문협회에서 수여하는 ...   \n",
              "2        무등일보  351718460  [지난 2004년 시작해 조선대 학생들의 대표적인 행사로 자리매김한 ‘조선대 국토대...   \n",
              "3        이데일리  335868123  [서울시는 신학기가 시작되는 다음달 4일부터 고등학교 3학년 무상급식을 실시한다고 ...   \n",
              "4        서울신문  351443347  [미국인 선교사가 우간다에서 의사 행세를 하며 의료 시설을 운영한 혐의로 지역 시민...   \n",
              "...       ...        ...                                                ...   \n",
              "260692   매일경제  353316985  [두통과 어지럼증은 우리에게 매우 익숙하다., 하루 이틀 정도만 참으면 자연스럽게 ...   \n",
              "260693   부산일보  360784906  [파주 최대 테마파크 퍼스트가든이 ㈜투바앤의 캐릭터 '라바'와 할로윈 페스티벌(사진...   \n",
              "260694   부산일보  357253753  [민원과 난공사로 완공이 늦어지고 있는 양산시 한일아파트 인근 옹벽 보수·보강공사 ...   \n",
              "260695   매일신문  347655953  [사단법인 전국자원봉사연맹이 호국보훈의 달을 맞이하여, 오는 2019년 6월 23일...   \n",
              "260696  아시아경제  369524558  [라이프스타일 투자플랫폼 와디즈는 서강대학교 경영전문대학원, 한국전문경영컨설팅과 함...   \n",
              "\n",
              "                                              abstractive   extractive  \\\n",
              "0       통계청이 발표한 '2018년 사망원인통계'를 보면 지난해 총 사망자 수는 관련 통계...  [4, 11, 18]   \n",
              "1       서산시 가충순 의원과 이수의 의원이 활발한 의정활동을 펼친 감사의 표시로 한국지역신...    [1, 3, 4]   \n",
              "2        ‘조선대의 새로운 비상을 꿈꾸다’를 슬로건으로 진행되어 단체생활을 통해 협동심과 ...    [0, 2, 4]   \n",
              "3       서울시가 다음달 4일부터 서울 시내 319개 고등학교 3학년 8만4700명을 대상으...    [0, 1, 2]   \n",
              "4       미국인 선교사가 우간다에서 의사 행세를 하며 두 아이의 죽음과 관련돼 있다며 지역 ...    [0, 1, 2]   \n",
              "...                                                   ...          ...   \n",
              "260692  두통과 어지럼증은 우리에게 매우 익숙한 증상이며, 이 두통은 크게 긴장성 두통, 혈...  [3, 12, 16]   \n",
              "260693  파주 최대 테마파크 퍼스트가든이 오는 10월 12일부터 31일까지 가족들이 함께 즐...    [0, 4, 1]   \n",
              "260694  양산시는 지난해 10월부터 43억 원을 들여 진행 중인 한일아파트 뒤편 옹벽 보수·...    [4, 6, 7]   \n",
              "260695  국가를 위해 헌신한 분들의 숭고한 희생을 기리고, 유가족 들을 위로하기 위해 열리는...    [0, 1, 2]   \n",
              "260696  지난 4일 라이프스타일 투자플랫롬 와디즈는 스타트업 투자 시장에서의 자금 조달 수요...    [0, 1, 2]   \n",
              "\n",
              "                                     article_preprocessed  \n",
              "0       지난해 고령화 유례 겨울 한파 영향 우리나라 사망자 통계 작성 이후 폐렴 치매 일종...  \n",
              "1       서산시 의회 의장 임재 가충 이수 의원 한국 지역 신문협회 수여 우수 대상 가충 의...  \n",
              "2       시작 조선대 학생 대표 행사 자리매김 조선대 국토 대장정 해단식 일정 마감 조선대 ...  \n",
              "3       서울시 신학기 시작 다음 고등학교 학년 무상급식 실시 서울 시내 고등학교 학년 대상...  \n",
              "4       미국인 선교사 우간다 의사 행세 의료 시설 운영 혐의 지역 시민 단체 주민 고소 원...  \n",
              "...                                                   ...  \n",
              "260692  두통 어지럼증 하루 이틀 정도 자연 증상 경우 신체 기관 중요 질환 전조 증상 간과...  \n",
              "260693  파주 최대 테마파크 퍼스트 가든 투바 캐릭터 라바 할로윈 페스티벌 사진 진행 이번 ...  \n",
              "260694  민원 난공사 완공 양산 아파트 인근 옹벽 보수 보강 공사 현장 경남 양산시 평산동 ...  \n",
              "260695  사단 법인 전국 자원 봉사 연맹 호국 보훈 일요일 대구 두류 공원 야외 음악당 진행...  \n",
              "260696  라이프 스타일 투자 플랫 디즈 서강대 학교 경영 전문 대학원 한국 전문 경영 컨설팅...  \n",
              "\n",
              "[260697 rows x 6 columns]"
            ],
            "text/html": [
              "\n",
              "  <div id=\"df-6e2d2f13-b84b-4dd6-a031-b66b0d6317e9\">\n",
              "    <div class=\"colab-df-container\">\n",
              "      <div>\n",
              "<style scoped>\n",
              "    .dataframe tbody tr th:only-of-type {\n",
              "        vertical-align: middle;\n",
              "    }\n",
              "\n",
              "    .dataframe tbody tr th {\n",
              "        vertical-align: top;\n",
              "    }\n",
              "\n",
              "    .dataframe thead th {\n",
              "        text-align: right;\n",
              "    }\n",
              "</style>\n",
              "<table border=\"1\" class=\"dataframe\">\n",
              "  <thead>\n",
              "    <tr style=\"text-align: right;\">\n",
              "      <th></th>\n",
              "      <th>media</th>\n",
              "      <th>id</th>\n",
              "      <th>article_original</th>\n",
              "      <th>abstractive</th>\n",
              "      <th>extractive</th>\n",
              "      <th>article_preprocessed</th>\n",
              "    </tr>\n",
              "  </thead>\n",
              "  <tbody>\n",
              "    <tr>\n",
              "      <th>0</th>\n",
              "      <td>부산일보</td>\n",
              "      <td>360972161</td>\n",
              "      <td>[지난해 고령화와 유례가 드문 겨울 한파 등 영향으로 우리나라 사망자 수가 통계 작...</td>\n",
              "      <td>통계청이 발표한 '2018년 사망원인통계'를 보면 지난해 총 사망자 수는 관련 통계...</td>\n",
              "      <td>[4, 11, 18]</td>\n",
              "      <td>지난해 고령화 유례 겨울 한파 영향 우리나라 사망자 통계 작성 이후 폐렴 치매 일종...</td>\n",
              "    </tr>\n",
              "    <tr>\n",
              "      <th>1</th>\n",
              "      <td>중도일보</td>\n",
              "      <td>356659913</td>\n",
              "      <td>[서산시의회(의장 임재관) 가충순·이수의 의원이 (사)한국지역신문협회에서 수여하는 ...</td>\n",
              "      <td>서산시 가충순 의원과 이수의 의원이 활발한 의정활동을 펼친 감사의 표시로 한국지역신...</td>\n",
              "      <td>[1, 3, 4]</td>\n",
              "      <td>서산시 의회 의장 임재 가충 이수 의원 한국 지역 신문협회 수여 우수 대상 가충 의...</td>\n",
              "    </tr>\n",
              "    <tr>\n",
              "      <th>2</th>\n",
              "      <td>무등일보</td>\n",
              "      <td>351718460</td>\n",
              "      <td>[지난 2004년 시작해 조선대 학생들의 대표적인 행사로 자리매김한 ‘조선대 국토대...</td>\n",
              "      <td>‘조선대의 새로운 비상을 꿈꾸다’를 슬로건으로 진행되어 단체생활을 통해 협동심과 ...</td>\n",
              "      <td>[0, 2, 4]</td>\n",
              "      <td>시작 조선대 학생 대표 행사 자리매김 조선대 국토 대장정 해단식 일정 마감 조선대 ...</td>\n",
              "    </tr>\n",
              "    <tr>\n",
              "      <th>3</th>\n",
              "      <td>이데일리</td>\n",
              "      <td>335868123</td>\n",
              "      <td>[서울시는 신학기가 시작되는 다음달 4일부터 고등학교 3학년 무상급식을 실시한다고 ...</td>\n",
              "      <td>서울시가 다음달 4일부터 서울 시내 319개 고등학교 3학년 8만4700명을 대상으...</td>\n",
              "      <td>[0, 1, 2]</td>\n",
              "      <td>서울시 신학기 시작 다음 고등학교 학년 무상급식 실시 서울 시내 고등학교 학년 대상...</td>\n",
              "    </tr>\n",
              "    <tr>\n",
              "      <th>4</th>\n",
              "      <td>서울신문</td>\n",
              "      <td>351443347</td>\n",
              "      <td>[미국인 선교사가 우간다에서 의사 행세를 하며 의료 시설을 운영한 혐의로 지역 시민...</td>\n",
              "      <td>미국인 선교사가 우간다에서 의사 행세를 하며 두 아이의 죽음과 관련돼 있다며 지역 ...</td>\n",
              "      <td>[0, 1, 2]</td>\n",
              "      <td>미국인 선교사 우간다 의사 행세 의료 시설 운영 혐의 지역 시민 단체 주민 고소 원...</td>\n",
              "    </tr>\n",
              "    <tr>\n",
              "      <th>...</th>\n",
              "      <td>...</td>\n",
              "      <td>...</td>\n",
              "      <td>...</td>\n",
              "      <td>...</td>\n",
              "      <td>...</td>\n",
              "      <td>...</td>\n",
              "    </tr>\n",
              "    <tr>\n",
              "      <th>260692</th>\n",
              "      <td>매일경제</td>\n",
              "      <td>353316985</td>\n",
              "      <td>[두통과 어지럼증은 우리에게 매우 익숙하다., 하루 이틀 정도만 참으면 자연스럽게 ...</td>\n",
              "      <td>두통과 어지럼증은 우리에게 매우 익숙한 증상이며, 이 두통은 크게 긴장성 두통, 혈...</td>\n",
              "      <td>[3, 12, 16]</td>\n",
              "      <td>두통 어지럼증 하루 이틀 정도 자연 증상 경우 신체 기관 중요 질환 전조 증상 간과...</td>\n",
              "    </tr>\n",
              "    <tr>\n",
              "      <th>260693</th>\n",
              "      <td>부산일보</td>\n",
              "      <td>360784906</td>\n",
              "      <td>[파주 최대 테마파크 퍼스트가든이 ㈜투바앤의 캐릭터 '라바'와 할로윈 페스티벌(사진...</td>\n",
              "      <td>파주 최대 테마파크 퍼스트가든이 오는 10월 12일부터 31일까지 가족들이 함께 즐...</td>\n",
              "      <td>[0, 4, 1]</td>\n",
              "      <td>파주 최대 테마파크 퍼스트 가든 투바 캐릭터 라바 할로윈 페스티벌 사진 진행 이번 ...</td>\n",
              "    </tr>\n",
              "    <tr>\n",
              "      <th>260694</th>\n",
              "      <td>부산일보</td>\n",
              "      <td>357253753</td>\n",
              "      <td>[민원과 난공사로 완공이 늦어지고 있는 양산시 한일아파트 인근 옹벽 보수·보강공사 ...</td>\n",
              "      <td>양산시는 지난해 10월부터 43억 원을 들여 진행 중인 한일아파트 뒤편 옹벽 보수·...</td>\n",
              "      <td>[4, 6, 7]</td>\n",
              "      <td>민원 난공사 완공 양산 아파트 인근 옹벽 보수 보강 공사 현장 경남 양산시 평산동 ...</td>\n",
              "    </tr>\n",
              "    <tr>\n",
              "      <th>260695</th>\n",
              "      <td>매일신문</td>\n",
              "      <td>347655953</td>\n",
              "      <td>[사단법인 전국자원봉사연맹이 호국보훈의 달을 맞이하여, 오는 2019년 6월 23일...</td>\n",
              "      <td>국가를 위해 헌신한 분들의 숭고한 희생을 기리고, 유가족 들을 위로하기 위해 열리는...</td>\n",
              "      <td>[0, 1, 2]</td>\n",
              "      <td>사단 법인 전국 자원 봉사 연맹 호국 보훈 일요일 대구 두류 공원 야외 음악당 진행...</td>\n",
              "    </tr>\n",
              "    <tr>\n",
              "      <th>260696</th>\n",
              "      <td>아시아경제</td>\n",
              "      <td>369524558</td>\n",
              "      <td>[라이프스타일 투자플랫폼 와디즈는 서강대학교 경영전문대학원, 한국전문경영컨설팅과 함...</td>\n",
              "      <td>지난 4일 라이프스타일 투자플랫롬 와디즈는 스타트업 투자 시장에서의 자금 조달 수요...</td>\n",
              "      <td>[0, 1, 2]</td>\n",
              "      <td>라이프 스타일 투자 플랫 디즈 서강대 학교 경영 전문 대학원 한국 전문 경영 컨설팅...</td>\n",
              "    </tr>\n",
              "  </tbody>\n",
              "</table>\n",
              "<p>260697 rows × 6 columns</p>\n",
              "</div>\n",
              "      <button class=\"colab-df-convert\" onclick=\"convertToInteractive('df-6e2d2f13-b84b-4dd6-a031-b66b0d6317e9')\"\n",
              "              title=\"Convert this dataframe to an interactive table.\"\n",
              "              style=\"display:none;\">\n",
              "        \n",
              "  <svg xmlns=\"http://www.w3.org/2000/svg\" height=\"24px\"viewBox=\"0 0 24 24\"\n",
              "       width=\"24px\">\n",
              "    <path d=\"M0 0h24v24H0V0z\" fill=\"none\"/>\n",
              "    <path d=\"M18.56 5.44l.94 2.06.94-2.06 2.06-.94-2.06-.94-.94-2.06-.94 2.06-2.06.94zm-11 1L8.5 8.5l.94-2.06 2.06-.94-2.06-.94L8.5 2.5l-.94 2.06-2.06.94zm10 10l.94 2.06.94-2.06 2.06-.94-2.06-.94-.94-2.06-.94 2.06-2.06.94z\"/><path d=\"M17.41 7.96l-1.37-1.37c-.4-.4-.92-.59-1.43-.59-.52 0-1.04.2-1.43.59L10.3 9.45l-7.72 7.72c-.78.78-.78 2.05 0 2.83L4 21.41c.39.39.9.59 1.41.59.51 0 1.02-.2 1.41-.59l7.78-7.78 2.81-2.81c.8-.78.8-2.07 0-2.86zM5.41 20L4 18.59l7.72-7.72 1.47 1.35L5.41 20z\"/>\n",
              "  </svg>\n",
              "      </button>\n",
              "      \n",
              "  <style>\n",
              "    .colab-df-container {\n",
              "      display:flex;\n",
              "      flex-wrap:wrap;\n",
              "      gap: 12px;\n",
              "    }\n",
              "\n",
              "    .colab-df-convert {\n",
              "      background-color: #E8F0FE;\n",
              "      border: none;\n",
              "      border-radius: 50%;\n",
              "      cursor: pointer;\n",
              "      display: none;\n",
              "      fill: #1967D2;\n",
              "      height: 32px;\n",
              "      padding: 0 0 0 0;\n",
              "      width: 32px;\n",
              "    }\n",
              "\n",
              "    .colab-df-convert:hover {\n",
              "      background-color: #E2EBFA;\n",
              "      box-shadow: 0px 1px 2px rgba(60, 64, 67, 0.3), 0px 1px 3px 1px rgba(60, 64, 67, 0.15);\n",
              "      fill: #174EA6;\n",
              "    }\n",
              "\n",
              "    [theme=dark] .colab-df-convert {\n",
              "      background-color: #3B4455;\n",
              "      fill: #D2E3FC;\n",
              "    }\n",
              "\n",
              "    [theme=dark] .colab-df-convert:hover {\n",
              "      background-color: #434B5C;\n",
              "      box-shadow: 0px 1px 3px 1px rgba(0, 0, 0, 0.15);\n",
              "      filter: drop-shadow(0px 1px 2px rgba(0, 0, 0, 0.3));\n",
              "      fill: #FFFFFF;\n",
              "    }\n",
              "  </style>\n",
              "\n",
              "      <script>\n",
              "        const buttonEl =\n",
              "          document.querySelector('#df-6e2d2f13-b84b-4dd6-a031-b66b0d6317e9 button.colab-df-convert');\n",
              "        buttonEl.style.display =\n",
              "          google.colab.kernel.accessAllowed ? 'block' : 'none';\n",
              "\n",
              "        async function convertToInteractive(key) {\n",
              "          const element = document.querySelector('#df-6e2d2f13-b84b-4dd6-a031-b66b0d6317e9');\n",
              "          const dataTable =\n",
              "            await google.colab.kernel.invokeFunction('convertToInteractive',\n",
              "                                                     [key], {});\n",
              "          if (!dataTable) return;\n",
              "\n",
              "          const docLinkHtml = 'Like what you see? Visit the ' +\n",
              "            '<a target=\"_blank\" href=https://colab.research.google.com/notebooks/data_table.ipynb>data table notebook</a>'\n",
              "            + ' to learn more about interactive tables.';\n",
              "          element.innerHTML = '';\n",
              "          dataTable['output_type'] = 'display_data';\n",
              "          await google.colab.output.renderOutput(dataTable, element);\n",
              "          const docLink = document.createElement('div');\n",
              "          docLink.innerHTML = docLinkHtml;\n",
              "          element.appendChild(docLink);\n",
              "        }\n",
              "      </script>\n",
              "    </div>\n",
              "  </div>\n",
              "  "
            ]
          },
          "metadata": {},
          "execution_count": 17
        }
      ]
    },
    {
      "cell_type": "code",
      "source": [
        "df_news = pd.read_pickle('./news_tokenized.pickle')\n",
        "df_news"
      ],
      "metadata": {
        "colab": {
          "base_uri": "https://localhost:8080/",
          "height": 849
        },
        "id": "yVVTFZZoRtQ2",
        "outputId": "b403b217-d15f-43bd-feeb-c1a798c28926"
      },
      "execution_count": 18,
      "outputs": [
        {
          "output_type": "execute_result",
          "data": {
            "text/plain": [
              "        media         id                                   article_original  \\\n",
              "0        부산일보  360972161  [지난해 고령화와 유례가 드문 겨울 한파 등 영향으로 우리나라 사망자 수가 통계 작...   \n",
              "1        중도일보  356659913  [서산시의회(의장 임재관) 가충순·이수의 의원이 (사)한국지역신문협회에서 수여하는 ...   \n",
              "2        무등일보  351718460  [지난 2004년 시작해 조선대 학생들의 대표적인 행사로 자리매김한 ‘조선대 국토대...   \n",
              "3        이데일리  335868123  [서울시는 신학기가 시작되는 다음달 4일부터 고등학교 3학년 무상급식을 실시한다고 ...   \n",
              "4        서울신문  351443347  [미국인 선교사가 우간다에서 의사 행세를 하며 의료 시설을 운영한 혐의로 지역 시민...   \n",
              "...       ...        ...                                                ...   \n",
              "260692   매일경제  353316985  [두통과 어지럼증은 우리에게 매우 익숙하다., 하루 이틀 정도만 참으면 자연스럽게 ...   \n",
              "260693   부산일보  360784906  [파주 최대 테마파크 퍼스트가든이 ㈜투바앤의 캐릭터 '라바'와 할로윈 페스티벌(사진...   \n",
              "260694   부산일보  357253753  [민원과 난공사로 완공이 늦어지고 있는 양산시 한일아파트 인근 옹벽 보수·보강공사 ...   \n",
              "260695   매일신문  347655953  [사단법인 전국자원봉사연맹이 호국보훈의 달을 맞이하여, 오는 2019년 6월 23일...   \n",
              "260696  아시아경제  369524558  [라이프스타일 투자플랫폼 와디즈는 서강대학교 경영전문대학원, 한국전문경영컨설팅과 함...   \n",
              "\n",
              "                                              abstractive   extractive  \\\n",
              "0       통계청이 발표한 '2018년 사망원인통계'를 보면 지난해 총 사망자 수는 관련 통계...  [4, 11, 18]   \n",
              "1       서산시 가충순 의원과 이수의 의원이 활발한 의정활동을 펼친 감사의 표시로 한국지역신...    [1, 3, 4]   \n",
              "2        ‘조선대의 새로운 비상을 꿈꾸다’를 슬로건으로 진행되어 단체생활을 통해 협동심과 ...    [0, 2, 4]   \n",
              "3       서울시가 다음달 4일부터 서울 시내 319개 고등학교 3학년 8만4700명을 대상으...    [0, 1, 2]   \n",
              "4       미국인 선교사가 우간다에서 의사 행세를 하며 두 아이의 죽음과 관련돼 있다며 지역 ...    [0, 1, 2]   \n",
              "...                                                   ...          ...   \n",
              "260692  두통과 어지럼증은 우리에게 매우 익숙한 증상이며, 이 두통은 크게 긴장성 두통, 혈...  [3, 12, 16]   \n",
              "260693  파주 최대 테마파크 퍼스트가든이 오는 10월 12일부터 31일까지 가족들이 함께 즐...    [0, 4, 1]   \n",
              "260694  양산시는 지난해 10월부터 43억 원을 들여 진행 중인 한일아파트 뒤편 옹벽 보수·...    [4, 6, 7]   \n",
              "260695  국가를 위해 헌신한 분들의 숭고한 희생을 기리고, 유가족 들을 위로하기 위해 열리는...    [0, 1, 2]   \n",
              "260696  지난 4일 라이프스타일 투자플랫롬 와디즈는 스타트업 투자 시장에서의 자금 조달 수요...    [0, 1, 2]   \n",
              "\n",
              "                                     article_preprocessed  \n",
              "0       지난해 고령화 유례 겨울 한파 영향 우리나라 사망자 통계 작성 이후 폐렴 치매 일종...  \n",
              "1       서산시 의회 의장 임재 가충 이수 의원 한국 지역 신문협회 수여 우수 대상 가충 의...  \n",
              "2       시작 조선대 학생 대표 행사 자리매김 조선대 국토 대장정 해단식 일정 마감 조선대 ...  \n",
              "3       서울시 신학기 시작 다음 고등학교 학년 무상급식 실시 서울 시내 고등학교 학년 대상...  \n",
              "4       미국인 선교사 우간다 의사 행세 의료 시설 운영 혐의 지역 시민 단체 주민 고소 원...  \n",
              "...                                                   ...  \n",
              "260692  두통 어지럼증 하루 이틀 정도 자연 증상 경우 신체 기관 중요 질환 전조 증상 간과...  \n",
              "260693  파주 최대 테마파크 퍼스트 가든 투바 캐릭터 라바 할로윈 페스티벌 사진 진행 이번 ...  \n",
              "260694  민원 난공사 완공 양산 아파트 인근 옹벽 보수 보강 공사 현장 경남 양산시 평산동 ...  \n",
              "260695  사단 법인 전국 자원 봉사 연맹 호국 보훈 일요일 대구 두류 공원 야외 음악당 진행...  \n",
              "260696  라이프 스타일 투자 플랫 디즈 서강대 학교 경영 전문 대학원 한국 전문 경영 컨설팅...  \n",
              "\n",
              "[260697 rows x 6 columns]"
            ],
            "text/html": [
              "\n",
              "  <div id=\"df-2d60c012-3a55-4458-bf63-46bfd993da5b\">\n",
              "    <div class=\"colab-df-container\">\n",
              "      <div>\n",
              "<style scoped>\n",
              "    .dataframe tbody tr th:only-of-type {\n",
              "        vertical-align: middle;\n",
              "    }\n",
              "\n",
              "    .dataframe tbody tr th {\n",
              "        vertical-align: top;\n",
              "    }\n",
              "\n",
              "    .dataframe thead th {\n",
              "        text-align: right;\n",
              "    }\n",
              "</style>\n",
              "<table border=\"1\" class=\"dataframe\">\n",
              "  <thead>\n",
              "    <tr style=\"text-align: right;\">\n",
              "      <th></th>\n",
              "      <th>media</th>\n",
              "      <th>id</th>\n",
              "      <th>article_original</th>\n",
              "      <th>abstractive</th>\n",
              "      <th>extractive</th>\n",
              "      <th>article_preprocessed</th>\n",
              "    </tr>\n",
              "  </thead>\n",
              "  <tbody>\n",
              "    <tr>\n",
              "      <th>0</th>\n",
              "      <td>부산일보</td>\n",
              "      <td>360972161</td>\n",
              "      <td>[지난해 고령화와 유례가 드문 겨울 한파 등 영향으로 우리나라 사망자 수가 통계 작...</td>\n",
              "      <td>통계청이 발표한 '2018년 사망원인통계'를 보면 지난해 총 사망자 수는 관련 통계...</td>\n",
              "      <td>[4, 11, 18]</td>\n",
              "      <td>지난해 고령화 유례 겨울 한파 영향 우리나라 사망자 통계 작성 이후 폐렴 치매 일종...</td>\n",
              "    </tr>\n",
              "    <tr>\n",
              "      <th>1</th>\n",
              "      <td>중도일보</td>\n",
              "      <td>356659913</td>\n",
              "      <td>[서산시의회(의장 임재관) 가충순·이수의 의원이 (사)한국지역신문협회에서 수여하는 ...</td>\n",
              "      <td>서산시 가충순 의원과 이수의 의원이 활발한 의정활동을 펼친 감사의 표시로 한국지역신...</td>\n",
              "      <td>[1, 3, 4]</td>\n",
              "      <td>서산시 의회 의장 임재 가충 이수 의원 한국 지역 신문협회 수여 우수 대상 가충 의...</td>\n",
              "    </tr>\n",
              "    <tr>\n",
              "      <th>2</th>\n",
              "      <td>무등일보</td>\n",
              "      <td>351718460</td>\n",
              "      <td>[지난 2004년 시작해 조선대 학생들의 대표적인 행사로 자리매김한 ‘조선대 국토대...</td>\n",
              "      <td>‘조선대의 새로운 비상을 꿈꾸다’를 슬로건으로 진행되어 단체생활을 통해 협동심과 ...</td>\n",
              "      <td>[0, 2, 4]</td>\n",
              "      <td>시작 조선대 학생 대표 행사 자리매김 조선대 국토 대장정 해단식 일정 마감 조선대 ...</td>\n",
              "    </tr>\n",
              "    <tr>\n",
              "      <th>3</th>\n",
              "      <td>이데일리</td>\n",
              "      <td>335868123</td>\n",
              "      <td>[서울시는 신학기가 시작되는 다음달 4일부터 고등학교 3학년 무상급식을 실시한다고 ...</td>\n",
              "      <td>서울시가 다음달 4일부터 서울 시내 319개 고등학교 3학년 8만4700명을 대상으...</td>\n",
              "      <td>[0, 1, 2]</td>\n",
              "      <td>서울시 신학기 시작 다음 고등학교 학년 무상급식 실시 서울 시내 고등학교 학년 대상...</td>\n",
              "    </tr>\n",
              "    <tr>\n",
              "      <th>4</th>\n",
              "      <td>서울신문</td>\n",
              "      <td>351443347</td>\n",
              "      <td>[미국인 선교사가 우간다에서 의사 행세를 하며 의료 시설을 운영한 혐의로 지역 시민...</td>\n",
              "      <td>미국인 선교사가 우간다에서 의사 행세를 하며 두 아이의 죽음과 관련돼 있다며 지역 ...</td>\n",
              "      <td>[0, 1, 2]</td>\n",
              "      <td>미국인 선교사 우간다 의사 행세 의료 시설 운영 혐의 지역 시민 단체 주민 고소 원...</td>\n",
              "    </tr>\n",
              "    <tr>\n",
              "      <th>...</th>\n",
              "      <td>...</td>\n",
              "      <td>...</td>\n",
              "      <td>...</td>\n",
              "      <td>...</td>\n",
              "      <td>...</td>\n",
              "      <td>...</td>\n",
              "    </tr>\n",
              "    <tr>\n",
              "      <th>260692</th>\n",
              "      <td>매일경제</td>\n",
              "      <td>353316985</td>\n",
              "      <td>[두통과 어지럼증은 우리에게 매우 익숙하다., 하루 이틀 정도만 참으면 자연스럽게 ...</td>\n",
              "      <td>두통과 어지럼증은 우리에게 매우 익숙한 증상이며, 이 두통은 크게 긴장성 두통, 혈...</td>\n",
              "      <td>[3, 12, 16]</td>\n",
              "      <td>두통 어지럼증 하루 이틀 정도 자연 증상 경우 신체 기관 중요 질환 전조 증상 간과...</td>\n",
              "    </tr>\n",
              "    <tr>\n",
              "      <th>260693</th>\n",
              "      <td>부산일보</td>\n",
              "      <td>360784906</td>\n",
              "      <td>[파주 최대 테마파크 퍼스트가든이 ㈜투바앤의 캐릭터 '라바'와 할로윈 페스티벌(사진...</td>\n",
              "      <td>파주 최대 테마파크 퍼스트가든이 오는 10월 12일부터 31일까지 가족들이 함께 즐...</td>\n",
              "      <td>[0, 4, 1]</td>\n",
              "      <td>파주 최대 테마파크 퍼스트 가든 투바 캐릭터 라바 할로윈 페스티벌 사진 진행 이번 ...</td>\n",
              "    </tr>\n",
              "    <tr>\n",
              "      <th>260694</th>\n",
              "      <td>부산일보</td>\n",
              "      <td>357253753</td>\n",
              "      <td>[민원과 난공사로 완공이 늦어지고 있는 양산시 한일아파트 인근 옹벽 보수·보강공사 ...</td>\n",
              "      <td>양산시는 지난해 10월부터 43억 원을 들여 진행 중인 한일아파트 뒤편 옹벽 보수·...</td>\n",
              "      <td>[4, 6, 7]</td>\n",
              "      <td>민원 난공사 완공 양산 아파트 인근 옹벽 보수 보강 공사 현장 경남 양산시 평산동 ...</td>\n",
              "    </tr>\n",
              "    <tr>\n",
              "      <th>260695</th>\n",
              "      <td>매일신문</td>\n",
              "      <td>347655953</td>\n",
              "      <td>[사단법인 전국자원봉사연맹이 호국보훈의 달을 맞이하여, 오는 2019년 6월 23일...</td>\n",
              "      <td>국가를 위해 헌신한 분들의 숭고한 희생을 기리고, 유가족 들을 위로하기 위해 열리는...</td>\n",
              "      <td>[0, 1, 2]</td>\n",
              "      <td>사단 법인 전국 자원 봉사 연맹 호국 보훈 일요일 대구 두류 공원 야외 음악당 진행...</td>\n",
              "    </tr>\n",
              "    <tr>\n",
              "      <th>260696</th>\n",
              "      <td>아시아경제</td>\n",
              "      <td>369524558</td>\n",
              "      <td>[라이프스타일 투자플랫폼 와디즈는 서강대학교 경영전문대학원, 한국전문경영컨설팅과 함...</td>\n",
              "      <td>지난 4일 라이프스타일 투자플랫롬 와디즈는 스타트업 투자 시장에서의 자금 조달 수요...</td>\n",
              "      <td>[0, 1, 2]</td>\n",
              "      <td>라이프 스타일 투자 플랫 디즈 서강대 학교 경영 전문 대학원 한국 전문 경영 컨설팅...</td>\n",
              "    </tr>\n",
              "  </tbody>\n",
              "</table>\n",
              "<p>260697 rows × 6 columns</p>\n",
              "</div>\n",
              "      <button class=\"colab-df-convert\" onclick=\"convertToInteractive('df-2d60c012-3a55-4458-bf63-46bfd993da5b')\"\n",
              "              title=\"Convert this dataframe to an interactive table.\"\n",
              "              style=\"display:none;\">\n",
              "        \n",
              "  <svg xmlns=\"http://www.w3.org/2000/svg\" height=\"24px\"viewBox=\"0 0 24 24\"\n",
              "       width=\"24px\">\n",
              "    <path d=\"M0 0h24v24H0V0z\" fill=\"none\"/>\n",
              "    <path d=\"M18.56 5.44l.94 2.06.94-2.06 2.06-.94-2.06-.94-.94-2.06-.94 2.06-2.06.94zm-11 1L8.5 8.5l.94-2.06 2.06-.94-2.06-.94L8.5 2.5l-.94 2.06-2.06.94zm10 10l.94 2.06.94-2.06 2.06-.94-2.06-.94-.94-2.06-.94 2.06-2.06.94z\"/><path d=\"M17.41 7.96l-1.37-1.37c-.4-.4-.92-.59-1.43-.59-.52 0-1.04.2-1.43.59L10.3 9.45l-7.72 7.72c-.78.78-.78 2.05 0 2.83L4 21.41c.39.39.9.59 1.41.59.51 0 1.02-.2 1.41-.59l7.78-7.78 2.81-2.81c.8-.78.8-2.07 0-2.86zM5.41 20L4 18.59l7.72-7.72 1.47 1.35L5.41 20z\"/>\n",
              "  </svg>\n",
              "      </button>\n",
              "      \n",
              "  <style>\n",
              "    .colab-df-container {\n",
              "      display:flex;\n",
              "      flex-wrap:wrap;\n",
              "      gap: 12px;\n",
              "    }\n",
              "\n",
              "    .colab-df-convert {\n",
              "      background-color: #E8F0FE;\n",
              "      border: none;\n",
              "      border-radius: 50%;\n",
              "      cursor: pointer;\n",
              "      display: none;\n",
              "      fill: #1967D2;\n",
              "      height: 32px;\n",
              "      padding: 0 0 0 0;\n",
              "      width: 32px;\n",
              "    }\n",
              "\n",
              "    .colab-df-convert:hover {\n",
              "      background-color: #E2EBFA;\n",
              "      box-shadow: 0px 1px 2px rgba(60, 64, 67, 0.3), 0px 1px 3px 1px rgba(60, 64, 67, 0.15);\n",
              "      fill: #174EA6;\n",
              "    }\n",
              "\n",
              "    [theme=dark] .colab-df-convert {\n",
              "      background-color: #3B4455;\n",
              "      fill: #D2E3FC;\n",
              "    }\n",
              "\n",
              "    [theme=dark] .colab-df-convert:hover {\n",
              "      background-color: #434B5C;\n",
              "      box-shadow: 0px 1px 3px 1px rgba(0, 0, 0, 0.15);\n",
              "      filter: drop-shadow(0px 1px 2px rgba(0, 0, 0, 0.3));\n",
              "      fill: #FFFFFF;\n",
              "    }\n",
              "  </style>\n",
              "\n",
              "      <script>\n",
              "        const buttonEl =\n",
              "          document.querySelector('#df-2d60c012-3a55-4458-bf63-46bfd993da5b button.colab-df-convert');\n",
              "        buttonEl.style.display =\n",
              "          google.colab.kernel.accessAllowed ? 'block' : 'none';\n",
              "\n",
              "        async function convertToInteractive(key) {\n",
              "          const element = document.querySelector('#df-2d60c012-3a55-4458-bf63-46bfd993da5b');\n",
              "          const dataTable =\n",
              "            await google.colab.kernel.invokeFunction('convertToInteractive',\n",
              "                                                     [key], {});\n",
              "          if (!dataTable) return;\n",
              "\n",
              "          const docLinkHtml = 'Like what you see? Visit the ' +\n",
              "            '<a target=\"_blank\" href=https://colab.research.google.com/notebooks/data_table.ipynb>data table notebook</a>'\n",
              "            + ' to learn more about interactive tables.';\n",
              "          element.innerHTML = '';\n",
              "          dataTable['output_type'] = 'display_data';\n",
              "          await google.colab.output.renderOutput(dataTable, element);\n",
              "          const docLink = document.createElement('div');\n",
              "          docLink.innerHTML = docLinkHtml;\n",
              "          element.appendChild(docLink);\n",
              "        }\n",
              "      </script>\n",
              "    </div>\n",
              "  </div>\n",
              "  "
            ]
          },
          "metadata": {},
          "execution_count": 18
        }
      ]
    },
    {
      "cell_type": "code",
      "source": [
        "# 한 문장으로 join 해놓은 전처리 완료된 문장들을 공백 기준으로 분리하는 함수입니다. \n",
        "\n",
        "def my_tokenizer(text):\n",
        "  return text.split()"
      ],
      "metadata": {
        "id": "wfeLUiFSRxJ3"
      },
      "execution_count": 19,
      "outputs": []
    },
    {
      "cell_type": "code",
      "source": [
        "my_tokenizer(df_news['article_preprocessed'].iloc[0][:100])"
      ],
      "metadata": {
        "colab": {
          "base_uri": "https://localhost:8080/"
        },
        "id": "Rt8thaizgkvu",
        "outputId": "7650593d-2d75-4bf2-f85e-4209f4700358"
      },
      "execution_count": 20,
      "outputs": [
        {
          "output_type": "execute_result",
          "data": {
            "text/plain": [
              "['지난해',\n",
              " '고령화',\n",
              " '유례',\n",
              " '겨울',\n",
              " '한파',\n",
              " '영향',\n",
              " '우리나라',\n",
              " '사망자',\n",
              " '통계',\n",
              " '작성',\n",
              " '이후',\n",
              " '폐렴',\n",
              " '치매',\n",
              " '일종',\n",
              " '알츠하이머병',\n",
              " '지난해',\n",
              " '사망',\n",
              " '원인',\n",
              " '순위',\n",
              " '전년',\n",
              " '단계',\n",
              " '단계',\n",
              " '상승',\n",
              " '노인',\n",
              " '질병',\n",
              " '사망',\n",
              " '급증',\n",
              " '추세',\n",
              " '연령',\n",
              " '표준']"
            ]
          },
          "metadata": {},
          "execution_count": 20
        }
      ]
    },
    {
      "cell_type": "markdown",
      "source": [
        "## 2.TF-IDF 행렬 만들기\n",
        "- 단어의 빈도와 역 문서 빈도를 사용해 DTM(문서 단어 행렬)내의 각 단어들마다 중요한 정도를 가중치로 주는 방법"
      ],
      "metadata": {
        "id": "Hhho2YDFkjEg"
      }
    },
    {
      "cell_type": "code",
      "execution_count": 21,
      "metadata": {
        "colab": {
          "base_uri": "https://localhost:8080/"
        },
        "id": "5y0wi8HbArIL",
        "outputId": "478713a8-4063-4800-d021-9d8c0583d576"
      },
      "outputs": [
        {
          "output_type": "execute_result",
          "data": {
            "text/plain": [
              "<1000x17985 sparse matrix of type '<class 'numpy.float64'>'\n",
              "\twith 99572 stored elements in Compressed Sparse Row format>"
            ]
          },
          "metadata": {},
          "execution_count": 21
        }
      ],
      "source": [
        "# sklearn을 통해서 TF-IDF 행렬을 만들어 줍니다. \n",
        "from sklearn.feature_extraction.text import TfidfVectorizer\n",
        "\n",
        "tfidf_vect = TfidfVectorizer(tokenizer=my_tokenizer) #벡터화\n",
        "# 기사 개수는 1000개로 조절\n",
        "tfidf = tfidf_vect.fit_transform(raw_documents = df_news['article_preprocessed'].iloc[:1000]) \n",
        "\n",
        "tfidf"
      ]
    },
    {
      "cell_type": "markdown",
      "source": [
        "## 3.LDA 학습\n",
        "- TOPIC의 개수를 20으로 해 LDA모델 학습"
      ],
      "metadata": {
        "id": "NsI5xf51lcyD"
      }
    },
    {
      "cell_type": "code",
      "source": [
        "from sklearn.decomposition import LatentDirichletAllocation #sklearn에도 젠심? 거기서도 LDA 가능하다함.\n",
        "\n",
        "lda = LatentDirichletAllocation(n_components =20, # 몇개의 단어 덩어리를 뽑을건지 \n",
        "                                max_iter = 20,\n",
        "                                learning_method='online', # 미니배치를 보겠다는 게 'ONLINE'\n",
        "                                random_state=100) # 고정값\n",
        "\n",
        "#전체에서 하나의 통일적인 주제를 뽑는거기때문에 accuracy가 중요하지 않음. \n",
        "#보조지표 1.혼잡도-> 낮을수록 좋음, 2.토픽응집도-> 높을수록 좋음\n",
        "#토픽수가 중요. 우리가 바꿀수있는것으로 맘에 안들경우 이걸 바꾸기\n",
        "\n",
        "lda_output = lda.fit_transform(tfidf)"
      ],
      "metadata": {
        "id": "SdSp53WsgnDk"
      },
      "execution_count": 22,
      "outputs": []
    },
    {
      "cell_type": "code",
      "source": [
        "print('lda components:\\n',lda.components_)  #주제를 뽑은것\n",
        "print('shape:', lda.components_.shape) \n",
        "#각 주제마다 높은 확률인 애들을 뽑기 -> 주요 키워드(높은 빈도수/ 확률인 애들)를 뽑기 \n",
        "#즉, 확률값이 제일 높은애의 index값을 뽑으면 됨"
      ],
      "metadata": {
        "colab": {
          "base_uri": "https://localhost:8080/"
        },
        "id": "nTxcfSOjmVTX",
        "outputId": "387b3cfd-9f82-4090-b697-9e1fa2f3c338"
      },
      "execution_count": 23,
      "outputs": [
        {
          "output_type": "stream",
          "name": "stdout",
          "text": [
            "lda components:\n",
            " [[0.05008091 0.05010153 0.05010842 ... 0.05010621 0.05010268 0.05009866]\n",
            " [0.05008622 0.05010681 0.05008638 ... 0.05011008 0.05009655 0.05010943]\n",
            " [0.05009212 0.05010949 0.05010603 ... 0.05010977 0.05008111 0.05011496]\n",
            " ...\n",
            " [0.05010224 0.05008602 0.05011224 ... 0.05009488 0.05010439 0.05009758]\n",
            " [0.22831503 0.09297862 0.13370314 ... 0.73783973 0.05015904 0.0501043 ]\n",
            " [0.05009867 0.05010542 0.05010889 ... 0.05009237 0.05009483 0.05008695]]\n",
            "shape: (20, 17985)\n"
          ]
        }
      ]
    },
    {
      "cell_type": "markdown",
      "source": [
        "LDA 과정에서 얻은 TOPIC들 프린트 (TOPIC당 7개의 단어를 default로 설정)\n",
        "\n",
        "→ 즉, 상위 7개의 단어들을 뽑음"
      ],
      "metadata": {
        "id": "PoedEpqYnlPi"
      }
    },
    {
      "cell_type": "code",
      "source": [
        "terms = tfidf_vect.get_feature_names() # 단어 집합. terms도 순서가 있을것\n",
        "\n",
        "def get_topics(components, feature_names, n=7):\n",
        "    for idx, topic in enumerate(components):\n",
        "        print(\"Topic %d:\" % (idx+1), [(feature_names[i], topic[i].round(2)) for i in topic.argsort()[:-n - 1:-1]])\n",
        "get_topics(lda.components_,terms)\n",
        "\n",
        "#for i in topic.argsort()[:-n - 1:-1] : 한줄을 sorting해서 돌리겠다.큰애가 필요하니 뒤에 -1해줌. 높은 애들이 나옴\n",
        "#slicing시 맨뒤를 -1로 두면 뒤에서부터 차례로 정렬됨\n",
        "#[10,4,3,6][::-1]\n",
        "#즉 간격이 -1씩이라 역순으로 -> 6,3,4,10이 나옴\n",
        "#round(2) : 2째 자리에서 반올림"
      ],
      "metadata": {
        "colab": {
          "base_uri": "https://localhost:8080/"
        },
        "id": "Z3Wn8PWUmdoX",
        "outputId": "e5ca1cd6-d860-4c4c-a677-4919b6509e73"
      },
      "execution_count": 24,
      "outputs": [
        {
          "output_type": "stream",
          "name": "stdout",
          "text": [
            "Topic 1: [('청남대', 0.74), ('수궁가', 0.48), ('유하영', 0.41), ('진도', 0.27), ('악원', 0.19), ('박초월', 0.19), ('사사', 0.19)]\n",
            "Topic 2: [('무스탕', 0.61), ('패션쇼', 0.58), ('김대건', 0.38), ('순례', 0.32), ('버시', 0.3), ('신앙', 0.3), ('합덕', 0.25)]\n",
            "Topic 3: [('오케스트라', 0.43), ('윈드', 0.38), ('일초', 0.2), ('연주', 0.16), ('igor', 0.09), ('prince', 0.09), ('dances', 0.09)]\n",
            "Topic 4: [('비격진천뢰', 0.73), ('출토', 0.52), ('무덤', 0.44), ('원태', 0.35), ('흉노', 0.31), ('안타', 0.28), ('타자', 0.26)]\n",
            "Topic 5: [('딤채', 0.76), ('금메달', 0.68), ('감영', 0.67), ('손호영', 0.66), ('포드', 0.56), ('종원', 0.55), ('다이빙', 0.52)]\n",
            "Topic 6: [('교회', 1.19), ('접종', 1.12), ('대상포진', 0.96), ('새문안', 0.51), ('레소토', 0.37), ('덕정', 0.31), ('교단', 0.24)]\n",
            "Topic 7: [('강미혜', 0.59), ('평택항', 0.57), ('와이어리스', 0.48), ('젠하이저', 0.34), ('항로', 0.32), ('김우진', 0.32), ('물동량', 0.31)]\n",
            "Topic 8: [('와인', 0.68), ('청포', 0.48), ('은서', 0.45), ('너리', 0.32), ('육군', 0.3), ('oem', 0.16), ('이육사', 0.16)]\n",
            "Topic 9: [('한자', 0.82), ('미래엔', 0.7), ('sb', 0.52), ('외투', 0.5), ('맥쿼리', 0.49), ('헤일', 0.48), ('아바스', 0.47)]\n",
            "Topic 10: [('정승환', 0.65), ('탁구', 0.63), ('바흐', 0.57), ('필사', 0.49), ('shc', 0.41), ('문장', 0.38), ('전업', 0.36)]\n",
            "Topic 11: [('종목', 3.26), ('호가', 2.29), ('등락', 2.21), ('매수', 1.63), ('코스닥', 1.2), ('매도', 1.08), ('거래', 1.07)]\n",
            "Topic 12: [('이범호', 0.76), ('오존', 0.63), ('아약스', 0.56), ('연희', 0.53), ('드름', 0.47), ('결말', 0.44), ('토트넘', 0.39)]\n",
            "Topic 13: [('방탄소년단', 0.54), ('피디아', 0.49), ('아미', 0.44), ('미키', 0.35), ('콜렉션', 0.25), ('럭키', 0.25), ('워즈', 0.22)]\n",
            "Topic 14: [('산수유', 0.45), ('담장', 0.38), ('골목길', 0.31), ('문전', 0.25), ('정승', 0.18), ('남곤', 0.18), ('좌의정', 0.18)]\n",
            "Topic 15: [('시그널', 0.67), ('코미디', 0.63), ('위안부', 0.61), ('하트', 0.55), ('참견', 0.48), ('김홍신', 0.48), ('도올', 0.45)]\n",
            "Topic 16: [('안면', 0.7), ('리듬', 0.64), ('대종', 0.61), ('임한별', 0.61), ('정세운', 0.59), ('체조', 0.58), ('김문정', 0.57)]\n",
            "Topic 17: [('학생', 0.05), ('태풍', 0.05), ('학교', 0.05), ('교사', 0.05), ('향교', 0.05), ('사업', 0.05), ('화장실', 0.05)]\n",
            "Topic 18: [('사랑', 0.05), ('예천', 0.05), ('어업', 0.05), ('트럼프', 0.05), ('강문', 0.05), ('연극', 0.05), ('협상', 0.05)]\n",
            "Topic 19: [('사업', 18.4), ('기업', 17.57), ('지역', 17.18), ('지원', 15.16), ('한국', 11.54), ('교육', 11.12), ('시장', 10.99)]\n",
            "Topic 20: [('대장정', 0.88), ('대원', 0.52), ('인교진', 0.49), ('멍청이', 0.46), ('화사', 0.46), ('해변', 0.43), ('twit', 0.4)]\n"
          ]
        },
        {
          "output_type": "stream",
          "name": "stderr",
          "text": [
            "/usr/local/lib/python3.7/dist-packages/sklearn/utils/deprecation.py:87: FutureWarning: Function get_feature_names is deprecated; get_feature_names is deprecated in 1.0 and will be removed in 1.2. Please use get_feature_names_out instead.\n",
            "  warnings.warn(msg, category=FutureWarning)\n"
          ]
        }
      ]
    },
    {
      "cell_type": "markdown",
      "source": [
        "## 4.LDA 시각화"
      ],
      "metadata": {
        "id": "wipAsiirofF8"
      }
    },
    {
      "cell_type": "code",
      "source": [
        "# LDAvis 는 토픽 모델링에 자주 이용되는 Latent Dirichlet Allocation (LDA) 모델의 학습 결과를 시각적으로 표현하는 라이브러리입니다\n",
        "!pip install pyLDAvis"
      ],
      "metadata": {
        "colab": {
          "base_uri": "https://localhost:8080/"
        },
        "id": "R7DGnS32oUi8",
        "outputId": "cd94f8e6-a4cc-4c90-bc7e-8f373ad04ead"
      },
      "execution_count": 25,
      "outputs": [
        {
          "output_type": "stream",
          "name": "stdout",
          "text": [
            "Looking in indexes: https://pypi.org/simple, https://us-python.pkg.dev/colab-wheels/public/simple/\n",
            "Collecting pyLDAvis\n",
            "  Downloading pyLDAvis-3.3.1.tar.gz (1.7 MB)\n",
            "\u001b[K     |████████████████████████████████| 1.7 MB 5.4 MB/s \n",
            "\u001b[?25h  Installing build dependencies ... \u001b[?25l\u001b[?25hdone\n",
            "  Getting requirements to build wheel ... \u001b[?25l\u001b[?25hdone\n",
            "  Installing backend dependencies ... \u001b[?25l\u001b[?25hdone\n",
            "    Preparing wheel metadata ... \u001b[?25l\u001b[?25hdone\n",
            "Requirement already satisfied: numpy>=1.20.0 in /usr/local/lib/python3.7/dist-packages (from pyLDAvis) (1.21.6)\n",
            "Collecting funcy\n",
            "  Downloading funcy-1.17-py2.py3-none-any.whl (33 kB)\n",
            "Requirement already satisfied: gensim in /usr/local/lib/python3.7/dist-packages (from pyLDAvis) (3.6.0)\n",
            "Requirement already satisfied: scipy in /usr/local/lib/python3.7/dist-packages (from pyLDAvis) (1.7.3)\n",
            "Requirement already satisfied: numexpr in /usr/local/lib/python3.7/dist-packages (from pyLDAvis) (2.8.4)\n",
            "Collecting sklearn\n",
            "  Downloading sklearn-0.0.tar.gz (1.1 kB)\n",
            "Requirement already satisfied: pandas>=1.2.0 in /usr/local/lib/python3.7/dist-packages (from pyLDAvis) (1.3.5)\n",
            "Requirement already satisfied: jinja2 in /usr/local/lib/python3.7/dist-packages (from pyLDAvis) (2.11.3)\n",
            "Requirement already satisfied: joblib in /usr/local/lib/python3.7/dist-packages (from pyLDAvis) (1.2.0)\n",
            "Requirement already satisfied: scikit-learn in /usr/local/lib/python3.7/dist-packages (from pyLDAvis) (1.0.2)\n",
            "Requirement already satisfied: future in /usr/local/lib/python3.7/dist-packages (from pyLDAvis) (0.16.0)\n",
            "Requirement already satisfied: setuptools in /usr/local/lib/python3.7/dist-packages (from pyLDAvis) (57.4.0)\n",
            "Requirement already satisfied: pytz>=2017.3 in /usr/local/lib/python3.7/dist-packages (from pandas>=1.2.0->pyLDAvis) (2022.5)\n",
            "Requirement already satisfied: python-dateutil>=2.7.3 in /usr/local/lib/python3.7/dist-packages (from pandas>=1.2.0->pyLDAvis) (2.8.2)\n",
            "Requirement already satisfied: six>=1.5 in /usr/local/lib/python3.7/dist-packages (from python-dateutil>=2.7.3->pandas>=1.2.0->pyLDAvis) (1.15.0)\n",
            "Requirement already satisfied: smart-open>=1.2.1 in /usr/local/lib/python3.7/dist-packages (from gensim->pyLDAvis) (5.2.1)\n",
            "Requirement already satisfied: MarkupSafe>=0.23 in /usr/local/lib/python3.7/dist-packages (from jinja2->pyLDAvis) (2.0.1)\n",
            "Requirement already satisfied: threadpoolctl>=2.0.0 in /usr/local/lib/python3.7/dist-packages (from scikit-learn->pyLDAvis) (3.1.0)\n",
            "Building wheels for collected packages: pyLDAvis, sklearn\n",
            "  Building wheel for pyLDAvis (PEP 517) ... \u001b[?25l\u001b[?25hdone\n",
            "  Created wheel for pyLDAvis: filename=pyLDAvis-3.3.1-py2.py3-none-any.whl size=136898 sha256=b22e2e55f721b6a22d904e668aa2a5773a4e99a4180cf61420c18ab9830aafcc\n",
            "  Stored in directory: /root/.cache/pip/wheels/c9/21/f6/17bcf2667e8a68532ba2fbf6d5c72fdf4c7f7d9abfa4852d2f\n",
            "  Building wheel for sklearn (setup.py) ... \u001b[?25l\u001b[?25hdone\n",
            "  Created wheel for sklearn: filename=sklearn-0.0-py2.py3-none-any.whl size=1310 sha256=a8eeabfe64b619a5286dc76ad6b515379765625a9f64361d46644d3581ae33e7\n",
            "  Stored in directory: /root/.cache/pip/wheels/46/ef/c3/157e41f5ee1372d1be90b09f74f82b10e391eaacca8f22d33e\n",
            "Successfully built pyLDAvis sklearn\n",
            "Installing collected packages: sklearn, funcy, pyLDAvis\n",
            "Successfully installed funcy-1.17 pyLDAvis-3.3.1 sklearn-0.0\n"
          ]
        }
      ]
    },
    {
      "cell_type": "code",
      "source": [
        "# LDA 시각화를 진행해봅시다. \n",
        "import pyLDAvis\n",
        "import pyLDAvis.sklearn\n",
        "\n",
        "pyLDAvis.enable_notebook()\n",
        "vis = pyLDAvis.sklearn.prepare(lda, tfidf, tfidf_vect, mds='tsne')\n",
        "pyLDAvis.display(vis)\n"
      ],
      "metadata": {
        "colab": {
          "base_uri": "https://localhost:8080/",
          "height": 1000
        },
        "id": "e7mbHLHeonDH",
        "outputId": "2942fd02-86d9-461c-8a42-25930ef3f363"
      },
      "execution_count": 26,
      "outputs": [
        {
          "output_type": "stream",
          "name": "stderr",
          "text": [
            "/usr/local/lib/python3.7/dist-packages/past/types/oldstr.py:5: DeprecationWarning: Using or importing the ABCs from 'collections' instead of from 'collections.abc' is deprecated since Python 3.3,and in 3.9 it will stop working\n",
            "  from collections import Iterable\n",
            "/usr/local/lib/python3.7/dist-packages/past/builtins/misc.py:4: DeprecationWarning: Using or importing the ABCs from 'collections' instead of from 'collections.abc' is deprecated since Python 3.3,and in 3.9 it will stop working\n",
            "  from collections import Mapping\n",
            "/usr/local/lib/python3.7/dist-packages/sklearn/utils/deprecation.py:87: FutureWarning: Function get_feature_names is deprecated; get_feature_names is deprecated in 1.0 and will be removed in 1.2. Please use get_feature_names_out instead.\n",
            "  warnings.warn(msg, category=FutureWarning)\n",
            "/usr/local/lib/python3.7/dist-packages/pyLDAvis/_prepare.py:247: FutureWarning: In a future version of pandas all arguments of DataFrame.drop except for the argument 'labels' will be keyword-only\n",
            "  by='saliency', ascending=False).head(R).drop('saliency', 1)\n",
            "/usr/local/lib/python3.7/dist-packages/sklearn/manifold/_t_sne.py:783: FutureWarning: The default initialization in TSNE will change from 'random' to 'pca' in 1.2.\n",
            "  FutureWarning,\n",
            "/usr/local/lib/python3.7/dist-packages/sklearn/manifold/_t_sne.py:793: FutureWarning: The default learning rate in TSNE will change from 200.0 to 'auto' in 1.2.\n",
            "  FutureWarning,\n",
            "/usr/local/lib/python3.7/dist-packages/sklearn/manifold/_t_sne.py:827: FutureWarning: 'square_distances' has been introduced in 0.24 to help phase out legacy squaring behavior. The 'legacy' setting will be removed in 1.1 (renaming of 0.26), and the default setting will be changed to True. In 1.3, 'square_distances' will be removed altogether, and distances will be squared by default. Set 'square_distances'=True to silence this warning.\n",
            "  FutureWarning,\n"
          ]
        },
        {
          "output_type": "execute_result",
          "data": {
            "text/plain": [
              "<IPython.core.display.HTML object>"
            ],
            "text/html": [
              "\n",
              "<link rel=\"stylesheet\" type=\"text/css\" href=\"https://cdn.jsdelivr.net/gh/bmabey/pyLDAvis@3.3.1/pyLDAvis/js/ldavis.v1.0.0.css\">\n",
              "\n",
              "\n",
              "<div id=\"ldavis_el731404705577022244616694080\"></div>\n",
              "<script type=\"text/javascript\">\n",
              "\n",
              "var ldavis_el731404705577022244616694080_data = {\"mdsDat\": {\"x\": [-10.878067970275879, -60.88402557373047, -2.3361191749572754, -61.385318756103516, -28.737743377685547, 1.0666056871414185, 45.14072036743164, -140.7959747314453, 61.531681060791016, -72.56305694580078, 15.984491348266602, -160.85162353515625, 85.96183013916016, -99.02083587646484, -176.76412963867188, -117.18988037109375, 108.82991790771484, 47.588096618652344, -106.46783447265625, -50.61380386352539], \"y\": [10.538727760314941, -75.5918197631836, -53.2890739440918, -12.914633750915527, 126.2969970703125, -123.55281066894531, -7.947869300842285, -98.53054809570312, -83.24056243896484, -140.39688110351562, 63.57818603515625, 68.94514465332031, 51.922935485839844, 109.93634796142578, -8.681683540344238, -37.42020034790039, -22.946203231811523, 121.934814453125, 30.176889419555664, 59.32884216308594], \"topics\": [1, 2, 3, 4, 5, 6, 7, 8, 9, 10, 11, 12, 13, 14, 15, 16, 17, 18, 19, 20], \"cluster\": [1, 1, 1, 1, 1, 1, 1, 1, 1, 1, 1, 1, 1, 1, 1, 1, 1, 1, 1, 1], \"Freq\": [85.60753646209832, 1.0778632652143916, 0.9459514030320535, 0.8814892917649583, 0.8812249199773016, 0.8265913916014953, 0.7637766078671554, 0.7634194370081437, 0.7478631800667428, 0.7465786825761952, 0.7377610467636878, 0.6978680840357782, 0.6968185889871583, 0.6904866718265728, 0.6869152039356282, 0.6840612910610105, 0.6652404983184016, 0.6455215464018818, 0.6265162137315642, 0.6265162137315642]}, \"tinfo\": {\"Term\": [\"\\uac70\\ub798\", \"\\uc885\\ubaa9\", \"\\uae30\\uc900\", \"\\uc81c\\ud488\", \"\\ub300\\ube44\", \"\\ubc1c\\uc804\", \"\\ud65c\\uc6a9\", \"\\uad6d\\ud68c\", \"\\uae30\\ub85d\", \"\\uc774\\uc6a9\", \"\\uacb0\\uacfc\", \"\\uc218\\ucd9c\", \"\\uc870\\uc131\", \"\\uc6b4\\ub3d9\", \"\\uccad\\ub144\", \"\\uc131\\uc7a5\", \"\\uacfc\\uc815\", \"\\uc2dc\\uc2a4\\ud15c\", \"\\uc81c\\uc8fc\", \"\\ucd5c\\uadfc\", \"\\uae30\\uac04\", \"\\uc5c5\\uccb4\", \"\\uc608\\uc0b0\", \"\\uc0c1\\uc2b9\", \"\\uc9c0\\ubc29\", \"\\uac00\\uaca9\", \"\\uc0dd\\uc0b0\", \"\\uac00\\uad6c\", \"\\ubcf5\\uc9c0\", \"\\ud559\\uad50\", \"\\uc0ac\\uc5c5\", \"\\uae30\\uc5c5\", \"\\uc9c0\\uc5ed\", \"\\uc9c0\\uc6d0\", \"\\ud55c\\uad6d\", \"\\uad50\\uc721\", \"\\uc2dc\\uc7a5\", \"\\uacc4\\ud68d\", \"\\uae30\\uc220\", \"\\uc774\\ubc88\", \"\\uc13c\\ud130\", \"\\ub3c4\\uc2dc\", \"\\uacbd\\uc81c\", \"\\uc5f0\\uad6c\", \"\\uc815\\ubd80\", \"\\uc0ac\\ud68c\", \"\\uc0b0\\uc5c5\", \"\\ucd94\\uc9c4\", \"\\uc2dc\\ubbfc\", \"\\uc870\\uc0ac\", \"\\uc9c4\\ud589\", \"\\uc6b4\\uc601\", \"\\uc758\\uc6d0\", \"\\uac1c\\ubc1c\", \"\\ubb38\\ud654\", \"\\uc8fc\\ubbfc\", \"\\uad00\\ub9ac\", \"\\uc62c\\ud574\", \"\\uc11c\\ube44\\uc2a4\", \"\\uc9c0\\ub09c\\ud574\", \"\\uc548\\uba74\", \"\\ub9ac\\ub4ec\", \"\\ub300\\uc885\", \"\\uc784\\ud55c\\ubcc4\", \"\\uc815\\uc138\\uc6b4\", \"\\uae40\\ubb38\\uc815\", \"\\ud558\\uc120\", \"\\uc774\\uaddc\", \"\\uc774\\uc18c\\ub77c\", \"\\ub450\\ub958\", \"\\ub300\\uac00\\uc57c\", \"\\uc131\\ub9ac\", \"\\uc7a5\\uc218\\uba74\", \"\\uc544\\ub098\\ud30c\", \"\\uace8\\ubc18\", \"bhc\", \"feat\", \"\\uc870\\uc804\", \"\\ubc00\\ud06c\", \"\\uc885\\uac01\", \"\\uc704\\uccb8\", \"\\ub79c\\ub4dc\\ub9ac\", \"\\uc655\\uad6d\", \"\\uad6c\\ub0b4\\uc5fc\", \"\\uacbd\\ub828\", \"\\ucf54\\uc2a4\\ud2ac\", \"\\ub4dc\\ub808\\uc2a4\", \"\\ub2f4\\uc591\", \"suga\", \"\\uccad\\uace1\", \"\\uccb4\\uc870\", \"\\uc704\\ub840\", \"\\uc2e0\\uace1\", \"\\uba54\\ub274\", \"\\ud638\\uac00\", \"\\uc21c\\ub9e4\\ub3c4\", \"\\ub4f1\\ub77d\", \"\\uc804\\uc7a5\", \"\\uc640\\uc774\\uc5b4\", \"\\ub1cc\\ub3d9\\ub9e5\\ub958\", \"\\uc885\\ubaa9\", \"\\ub9e4\\ub3c4\", \"\\uc2dc\\uac00\\ucd1d\\uc561\", \"\\ub9e4\\uc218\", \"\\uc5b4\\ube44\\uc2a4\", \"\\uc790\\ub9dd\", \"\\ucf54\\uc2a4\\ub2e5\", \"\\ub85c\\uc9c1\\uc2a4\", \"\\uc5d0\\uc774\\uce58\\uc5d8\\ube44\", \"\\uc720\\uc120\", \"\\uc7a5\\uc0ac\\uc778\", \"\\uc774\\uc0b0\\ud654\\ubc14\\ub098\\ub4d0\", \"\\uc815\\ub82c\", \"\\uc0b0\\ud654\\ubc14\\ub098\\ub4d0\", \"\\uc804\\uc77c\", \"\\uc5b4\\uce58\", \"\\ub098\\ub178\", \"\\ucf00\\uc774\\uc5e0\", \"\\uc11c\\uc0c1\\uc601\", \"\\ud0a4\\uc6c0\\uc99d\\uad8c\", \"\\ud611\\uc815\\ubb38\", \"\\ub2e8\\uacb0\\uc815\", \"\\uaf48\\ub9ac\", \"\\ucf54\\uc77c\", \"enm\", \"\\ud604\\ub300\\ubaa8\\ube44\\uc2a4\", \"\\uac70\\ub798\", \"\\ucf54\\uc2a4\\ud53c\", \"mm\", \"\\ud55c\\uc790\", \"\\ubbf8\\ub798\\uc5d4\", \"sb\", \"\\uc678\\ud22c\", \"\\ub9e5\\ucffc\\ub9ac\", \"\\ud5e4\\uc77c\", \"\\uc544\\ubc14\\uc2a4\", \"adt\", \"\\ucea1\\uc2a4\", \"\\uc1a1\\uc0b0\", \"\\ubca0\\ub974\\ud06c\", \"\\ucffc\\uce20\", \"af\", \"eos\", \"\\ubc31\\ud604\", \"mark\", \"\\ud30c\\uc778\\ub354\", \"\\ud06c\\ub798\\ud504\\ud2b8\", \"\\ub77c\\uc774\\uce20\", \"\\uc0ac\\uc774\\ucf54\", \"\\ube4c\\ub9ac\\uc9c0\", \"\\uc601\\uc591\\uc18c\", \"\\ube44\\ud0c0\", \"\\ubc14\\uc6c0\", \"iii\", \"\\ub9ac\\ubaa8\\ud2b8\", \"\\ucc38\\uace0\\uc11c\", \"\\uae40\\ud604\\uc9c0\", \"\\uc815\\uc724\\uc9c4\", \"\\uc9c4\\ucc44\\uc120\", \"\\uc218\\uad00\", \"\\ub2e4\\uc774\\uc544\\ubaac\\ub4dc\", \"\\uc804\\uc791\", \"\\ub524\\ucc44\", \"\\uc190\\ud638\\uc601\", \"\\uae08\\uba54\\ub2ec\", \"\\uc885\\uc6d0\", \"\\ub3d9\\uba54\\ub2ec\", \"\\uc2a4\\ud504\\ub9c1\\ubcf4\\ub4dc\", \"\\uc740\\uba54\\ub2ec\", \"\\uba54\\ub2ec\", \"\\ub808\\uc778\\uc800\", \"\\uac10\\uc601\", \"nda\", \"\\ud3ec\\ub4dc\", \"holiday\", \"\\uc704\\ubc29\", \"\\ud3d0\\ubb3c\", \"\\uc704\\ub2c8\", \"god\", \"\\ub125\\uc2a8\", \"\\uace0\\uc900\", \"\\ub808\\uc774\\ub4dc\", \"\\ubc31\\uc885\\uc6d0\", \"\\ub2e4\\uc774\\ube59\", \"\\ucc28\\uc131\\uc218\", \"\\ubc18\\ubd80\", \"\\ud0c0\\uc774\\uc5b4\", \"\\uccb4\\uace0\", \"\\uadf8\\ub808\\ucf54\\ub85c\\ub9cc\\ud615\", \"\\ubc25\\uc0c1\", \"\\ud55c\\ub77c\", \"\\uae40\\uce58\\ub0c9\\uc7a5\\uace0\", \"\\uc804\\ub77c\", \"\\uc2f1\\ud06c\", \"\\uc2dc\\uadf8\\ub110\", \"\\uc704\\uc548\\ubd80\", \"\\ud558\\ud2b8\", \"\\ucc38\\uacac\", \"\\uae40\\ud64d\\uc2e0\", \"\\ub3c4\\uc62c\", \"\\uc720\\uc544\\uc778\", \"\\uc774\\uc601\\uc790\", \"\\ucf54\\ubbf8\\ub514\", \"\\ubb38\\ud559\\uad00\", \"\\ud790\\ub9ac\", \"\\ubc15\\ub098\\ub798\", \"\\uc2a4\\ud0e0\\ub529\", \"\\ub2f5\\uc548\\uc9c0\", \"\\ucee4\\ubc0d\\uc2a4\", \"\\ud751\\uc778\", \"\\ucd94\\ub150\\uc2dd\", \"\\uae40\\uc6a9\\uc625\", \"\\ub18d\\uc5fc\", \"\\uce74\\uc624\", \"\\uae30\\ub9bc\", \"\\uc720\\ubcd1\\uc7ac\", \"\\uc591\\uc138\\ud615\", \"\\ubd80\\uce20\", \"\\uc774\\ubaa8\\ud2f0\\ucf58\", \"\\ubcfc\\ud2f0\\ubaa8\\uc5b4\", \"\\ubc29\\uc131\", \"\\uc911\\uac04\\uace0\\uc0ac\", \"\\uc77c\\ub77c\\uc774\\uc790\", \"\\ud558\\uc6d0\", \"\\uac70\\uc6b8\", \"\\uad50\\ud68c\", \"\\uc811\\uc885\", \"\\ub300\\uc0c1\\ud3ec\\uc9c4\", \"\\uc0c8\\ubb38\\uc548\", \"\\ub808\\uc18c\\ud1a0\", \"\\ub355\\uc815\", \"\\ud3c9\\uac00\\uc804\", \"\\uc2e0\\uacbd\\ud1b5\", \"\\uad50\\ub2e8\", \"\\ucd5c\\ub3d9\\uaddc\", \"\\ubcf5\\uc74c\", \"\\ubaa9\\uc0ac\", \"\\ubcf5\\uc74c\\ud654\", \"\\ubaa9\\ud68c\", \"\\ud30c\\uc1a1\", \"\\ucc9c\\ub9c9\", \"\\ud188\\uc9c4\", \"\\uc544\\ubbf8\\ub2c8\", \"\\ub9c8\\ube4c\", \"\\ubb34\\uc2a4\\ud0c0\\ud30c\", \"\\uc624\\ub2d0\", \"\\uc8fc\\uc138\\uc885\", \"\\ub4c0\\ud06c\", \"\\uc5f4\\uc138\", \"\\ubc34\\ucfe0\\ubc84\", \"\\uac10\\ubc14\", \"\\ud669\\uc778\\ubc94\", \"\\ub9c8\\ubc14\\uc774\\ud06c\", \"\\ube0c\\ub79c\\ub358\", \"\\uae40\\ubbfc\\uc7ac\", \"\\uc564\\ub4dc\\ub8e8\", \"\\ud669\\ud76c\", \"\\uc798\\uce20\\ubd80\\ub974\\ud06c\", \"\\uc774\\ubc94\\ud638\", \"\\uc624\\uc874\", \"\\uc544\\uc57d\\uc2a4\", \"\\uc5f0\\ud76c\", \"\\ub4dc\\ub984\", \"\\uacb0\\ub9d0\", \"\\uc5f0\\uc2b9\", \"\\ud648\\uacbd\\uae30\", \"\\ud604\\ube48\", \"\\ud1a0\\ud2b8\\ub118\", \"\\ucc54\\ud53c\", \"\\uc6b0\\uc2dc\", \"\\uc0ac\\uacc4\", \"\\uc544\\ub974\\ucf54\", \"ppm\", \"\\ud22c\\uc2a4\", \"\\uad8c\\ucd1d\", \"\\uc1a1\\uc7ac\\uc815\", \"\\ud1f4\\uc2dd\", \"\\uc5b8\\uc2a4\", \"\\ud0c0\\uc774\\uac70\\uc988\", \"tvn\", \"kbo\", \"\\uacb0\\uc2b9\", \"\\uc2a4\\ub9ac\", \"\\ub9e8\\uccb4\\uc2a4\\ud130\", \"\\uc900\\uacb0\\uc2b9\", \"\\uc720\\ub9dd\\uc8fc\", \"ucl\", \"uefa\", \"afc\", \"npc\", \"\\uc815\\uc2b9\\ud658\", \"\\ud0c1\\uad6c\", \"\\ubc14\\ud750\", \"\\ud544\\uc0ac\", \"shc\", \"\\ubd09\\ud654\\uad70\", \"\\ud669\\uc7ac\\ud604\", \"\\uc724\\uae38\\uc911\", \"wpi\", \"\\uc6b0\\uac04\\ub2e4\", \"\\uc815\\ud61c\\uc815\", \"\\uc6b0\\uac04\", \"\\uc804\\uc5c5\", \"\\uc601\\ub355\", \"\\ubd09\\ud654\\uacbd\\ucc30\\uc11c\", \"\\ubc15\\uc885\\uc12d\", \"\\uc870\\uc591\\ud638\", \"\\uc911\\ud765\", \"\\uc120\\uac70\\uc778\\ub2e8\", \"\\ubb38\\uc7a5\", \"\\uc804\\uc131\\uae30\", \"\\uc544\\ub137\", \"\\ubca0\\ub2e4\", \"\\uae41\\uc2a4\", \"\\uc815\\uc608\\uae08\", \"\\ud55c\\uc6a9\\uad6d\", \"\\uae40\\uc601\\uc8fc\", \"\\ubbf8\\uc220\\uac00\", \"\\uc815\\ubb3c\\ud654\", \"\\ubc15\\uc9c0\\ud0dd\", \"\\uc720\\uc218\\uc885\", \"\\ubb38\\uc5f0\", \"\\uc778\\uad50\\uc9c4\", \"\\uba4d\\uccad\\uc774\", \"\\ud654\\uc0ac\", \"twit\", \"\\ub300\\uc7a5\\uc815\", \"\\ub3d9\\ubc31\", \"\\uc6a9\\uc2dd\", \"\\ucd5c\\ub300\\ucca0\", \"\\ubaa9\\ud3ec\\ud56d\", \"\\ud574\\ub2e8\\uc2dd\", \"\\ud574\\ubcc0\", \"\\ub3d9\\ubc31\\uaf43\", \"\\uc57c\\uc601\\uc9c0\", \"\\ub300\\uc6d0\", \"\\uac15\\ud558\\ub298\", \"\\uacfd\\uc9c0\", \"\\uae40\\uc900\\uc5f0\", \"\\uad00\\uc74c\\uc0ac\", \"\\ud558\\ubaa8\", \"\\ud568\\ub355\", \"\\ubc30\\ud3b8\", \"\\ud55c\\ub77c\\uc0b0\", \"\\ud589\\uad70\", \"\\uc774\\uc2b9\\uad8c\", \"\\uc9c0\\ucf54\", \"\\ub099\\uc624\", \"\\uc0ac\\ud68c\\ubd09\\uc0ac\", \"\\ucd5c\\ub0a8\\ub2e8\", \"\\ub3d9\\uc2e0\", \"\\ubc31\\ud76c\", \"\\ube44\\uaca9\\uc9c4\\ucc9c\\ub8b0\", \"\\ucd9c\\ud1a0\", \"\\ubb34\\ub364\", \"\\uc6d0\\ud0dc\", \"\\ud749\\ub178\", \"\\ud0c0\\uc790\", \"\\uc7a5\\ubb18\", \"\\ud0c0\\uc120\", \"\\ub8e8\\ud0c0\", \"\\ub098\\ub974\", \"\\uc0bc\\uc9c4\", \"\\ub77c\\uc774\\uc628\\uc988\", \"\\ub72c\\uacf5\", \"\\uac15\\ubbfc\\ud638\", \"\\ub4f1\\ud310\", \"\\uc720\\uac15\\ub0a8\", \"\\uc548\\ud0c0\", \"\\ucd9c\\ud1a0\\ud488\", \"\\ub545\\ubcfc\", \"\\uc815\\uc8fc\\ud604\", \"\\uae40\\ud604\\uc218\", \"\\uae40\\ubbfc\\uc131\", \"\\ucf08\\ub9ac\", \"\\ubc15\\uc6a9\\ud0dd\", \"\\uc774\\ucc9c\\uc6c5\", \"\\ucd5c\\uc601\\uc9c4\", \"\\ucd9c\\ub8e8\", \"\\uae40\\uc6a9\\uc758\", \"\\uacc4\\ubc94\", \"\\uc790\\ucc45\\uc810\", \"\\ud53c\\ub514\\uc544\", \"\\uc544\\ubbf8\", \"\\ubbf8\\ud0a4\", \"\\ucf5c\\ub809\\uc158\", \"\\ub7ed\\ud0a4\", \"\\ubc29\\ud0c4\\uc18c\\ub144\\ub2e8\", \"\\uc6cc\\uc988\", \"\\ub3c4\\ub0a0\\ub4dc\", \"\\ub9c8\\uc6b0\\uc2a4\", \"\\ud578\\ub4dc\\ud06c\\ub9bc\", \"armypedia\", \"\\uc2dc\\uce74\", \"\\uc778\\ub9ac\", \"\\ube14\\ub7ec\", \"\\ud55c\\ub780\", \"\\uc2a4\\ud0a8\\ucf00\\uc5b4\", \"\\ube4c\\ubcf4\\ub4dc\", \"\\ud2f0\\uc800\", \"\\uc704\\ud0a4\\ud53c\\ub514\\uc544\", \"\\uc544\\uba54\\ub9ac\\uce78\", \"wikipedia\", \"\\uadf8\\ub798\\ubbf8\", \"army\", \"\\ub3c4\\uad6c\\ud568\", \"\\ub85c\\uc158\", \"\\uc800\\uae08\\ud1b5\", \"\\ud2f4\\ud2b8\", \"\\uc815\\ub9ac\\ud568\", \"\\ub370\\uc774\\uc9c0\", \"\\ud5e4\\ub9ac\\ud2f0\\uc9c0\", \"\\uc790\\uc5f0\\uc8fc\\uc758\", \"\\ud4e8\\uc5b4\", \"\\uac15\\ubbf8\\ud61c\", \"\\uc640\\uc774\\uc5b4\\ub9ac\\uc2a4\", \"\\ud3c9\\ud0dd\\ud56d\", \"\\uc820\\ud558\\uc774\\uc800\", \"\\ud56d\\ub85c\", \"\\uae40\\uc6b0\\uc9c4\", \"\\ud5e4\\ub4dc\\ud3f0\", \"\\uc11c\\ud3c9\\ud0dd\", \"\\ucee8\\ud14c\\uc774\\ub108\", \"\\ubb3c\\ub3d9\\ub7c9\", \"\\ud0dc\\ubd80\", \"\\uae30\\ud0dc\\uc601\", \"\\uae40\\ud558\\uacbd\", \"\\uc138\\uc77c\\uc988\", \"\\uc778\\ucc9c\\ud56d\", \"teu\", \"\\uc9c4\\ud56d\", \"\\uc74c\\uc9c8\", \"\\uc74c\\ud5a5\", \"\\ud61c\\ud654\\uc5ed\", \"\\ubc31\\uc218\", \"\\uafcd\\uafcd\\uc774\", \"\\ucd0c\\ucca0\\uc0b4\\uc778\", \"\\uc9c4\\uc9c4\", \"\\ub3cc\\ub2f4\\uae38\", \"\\ub2f9\\ubbf8\", \"\\uc7ac\\uae30\", \"\\uc870\\ub828\", \"\\ubd88\\ud5c8\", \"\\uc804\\ubb34\\ud6c4\\ubb34\", \"\\uad34\\ubb3c\", \"\\ubbf8\\uc6c0\", \"\\uc218\\uad81\\uac00\", \"\\uccad\\ub0a8\\ub300\", \"\\uc720\\ud558\\uc601\", \"\\uc9c4\\ub3c4\", \"\\uc0ac\\uc0ac\", \"\\ubc15\\ucd08\\uc6d4\", \"\\uc545\\uc6d0\", \"\\ub3c4\\uad6d\", \"\\uc131\\uc74c\", \"\\uc2ec\\uccad\\uac00\", \"\\uc601\\ucd98\", \"\\ud765\\ubcf4\", \"\\uac15\\ubbfc\\uc218\", \"\\uc774\\uc77c\\uc8fc\", \"\\ubc15\\uc591\\ub355\", \"\\ucd98\\ud5a5\\uac00\", \"\\ud55c\\ud1f4\", \"jindo\", \"\\ub2e4\\uc2dc\\ub798\\uae30\", \"\\ubc15\\ub85d\\uc8fc\", \"\\uc77c\\uac1c\", \"\\uc870\\uad50\", \"\\uc644\\ucc3d\", \"\\uc774\\uc218\\uc790\", \"gugak\", \"\\uacbd\\ucc3d\", \"\\uc774\\uc6c3\\uc0ac\\ucd0c\", \"\\uc218\\ub2ec\", \"\\uc720\\uc21c\", \"\\uace0\\ub77c\\ub2c8\", \"\\uc6b0\\uc11d\", \"\\uc0b0\\uc218\\uc720\", \"\\ub2f4\\uc7a5\", \"\\uace8\\ubaa9\\uae38\", \"\\ubb38\\uc804\", \"\\uc815\\uc2b9\", \"\\ub0a8\\uace4\", \"\\uc0bc\\ub2f9\\uc2dc\\uc778\", \"\\uc88c\\uc758\\uc815\", \"\\uc870\\uad11\\uc870\", \"\\uc740\\uc554\", \"\\uc601\\uc758\\uc815\", \"\\uc138\\ub3c4\", \"\\uc6d0\\ubb38\", \"\\ucd5c\\uacbd\\ucc3d\", \"\\uc808\\uad6c\", \"\\uc744\\uc0ac\\uc0ac\\ud654\", \"\\ubc88\\uc548\", \"\\uae30\\ubb18\\uc0ac\\ud654\", \"\\uad8c\\ubd88\\uc2ed\\ub144\", \"\\uc758\\uc5ed\", \"\\uc0ac\\ub958\", \"\\uc0c8\\uc6b0\\uc813\", \"\\uace0\\uc8fd\", \"\\ubcbc\\uc2ac\", \"\\ud654\\uc790\", \"\\ucca9\\uc5b4\", \"\\ubb38\\uc804\\uc131\\uc2dc\", \"\\uace8\\ubaa9\\uac70\\ub9ac\", \"\\ud64d\\uacbd\\uc8fc\", \"\\ud6c8\\uad6c\", \"\\ubc31\\uad11\\ud6c8\", \"\\uace4\\uc7c1\\uc774\\uc813\", \"\\uc0ac\\ub9bc\\ud30c\", \"\\uc77c\\ud30c\", \"\\uad8c\\ubb38\\uc138\\uac00\", \"\\ub300\\ub3d9\", \"\\ubb34\\uc2a4\\ud0d5\", \"\\ud328\\uc158\\uc1fc\", \"\\uae40\\ub300\\uac74\", \"\\uc21c\\ub840\", \"\\ubc84\\uc2dc\", \"\\ud569\\ub355\", \"\\ud53c\\uc815\", \"\\uc2e0\\uc559\", \"\\uc758\\uc0c1\", \"\\uc591\\uba74\", \"\\uc0ac\\uc81c\", \"\\uc21c\\uad50\", \"\\ubabb\\uc790\\ub9ac\", \"\\uc815\\ubcd1\\ud76c\", \"\\uc131\\uc9c1\\uc790\", \"\\uc131\\uccb4\", \"\\uac15\\ubcf5\", \"\\ub300\\uc804\\uad50\\uad6c\", \"\\uc21c\\ub840\\uc790\", \"\\uc7a5\\uc5c4\", \"\\ud328\\ub529\", \"\\uc2dc\\uc5b4\\ub9c1\", \"\\ubcf4\\uc628\\uc131\", \"\\ud30c\\uc2a8\\uc2a4\", \"\\uce74\\uba5c\", \"\\uadf8\\ub808\\uc774\", \"\\uc5d8\\ub9ac\", \"\\uc591\\ud138\", \"\\uc637\\uae43\", \"\\ubca0\\uc5b4\", \"\\uccad\\ud3ec\", \"\\uc740\\uc11c\", \"\\uc640\\uc778\", \"\\ub108\\ub9ac\", \"\\uc721\\uad70\", \"\\uc774\\uc721\\uc0ac\", \"oem\", \"\\uccad\\ud3ec\\ub3c4\", \"\\ub3c4\\uc0b0\\uba74\", \"\\uc5b4\\uc6cc\\ub4dc\", \"\\ud638\\uc8fc\\uac00\", \"\\uc8fc\\ud638\", \"\\ub9ac\\uac00\", \"\\ud0c8\\ucda4\", \"\\ub9d0\\uc220\", \"\\uc2e0\\uc11d\\ucd08\", \"\\uba85\\uc8fc\", \"\\uc640\\uc774\\ub108\", \"\\uccad\\uc218\", \"\\uac74\\ubc30\", \"\\ud558\\uc0ac\", \"dances\", \"\\ud654\\uc74c\", \"igor\", \"prince\", \"\\uac08\\ucc44\", \"\\uc774\\uc2b9\\uc120\", \"\\ud589\\uc9c4\\uace1\", \"path\", \"\\ud004\\ub9ac\\ud2f0\", \"\\ud310\\uad8c\", \"\\uc9c8\\uc18c\", \"vod\", \"\\ud53c\\ud50c\", \"\\ucc9c\\uad6d\", \"\\uc720\\uc601\\uc0c1\", \"\\ub9c8\\uc6b4\\ub4dc\", \"\\uce7c\\ub85c\\ub9ac\", \"\\uaecd\\uc9c8\", \"\\ud22c\\uad6c\", \"\\uc120\\uac70\\uad00\\ub9ac\\uc704\\uc6d0\\ud68c\", \"\\uc624\\uc2a4\\uce74\", \"\\ubd88\\uae30\", \"\\ubca0\\uc5b4\", \"\\uce7c\\ub77c\\uc77c\", \"\\uc548\\ub3d9\", \"\\ud3ec\\ub3c4\", \"\\uc6d0\\ud1b5\\ud615\", \"\\uc740\\uc81c\", \"\\uc0ac\\ud68c\", \"\\ubd09\\uc0ac\", \"\\uacbd\\uc81c\", \"\\uc77c\\uc790\\ub9ac\", \"\\uc6cc\\ub9ac\\uc5b4\", \"\\uccad\\ub144\", \"\\ub9c8\\uc77c\\ub9ac\\uc9c0\", \"\\uc708\\ub4dc\", \"\\uc624\\ucf00\\uc2a4\\ud2b8\\ub77c\", \"\\uc77c\\ucd08\", \"\\uc5f0\\uc8fc\", \"igor\", \"dances\", \"prince\", \"\\ud654\\uc74c\", \"\\uac08\\ucc44\", \"\\ud589\\uc9c4\\uace1\", \"\\uc774\\uc2b9\\uc120\", \"path\", \"from\", \"\\ud558\\ub9c8\\ub9c8\\uc4f0\", \"\\ud76c\\uacbd\", \"\\ud004\\ub9ac\\ud2f0\", \"\\uc1c4\\ub3c4\", \"\\ud53c\\ud50c\", \"\\uc2ec\\ub3d9\", \"\\uae30\\uc5fc\", \"\\ud310\\uad8c\", \"vod\", \"\\ubc29\\uc1a1\\uac00\", \"\\ucd9c\\uc5f0\\uc790\", \"\\uac10\\uc2dc\\ub9dd\", \"\\uc9c8\\uc18c\", \"\\ud3d0\\uae30\\uc885\", \"\\uae30\\uce68\", \"\\uc77c\\uc0ac\\ub7c9\", \"\\uc9c0\\uc5b4\", \"\\ucd5c\\uc720\\ucca0\", \"\\uc9c0\\uad11\", \"\\uc9c4\\ud6a8\", \"\\ud22c\\uad6c\", \"\\uc218\\ubaa8\", \"\\uc774\\uc6c3\\uc0ac\\ucd0c\", \"\\uc784\\ud604\\uc900\", \"\\uc5d0\\uc774\\ud2b8\", \"\\ub9e4\\uadf8\\ub118\", \"\\uc815\\ud655\\ub3c4\", \"\\uc628\\uc219\", \"\\uc5b4\\uc6cc\\ub4dc\", \"polovtsian\", \"army\", \"pfs\", \"\\uce20\\uc2dc\", \"march\", \"\\ub3c4\\uc6d0\", \"\\uc54c\\ubcf4\", \"\\uc560\\uc6d4\\uc74d\", \"\\uc720\\uc81c\\ud488\", \"\\uc804\\uc9c0\\ubd84\\uc720\", \"\\ud0c8\\uc9c0\\ubd84\\uc720\", \"\\uae08\\uc0c1\", \"\\ub274\\uc9c8\\ub79c\\ub4dc\", \"\\uc608\\ucc9c\", \"\\uad00\\uc545\", \"\\uac70\\ub9ac\", \"\\uc815\\uad6c\", \"\\ubaa8\\ub85c\\ucf54\", \"\\ubc15\\ud55c\\ubcc4\", \"igor\", \"\\uac08\\ucc44\", \"prince\", \"dances\", \"\\ud589\\uc9c4\\uace1\", \"\\ud654\\uc74c\", \"\\uc774\\uc2b9\\uc120\", \"path\", \"\\uc2ec\\ub3d9\", \"\\uc1c4\\ub3c4\", \"\\ud004\\ub9ac\\ud2f0\", \"\\uae30\\uc5fc\", \"from\", \"\\ud558\\ub9c8\\ub9c8\\uc4f0\", \"\\ubc29\\uc1a1\\uac00\", \"\\ud53c\\ud50c\", \"\\ud310\\uad8c\", \"vod\", \"\\ucd9c\\uc5f0\\uc790\", \"\\uc9c8\\uc18c\", \"\\uac10\\uc2dc\\ub9dd\", \"\\ud3d0\\uae30\\uc885\", \"\\ud76c\\uacbd\", \"\\uae30\\uce68\", \"\\uc77c\\uc0ac\\ub7c9\", \"\\uc9c0\\uc5b4\", \"\\ucc9c\\uad6d\", \"\\uc774\\uc740\\uc11d\", \"\\uace1\\uba74\", \"\\uacfd\\ucca0\\uc601\", \"\\uc9c4\\ud6a8\", \"corporate\", \"\\uae40\\ub0a8\\uc120\", \"\\ud558\\ub098\\ub2d8\", \"\\uc6d0\\ud488\", \"\\ubcd1\\uc0b4\", \"\\uace0\\uc778\\ub3cc\", \"\\uae30\\ub3c5\\uad50\\ub3c4\", \"dyanpro\", \"kcal\", \"\\uc2a4\\ud0e0\\ub4dc\", \"oet\", \"\\uc88c\\uc911\\uac04\", \"\\ub9c8\\uc774\\uce74\", \"\\uc138\\uadf8\\uba3c\\ud2b8\", \"\\ud558\\uac90\\ub2e4\\uc988\", \"\\ub9d0\\uc220\", \"gmc\", \"\\ub3c4\\ub0a8\", \"\\uc655\\uba85\", \"\\uc774\\ucc9c\\ub9cc\", \"\\ud2b8\\ub79c\\uc2a4\\ubbf8\\ud130\", \"\\ubca0\\uc774\\ucee8\", \"\\uc950\\ub760\", \"\\uc0ac\\ud22c\\ub9ac\", \"\\ubc31\\ub85d\\ub2f4\", \"\\ubc15\\uc885\\uc12d\", \"\\uc815\\uc219\", \"\\uc624\\uc0ac\\uce74\", \"\\uad6c\\ub824\", \"\\uc624\\ubc29\", \"\\ud559\\uc0dd\", \"\\ud0dc\\ud48d\", \"\\ud559\\uad50\", \"\\uad50\\uc0ac\", \"\\ud5a5\\uad50\", \"\\uc0ac\\uc5c5\", \"\\ud654\\uc7a5\\uc2e4\", \"\\ud558\\uc218\", \"\\ubc88\\ud638\\ud310\", \"\\uad50\\uc218\", \"\\uc218\\uc6d0\\uc2dc\", \"\\ubc29\\ud574\", \"\\uacf5\\ubb34\", \"\\uae30\\uc0c1\\uccad\", \"\\ubd81\\uc0c1\", \"\\ud2b8\\ub7a8\", \"\\uce5c\\ud658\\uacbd\", \"hpa\", \"\\ubb38\\ud654\\uc7ac\", \"\\uc2dc\\uc124\", \"lpg\", \"\\uc804\\ubd81\", \"\\uc81c\\uc8fc\\ub3c4\", \"\\uad50\\uc721\\uccad\", \"\\uc81c\\uc8fc\", \"\\ucda9\\uc804\", \"\\uc720\\ud1b5\", \"\\ucd08\\uc18d\", \"\\uccad\\ub144\", \"\\ub300\\ud559\", \"dances\", \"\\ud654\\uc74c\", \"prince\", \"\\uac08\\ucc44\", \"igor\", \"\\ud589\\uc9c4\\uace1\", \"path\", \"\\uc774\\uc2b9\\uc120\", \"\\ud004\\ub9ac\\ud2f0\", \"\\ud53c\\ud50c\", \"\\ud310\\uad8c\", \"\\uc1c4\\ub3c4\", \"from\", \"\\uc2ec\\ub3d9\", \"\\ud558\\ub9c8\\ub9c8\\uc4f0\", \"\\ubc29\\uc1a1\\uac00\", \"vod\", \"\\uae30\\uc5fc\", \"\\uc9c8\\uc18c\", \"\\ucd9c\\uc5f0\\uc790\", \"\\uac10\\uc2dc\\ub9dd\", \"\\ud76c\\uacbd\", \"\\ud3d0\\uae30\\uc885\", \"\\uae30\\uce68\", \"\\uc77c\\uc0ac\\ub7c9\", \"\\uc9c0\\uc5b4\", \"\\ucd95\\uc0c1\", \"\\ud48d\\uc601\", \"\\uace1\\uba74\", \"\\ucd5c\\uc720\\ucca0\", \"\\ucc9c\\uad6d\", \"\\ud788\\uc2a4\", \"\\ucc30\\uc2a4\", \"\\ud504\\ub85c\\ubcf4\", \"\\uce60\\ub4dc\\ub7f0\", \"\\ud5cc\\ub0a9\", \"\\uc6b8\\ud2b8\\ub77c\", \"\\ubcfc\\ub137\", \"\\ubcd1\\uc0b4\", \"\\ub0c9\\uac01\\uae30\", \"\\uad11\\uc5c5\", \"frame\", \"\\uc624\\uc2a4\\uce74\", \"\\uc800\\uae08\\ud1b5\", \"\\ubca0\\uc77c\", \"\\uacf5\\uc0ac\\uad00\", \"victory\", \"\\ub124\\uc2a4\\uce74\\ud398\", \"\\ubcf4\\uc548\\uacbd\", \"ct\", \"\\uc9c0\\ubc00\", \"\\uc18d\\uc804\\uc18d\\uacb0\", \"\\uc601\\uc591\\uc81c\", \"\\ud328\\ub529\", \"\\uacbd\\ud76c\\ub300\\ubcd1\\uc6d0\", \"\\uad6c\\ud611\", \"\\uc544\\uc9c0\\uc988\", \"\\ub3d9\\ub9ac\\uad6d\", \"\\uae40\\uc601\\uc8fc\", \"\\uc5b4\\uba85\", \"\\ud45c\\uba74\\uc801\", \"\\uc0ac\\ub791\", \"\\uc608\\ucc9c\", \"\\uc5b4\\uc5c5\", \"\\ud2b8\\ub7fc\\ud504\", \"\\uac15\\ubb38\", \"\\uc5f0\\uadf9\", \"\\ud611\\uc0c1\", \"\\uc544\\ubca0\", \"\\ud658\\uc728\", \"\\ubd81\\ud55c\", \"\\ubb34\\uc5ed\", \"\\ubbf8\\uad6d\", \"\\uc804\\uc2dc\\uad00\", \"\\uac1c\\uad00\", \"\\uc911\\uad6d\", \"\\ub099\\ub3d9\\uac15\", \"\\ub300\\ud1b5\\ub839\", \"\\ubcf4\\uace0\\ud68c\", \"\\ucd1d\\ub9ac\", \"\\uc804\\ub0a8\", \"\\uc790\\uc6d0\", \"\\uc9c0\\ub3c4\", \"\\uc6c3\\uc74c\", \"\\uc5f0\\ucd9c\", \"\\ud30c\\uc218\", \"\\ud1b5\\ud654\", \"\\ubd80\\ubd80\", \"\\uc778\\ubbfc\", \"\\uacf5\\ud310\\uc7a5\", \"\\uc18c\\uacf5\"], \"Freq\": [2.0, 0.0, 4.0, 4.0, 4.0, 4.0, 4.0, 4.0, 4.0, 4.0, 4.0, 4.0, 4.0, 4.0, 4.0, 4.0, 4.0, 4.0, 4.0, 4.0, 4.0, 4.0, 4.0, 4.0, 4.0, 4.0, 4.0, 4.0, 4.0, 4.0, 14.28653321182824, 13.641893860351413, 13.33621601401697, 11.7673273237992, 8.957030919621376, 8.633831829103467, 8.535818212547719, 8.36167355086716, 8.350819229367858, 8.113288073471763, 8.101370610393428, 7.870791062519725, 7.721360661539778, 7.530911318294504, 7.49653955218146, 7.492993325344851, 7.45737869480168, 7.382206516920733, 7.37765518713549, 7.37100676055103, 7.321841255892796, 7.207583506280056, 7.193130486049441, 7.153630249977667, 6.987834663648796, 6.954759713634014, 6.85653572836233, 6.840008239706006, 6.6244779573109165, 6.603910848472442, 0.05613251811546614, 0.051051595358634565, 0.049153444255460546, 0.04902678301544898, 0.04727393290439073, 0.04577564271551816, 0.045326640223119774, 0.045325866679081686, 0.042502871118678766, 0.040277455748325613, 0.04012533273200602, 0.03963110557367505, 0.0384488907640194, 0.03648136410207657, 0.03606850519987515, 0.035077876324057136, 0.03326914028111804, 0.033244066947706485, 0.04364272084157629, 0.03109718777128109, 0.030392323316684698, 0.030156395053896428, 0.028833935268437003, 0.04231115382923248, 0.02853969184749684, 0.025799490111004852, 0.02579809804435983, 0.03993225021636785, 0.025398386788322368, 0.025397103392601542, 0.04633457416384869, 0.03805444977957036, 0.04239790405352517, 0.036250830645612665, 0.16209578701277882, 0.06054763085137226, 0.15662947615119577, 0.04139082471493037, 0.0360324949494291, 0.035578624429442166, 0.23087588686363072, 0.07683322166616026, 0.041865890874282996, 0.11584074426803151, 0.02559001293512823, 0.02297775060281638, 0.08506851548614049, 0.02164495409144822, 0.021248324110404844, 0.02645737482295463, 0.01961313695829778, 0.017986412488912626, 0.017985289905153228, 0.017986381323618593, 0.036508991290110517, 0.02831352728754861, 0.032712983430419805, 0.01525841724412915, 0.015202611991124453, 0.015202195137713474, 0.014880863425722353, 0.014376048201945041, 0.014226262903441153, 0.014226319369658869, 0.020876019064660745, 0.018926289143412635, 0.07604044980657086, 0.03826093307463238, 0.016411897104324866, 0.05435967580353327, 0.04643008431753736, 0.03452606806761001, 0.033158623018833405, 0.03287611781845715, 0.03217581734511084, 0.03140685239179387, 0.03060520077663839, 0.02907243168128776, 0.027732578119293368, 0.025025923769703577, 0.025021254663085225, 0.022194674466744568, 0.022193869825983387, 0.02066554803048998, 0.019500310821238098, 0.016807461054348778, 0.016444210652351292, 0.014891838650396595, 0.014889448132915718, 0.014888802180534089, 0.014674350817958412, 0.014673360455663129, 0.014667292138542223, 0.014115230863884012, 0.014110843652095428, 0.012897680034652827, 0.011924530204306156, 0.011924510294621521, 0.011923279757954371, 0.019403800937798987, 0.018398307560827106, 0.0157568120657523, 0.05042737446181759, 0.04385174402636184, 0.045460273772517955, 0.036778627154269966, 0.03047214070918832, 0.030203075757248867, 0.03423341605801484, 0.028909293842021365, 0.028446511093983044, 0.04458470815848872, 0.027600586308613482, 0.03756624471200331, 0.023593664892124062, 0.023555818818535634, 0.023557051335803256, 0.021647714994651363, 0.020213650738314423, 0.020056730040222372, 0.019512248697431612, 0.01587825485560439, 0.015876010570352497, 0.03487309022260888, 0.01546777884083379, 0.030250825518783168, 0.014495246712832675, 0.01427413422195954, 0.014274859501301073, 0.014263473286115016, 0.014083123356452055, 0.013798890681357956, 0.028478199990613656, 0.020855320785874196, 0.041972923273875175, 0.03844082741062856, 0.03429202916175664, 0.030430751146330984, 0.030245519307802178, 0.02823291066733266, 0.028232139826919023, 0.027700926247029814, 0.039359506277812026, 0.0248265735795474, 0.023350515834918793, 0.022331451772054808, 0.022330275120244988, 0.022079904873345376, 0.02036542436635231, 0.020366109875731963, 0.019870871832121363, 0.019868411849568998, 0.018492627208165063, 0.01809433113708791, 0.01726256551737016, 0.014058282664231933, 0.014055539168847556, 0.01324597554977307, 0.01324705583378997, 0.019323888968410755, 0.013071757011544121, 0.012605931777184876, 0.01175254574610589, 0.011750934543310162, 0.012650166682546225, 0.06916048557686487, 0.06557790507035137, 0.05610606775150537, 0.029449126484280407, 0.02138157677766938, 0.01816360769538923, 0.012052492876866402, 0.009951871894843058, 0.013804212390844716, 0.0095495803262343, 0.007536854399171097, 0.007534895861904361, 0.007536165336207014, 0.007534935574718132, 0.007534299746493045, 0.007533371564481563, 0.007488463746823167, 0.007488564297777118, 0.007488222526296403, 0.007488049270364677, 0.007488469091924083, 0.007487536013201027, 0.007487406687849835, 0.007487141254112326, 0.0074876138744385656, 0.0074878249382944765, 0.007486815915509045, 0.007487168943541049, 0.0074871506858561615, 0.007487963809160608, 0.0074876135323124595, 0.00748725067846842, 0.007487196432111875, 0.04444155749334002, 0.03671988888007811, 0.032577818488299874, 0.030589643028656074, 0.02713105173988461, 0.0257504844413492, 0.022606977897962968, 0.022600772213547237, 0.021944703757524088, 0.022914075880319216, 0.014478455370654623, 0.013294151796806092, 0.013294130479770539, 0.013291926481392009, 0.012855271081917162, 0.01139203024598361, 0.010528193862978444, 0.010524376141112698, 0.010466370517512424, 0.013986631525822815, 0.013599625401931992, 0.010096886798027295, 0.010043216377975816, 0.007155532831978389, 0.00715490272330229, 0.007155305956206393, 0.00715613242749129, 0.0071563037501595145, 0.007154864773033323, 0.007155278067001866, 0.007155558890602027, 0.008520036254156305, 0.03741214189455646, 0.036207164477793534, 0.0323972781554588, 0.027854374195383558, 0.023305230823158968, 0.01848195480882905, 0.018480562167011928, 0.014984559624599506, 0.01194738699899943, 0.011914432076020104, 0.011171243405135436, 0.009675121589463551, 0.020815028432705968, 0.00911034418222948, 0.009109767997717764, 0.009107987543657914, 0.008922650235665564, 0.008922047132677271, 0.008919695105895149, 0.02144868246635261, 0.008583801843497003, 0.007404937739876951, 0.007403813705589536, 0.007401536816567381, 0.007017025468484062, 0.007017022184142876, 0.0070164586644024364, 0.0070157390530813605, 0.007016294711074692, 0.00701636335624893, 0.007016228290085278, 0.007016439698279913, 0.028064511840055036, 0.026117008073422918, 0.026116409434490465, 0.022792193577123747, 0.049927939617568425, 0.022683627737192267, 0.019662816368847685, 0.01966137544291932, 0.018429046653040324, 0.01758719152570322, 0.02440599902498342, 0.015462438870555944, 0.014115172485219093, 0.029858482626614797, 0.011260314774382546, 0.010642543261571893, 0.010642733700175776, 0.010643920860976572, 0.010642860840137347, 0.010642531903324995, 0.010643365882676795, 0.01064211234352831, 0.010214095761226435, 0.00742800834015885, 0.007426500923479508, 0.007427285831696599, 0.007424680967945719, 0.007421999564817053, 0.010277896977694831, 0.007060578012441453, 0.04116776209765333, 0.029269331533963786, 0.024945009644795627, 0.01978779964816723, 0.017572567509431484, 0.014942562538935127, 0.013884218392618067, 0.012519212684828652, 0.012519152552182944, 0.010196031226486952, 0.010095741401571151, 0.010096248054975082, 0.010095960170286597, 0.01009506707909019, 0.010095732161233184, 0.010094793042800698, 0.01595590395857333, 0.00856766693606525, 0.0076731710780271415, 0.007673288679942787, 0.007673818039773637, 0.0076737946532150535, 0.007673316679375132, 0.007673367077501565, 0.007672307668850953, 0.007673033506370582, 0.007672139897500698, 0.00767162510402016, 0.007672434569288273, 0.007670399824495304, 0.026382038589852275, 0.023419935858427242, 0.018762834513523258, 0.013403347637366786, 0.013400483010747892, 0.029093838372190872, 0.011569049497752218, 0.010723107610283491, 0.010722098861761736, 0.010723304211160852, 0.008606339594493776, 0.008043128081391219, 0.008041929085012663, 0.0080421405706738, 0.008041128670901728, 0.008040164592497383, 0.005644479020561716, 0.005645026805337, 0.005644206755751491, 0.005644666181844057, 0.005643728523487958, 0.00564336562653687, 0.005641487788976547, 0.005363703304049302, 0.005362875145467984, 0.005362910929635861, 0.00536281068073291, 0.005361981810656958, 0.005362761164196887, 0.005362816652741185, 0.005362189491474689, 0.005362445817528126, 0.031488657402021045, 0.025745850780872926, 0.03028065431176552, 0.01805002514703717, 0.017303044472063357, 0.01708409149086526, 0.014206076451479721, 0.012425007261525331, 0.012423537138789815, 0.01644578134370574, 0.009880749406601639, 0.00987950853843209, 0.009877088195193182, 0.007553541802609872, 0.007553021291512899, 0.007550036770706871, 0.00727699201522903, 0.006519245107793784, 0.006505141270048949, 0.006500015130674738, 0.0062799064104441735, 0.006281038873508989, 0.006279358050843753, 0.006279054880591363, 0.0062784885409916886, 0.006277788902976803, 0.006278201873652762, 0.006277046053944904, 0.006276143146749517, 0.006275205295784139, 0.006275942171648111, 0.006276060630731866, 0.025593064305046834, 0.03929238546184739, 0.021771661479889147, 0.014124364199540487, 0.010301695637716058, 0.010301732095464226, 0.010302557124884737, 0.010301637800884358, 0.010301405236497082, 0.010301082594697477, 0.007832159302424304, 0.006479126035344371, 0.006479718425414467, 0.006478575296449618, 0.006478580611666518, 0.0064784197930110015, 0.006478048269239506, 0.006478458779838622, 0.006478137603729381, 0.006478483473502512, 0.006478168093469084, 0.006477687706639441, 0.0064783150157578, 0.006477451360291534, 0.006476967494853941, 0.006477182849800033, 0.005245619805229583, 0.005243299954722112, 0.005244137142483075, 0.005243052899678997, 0.006170455122237259, 0.02356695084266838, 0.020079325482008498, 0.016591308059892618, 0.013104279872286987, 0.009618454706417213, 0.009617564487918602, 0.009617402225720256, 0.009617431011776615, 0.009616969130675319, 0.009616990849452889, 0.009617207934475446, 0.009616790643027073, 0.009616571360665349, 0.006131153663439382, 0.006131486616244257, 0.006130267128536431, 0.006130540782333529, 0.006129843091306206, 0.0061302010491930455, 0.006129677439035493, 0.006129491973378059, 0.006130050062732216, 0.006129446041287171, 0.0061293601372059345, 0.006129959442094631, 0.006130127930709703, 0.006129960876145854, 0.006129755251436665, 0.006129013797442433, 0.006129474274365229, 0.006129839825927931, 0.006130160041227253, 0.006130012059983866, 0.00612968188637117, 0.006129572678777621, 0.006129606862106386, 0.03229869589692897, 0.030406237327160673, 0.020094475966416846, 0.016603168687394167, 0.015816852033826104, 0.013110732866871942, 0.013110424608391666, 0.015639198234235194, 0.008184361265298585, 0.00885073123784334, 0.009169807751719336, 0.006124824701266241, 0.006124881585936818, 0.006125303504224693, 0.00612349808418728, 0.0061231362370346406, 0.006123163483736149, 0.00612223759171156, 0.0061225466081365355, 0.006117263742230877, 0.005929007330944333, 0.005928800762189048, 0.005927992632667613, 0.00592763466775151, 0.005927095485869509, 0.005927786813862202, 0.005927460696476658, 0.005927499728751877, 0.005926728646958769, 0.0059266878996308775, 0.024582002346933612, 0.022971905461781378, 0.03489129253410641, 0.016325351418421077, 0.01531103609987193, 0.008067830098730312, 0.008068378996434991, 0.00806594420120269, 0.005315066159294156, 0.005315306507611464, 0.005315369972064301, 0.005315309031600728, 0.00531418636433243, 0.005314238344590166, 0.0053143665522115205, 0.00531449787582715, 0.0053138318492827194, 0.0053135454134443484, 0.005313521580978262, 0.005312241854638301, 0.0051047424991951945, 0.0025633291594616974, 0.002563187136477143, 0.002562872904106408, 0.0025631287430291187, 0.002563223069608113, 0.002563741119212831, 0.00256267966182399, 0.002562854323696544, 0.002563625216656263, 0.0025638777164324216, 0.0025645284390447927, 0.0025636541615097802, 0.002563382489256502, 0.002564247255170153, 0.002564117811098029, 0.002564204921818466, 0.002564509284917477, 0.0025642658471900378, 0.0025641537555854024, 0.0025647929407508077, 0.0025644452001705514, 0.0025647122804350764, 0.0025647599979666657, 0.002565353279093927, 0.0026112263687361257, 0.0025817798168108787, 0.002564898688538481, 0.002564877246646655, 0.0025775785549650267, 0.0025757848055837705, 0.002575074669149265, 0.002574892016319438, 0.0025745682303533143, 0.00257308410800756, 0.002572609772583856, 0.018874892130157632, 0.021372843711542553, 0.009776065040506297, 0.007952974129337313, 0.00431187665872093, 0.004311202130528893, 0.004311620074477443, 0.004311016265201697, 0.004310426481737741, 0.004309115642680122, 0.004307612209452278, 0.00430788860617354, 0.004306442792941956, 0.0043043019936310255, 0.004295736335476984, 0.0024927547899035282, 0.0024923691376782494, 0.0024921035735334003, 0.0024921694083913652, 0.002491416471956854, 0.002491730173892023, 0.002491691507651587, 0.002491667061363271, 0.0024917226945544877, 0.0024933536173424465, 0.00249213080446961, 0.0024931714809766537, 0.0024916355049466304, 0.002491750203410535, 0.002492211225313537, 0.002492456246711962, 0.0024935514238308776, 0.0024928212304585395, 0.0024930939102395665, 0.0024929956886253777, 0.0024934227181229334, 0.0024929108720637724, 0.002493473226788351, 0.002493462976372054, 0.0024932261720965847, 0.002492789847049517, 0.0024928571563303877, 0.002508265535358808, 0.0024930354291178352, 0.0024931621224281203, 0.0025037685886202888, 0.0025008585239242854, 0.002499960538037276, 0.0024934595612052016, 0.002493323440125588, 0.0025129542887916897, 0.0025127797432615384, 0.0025097244157074204, 0.0025065211371733454, 0.002500415408175471, 0.0024993007721772894, 0.002498916813494001, 0.002498407756286919, 0.0024982749335140737, 0.002497841477213402, 0.0024978126683581426, 0.002422787910417375, 0.002422912393337553, 0.00242258022757757, 0.002422025173403298, 0.0024226859929281437, 0.0024218627732245568, 0.002422490772898012, 0.0024227206641977005, 0.002423070275154719, 0.002422567510461762, 0.0024223555847281675, 0.0024222945878247123, 0.002421225901947569, 0.002421821567188745, 0.0024221609655364833, 0.0024216346191219887, 0.002421643600094681, 0.0024214280695492737, 0.002422247178575674, 0.0024219940116860534, 0.00242283513990459, 0.002422542343203604, 0.0024218173948382556, 0.0024211852798480538, 0.0024222573478935856, 0.0024225631123899753, 0.0024232932596001434, 0.002422899624738073, 0.0024221052421069798, 0.0024230457378996277, 0.002423441020534504, 0.0024229751177898013, 0.0024232125760980253, 0.0024228808337626367, 0.00242339282256341, 0.0024231986402615683, 0.0024231418537977983, 0.002422758591763566, 0.0024238918881712298, 0.002423584198638771, 0.0024234098791976974, 0.00242378691873048, 0.0024229723737558074, 0.0024229392747729997, 0.002423433179540668, 0.002423113683384009, 0.0024232284161673254, 0.0024232397682347677, 0.0024231317806764144, 0.0024236864031909056, 0.002423357035650037, 0.0024231061575921116, 0.0024230605596164603, 0.0024230774802150032, 0.0024236945220502777, 0.0024235663150087793, 0.0024241658567158374, 0.002423576109462578, 0.0024236145684941235, 0.0024233225322860615, 0.002423473425389082, 0.002439651358755573, 0.002435768595966097, 0.002435221450197342, 0.0024344375314507734, 0.00243353223110134, 0.0024325109604536915, 0.0024323143706220978, 0.0024307971862968574, 0.002430580325102793, 0.002430549759774099, 0.0024302192400723873, 0.0024294459240187904, 0.002429286602655751, 0.0024291346178324223, 0.0024289515728231716, 0.0024288009222958526, 0.002428746784871901, 0.0024284798838979504, 0.002428360923734912, 0.002428325815754242, 0.0024282040296068294, 0.0024281852929770933, 0.0024280932368379764, 0.002428037041989018, 0.002427970890097937, 0.002427659977304678, 0.0024276542129070657, 0.0024273988178007094, 0.002427272463852376, 0.002427185265533612, 0.0024229007414206046, 0.0024227600514416616, 0.0024222825490819683, 0.0024223214965288964, 0.0024215879196167332, 0.002422519351683087, 0.002422723674468255, 0.0024220554216304226, 0.002423183576025528, 0.0024231651148990648, 0.0024235349939452605, 0.002422506291989938, 0.0024219863242500566, 0.002422534623581715, 0.0024218945181472915, 0.002422420926873706, 0.002422288041001531, 0.0024214409045909325, 0.0024233025103532414, 0.0024224354393877195, 0.002422549271669472, 0.0024224922265139786, 0.002422229307077951, 0.0024223065968732517, 0.0024223252866936587, 0.0024220861008385913, 0.002422840677989657, 0.0024241171134484385, 0.0024224165714689717, 0.002422252685807348, 0.002423027474913831, 0.0024227236377367756, 0.002422750887686491, 0.002422675778112013, 0.0024231294807054607, 0.0024231217313105038, 0.0024235951140511402, 0.002423006730910449, 0.0024229457071220277, 0.002423351110934664, 0.002423484668093812, 0.0024235102343320675, 0.0024234021012752073, 0.0024231522864895353, 0.002423169773269821, 0.0024239621534083568, 0.0024242708851038197, 0.002423603587117704, 0.002423012441871985, 0.002422834092785938, 0.0024235682690612733, 0.002423525638235682, 0.0024233087563872912, 0.0024233958840301608, 0.002423262000595409, 0.0024232433693952577, 0.0024238315873453976, 0.002423675622443344, 0.002423546991342034, 0.0024233600102021415, 0.002423375077650793, 0.0024271637531272138, 0.0024270554085962376, 0.002426853197226437, 0.002426517427192718, 0.002426193705807871, 0.002425988585164143, 0.0024259458052007144, 0.0024258657930809066, 0.002425431612891176, 0.0024253029522469847, 0.002425297218515226, 0.002425218040429588, 0.002425136003755533, 0.002425112664167283, 0.002425106071498638, 0.0024250547047708925, 0.0024249569234118915, 0.0024248574286551477, 0.0024248155065328255, 0.002424772139753129, 0.0024247534702008487, 0.002424662675452718, 0.0024246457428753056, 0.002424582675038332, 0.002424565187525036, 0.00242445676652796, 0.0024244192602107884, 0.0024244178813245558, 0.0024243811090071243, 0.0024243412357721943], \"Total\": [2.0, 0.0, 4.0, 4.0, 4.0, 4.0, 4.0, 4.0, 4.0, 4.0, 4.0, 4.0, 4.0, 4.0, 4.0, 4.0, 4.0, 4.0, 4.0, 4.0, 4.0, 4.0, 4.0, 4.0, 4.0, 4.0, 4.0, 4.0, 4.0, 4.0, 14.341578425522451, 13.696922881571464, 13.391264680682191, 11.822358152459033, 9.012040016215078, 8.688884611418402, 8.590844791197261, 8.416697277023136, 8.40582479393515, 8.168305404594367, 8.156379399274165, 7.925816109581855, 7.776367848269277, 7.5859115617410575, 7.551540045752944, 7.548020583585404, 7.512382911566286, 7.4372204580342824, 7.432653545343159, 7.426026882063769, 7.37685853143951, 7.262598447681805, 7.2481438033644405, 7.208644653517512, 7.0428347188941265, 7.009774990953091, 6.911539593445848, 6.895015266670324, 6.679490812548969, 6.658920053503891, 0.14598118111608022, 0.14092583202644254, 0.1390187188635366, 0.13886905256468918, 0.13713259099774538, 0.13562422911616323, 0.13516839016843343, 0.1351842370894947, 0.13235408907558982, 0.1302057372504354, 0.12999320920501972, 0.12950413810220127, 0.12830076807489896, 0.12631814835467242, 0.12594711614147416, 0.12491098983521412, 0.123116852057649, 0.12311702684868242, 0.16589960987432414, 0.12098903146740522, 0.12025339312600102, 0.12000953939210211, 0.11868853330060729, 0.17478085366067736, 0.1183942233842171, 0.11566558383567332, 0.11567933577672716, 0.17976611247994187, 0.11523477768621052, 0.11526424163646834, 0.22704150692939856, 0.20136667914653977, 0.35556342007052355, 0.3407154410617186, 0.2523984091233806, 0.15085345704786363, 0.4094708857832246, 0.13170365446744725, 0.12636756308125954, 0.12588591390974993, 0.8727101989456291, 0.29755526525866804, 0.1738001361216908, 0.4905606482741109, 0.11590078541148152, 0.11333820613727945, 0.42935413979323284, 0.11197403066309042, 0.11155240011017158, 0.14189561636689538, 0.10991312592780833, 0.10829913037935536, 0.10829563221989577, 0.1083198093379215, 0.23689648608462197, 0.19107116987079784, 0.22506440205217523, 0.1055949867200349, 0.10553482187684823, 0.10553212379699742, 0.1052589545787891, 0.10472082877219258, 0.10453588840160648, 0.10454515836877144, 0.16528255850939705, 0.14971934083210103, 2.3734081757817544, 1.0613136582000104, 0.16002850207844985, 0.14489596211369515, 0.13700368278355027, 0.12506321897706862, 0.12368468075531845, 0.12344735941080356, 0.12272114050068288, 0.12191762283478613, 0.12115247843804929, 0.12397392621741561, 0.11831229107797442, 0.11555722226564347, 0.11563038570093495, 0.1127344759024128, 0.11274540777136997, 0.11120075481679452, 0.11002715988603898, 0.10733966106635903, 0.10698596889654108, 0.10541249372128626, 0.10542848187129203, 0.10544168433919449, 0.10519894100686725, 0.10524006974301583, 0.10528136149759215, 0.10464690023043519, 0.10463878364551593, 0.10360797005618685, 0.10245504540893581, 0.10245924529660656, 0.10247334103586496, 0.17838623509301604, 0.191002649900111, 0.16106577870275515, 0.1409551130453429, 0.13439156261389948, 0.15442176655337506, 0.12733348323325522, 0.12120591034985663, 0.12072484311905074, 0.13959052015581178, 0.11963533332332443, 0.11902491850328194, 0.18801335929728868, 0.11813132724044355, 0.1660205411202553, 0.1141270518934115, 0.11410270275099677, 0.1141089089527518, 0.11219128987434107, 0.11081921288253638, 0.11059519277979613, 0.1100271275732362, 0.10640266889577393, 0.10642236273325659, 0.23418322067131078, 0.10600951933114315, 0.21034583757128722, 0.10502677683862305, 0.10478939691434148, 0.10481034263926481, 0.10479587635763005, 0.10459988784365568, 0.10436095641378496, 0.2420619586355793, 0.24518293057522633, 0.13269885616898763, 0.129189080992045, 0.13415565458503975, 0.12115464434213609, 0.12100800950543175, 0.11898471572647608, 0.11898773667883504, 0.11844869329855821, 0.1696542514239931, 0.11556837436588166, 0.11410003475961353, 0.11305795624403231, 0.11306947309542316, 0.11289417768862449, 0.11109848320266419, 0.11110360978969694, 0.11057759455965047, 0.11060633904710958, 0.10922646061056386, 0.10887772173397472, 0.10799169738362728, 0.10478966537555466, 0.10480327861948897, 0.10396734878461877, 0.10398631236512058, 0.15352878308054294, 0.1043254372739591, 0.10344002183387808, 0.10250637915598819, 0.1025170248096113, 0.14429270266584387, 0.16010649341935443, 0.1566121992544772, 0.1471712022741137, 0.12039530222901743, 0.1123372394765404, 0.1533317931632163, 0.10301158242265909, 0.10089368768795032, 0.14408984518752818, 0.10051294457322939, 0.09847725568018145, 0.0984727693980365, 0.0984909452364658, 0.09849896355911092, 0.0984990455163863, 0.09851854172289752, 0.09840695447812386, 0.0984245179730288, 0.09842533943937276, 0.09842397163704444, 0.09843052543209566, 0.09843052079759147, 0.09842886394774815, 0.0984258796525727, 0.09843243296294843, 0.09843629362148515, 0.09842454674641825, 0.09842937336396218, 0.09843445094092962, 0.09844647435631505, 0.09844707014434645, 0.09843778173437703, 0.09845251335221394, 0.13539951300545283, 0.12769763817189023, 0.12351476247822721, 0.12154157792358043, 0.11807445839364603, 0.11670294806901209, 0.11359580409961599, 0.113662559962074, 0.11290848937053122, 0.11820946627747905, 0.10542145390454782, 0.10423862224806647, 0.10427354421628916, 0.10426972029217588, 0.10387680075355946, 0.10233483763084396, 0.1014981839754656, 0.10153038775894667, 0.10141707757856248, 0.13598251229627337, 0.14014470977995194, 0.10446035404780597, 0.10555048892151708, 0.09809072546366847, 0.09808466484511721, 0.09809116734037897, 0.0981071071221259, 0.09811122328545055, 0.09809357214451546, 0.09810457435163378, 0.09811107175898177, 0.17444603471481077, 0.12855778755850308, 0.12723469648424404, 0.12342436225453124, 0.11885297825931723, 0.1144028785596254, 0.10948775294539635, 0.10951282273795199, 0.1060289480253214, 0.1029849572436835, 0.1034094196474538, 0.10218826803503951, 0.10071337139981974, 0.22716567853291356, 0.10011897180762763, 0.10013471679722391, 0.10012952943118587, 0.09994914528550591, 0.09995596229000499, 0.09998421047899131, 0.24262858724587924, 0.10286567475628806, 0.09843196530008139, 0.09843557421602364, 0.09847416167006383, 0.09800612924743614, 0.09801264634448952, 0.09802069916507902, 0.09801306243640204, 0.09802330501948112, 0.09802659479884739, 0.09802557586044774, 0.09803592508718756, 0.11905228558962798, 0.11712715903109663, 0.1171388988841824, 0.11386562228036379, 0.25036395464304717, 0.11620461536193852, 0.11066345492069568, 0.11066109797221826, 0.10944785237819765, 0.10863973798058876, 0.1635858547003915, 0.10645392676188531, 0.10513083171600923, 0.23798273490610117, 0.1022679836051134, 0.10165042102934609, 0.10165501842702523, 0.1016701498397583, 0.10166307617077276, 0.1016621878251691, 0.10167890514662804, 0.10167902164631382, 0.10126908094822647, 0.09841912469027522, 0.09843469085075844, 0.09845469640111973, 0.09845796144721233, 0.09852061820517541, 0.14177851614692766, 0.09806363063188736, 0.13222874534986495, 0.12032837214311054, 0.11599652626719834, 0.11082533819588251, 0.10862377590367168, 0.1059622084273467, 0.10493976157796314, 0.10354258874236691, 0.10357171215282926, 0.10129709044604904, 0.10112027794405413, 0.10114066427518004, 0.10114350115959482, 0.10115162641148172, 0.10115921335041646, 0.10115566029947896, 0.16531235665097702, 0.09960346588261836, 0.09869553517370772, 0.09869881854257141, 0.09870827453649786, 0.09870841535467277, 0.09870319837094922, 0.0987043306914142, 0.09869523763773794, 0.09870773243068333, 0.0987078209236856, 0.09872280480078763, 0.09874020110941097, 0.09873257169671006, 0.11755608230892498, 0.11460228394121043, 0.10994151134303992, 0.10459332100426817, 0.10458779479269117, 0.2338640311862601, 0.10276437182110287, 0.10190320138323301, 0.10190369555804807, 0.10191995000931639, 0.09981018464609864, 0.09922241105751071, 0.09922711206965676, 0.09924690303648981, 0.09924188723445386, 0.09923360847745098, 0.09682452217318532, 0.0968401401913542, 0.09683560812528548, 0.09684752799444837, 0.09683150020856515, 0.09684959441975242, 0.09687406695041474, 0.0965344883838671, 0.09652431792823099, 0.09653412666668643, 0.09653740130122383, 0.09652910202310863, 0.0965448739825975, 0.09654591825549615, 0.09653783017159796, 0.09655097602672, 0.12273188327397, 0.11696171763936898, 0.16593562090481495, 0.10934358436506167, 0.10851241671802622, 0.10826027568682955, 0.10549504205613143, 0.10364879675677356, 0.10370173954541477, 0.15200721904097017, 0.10108788991766728, 0.10109474722192659, 0.1011388371437921, 0.0987392125638609, 0.09873638024602208, 0.09878256576256708, 0.10129661020321049, 0.09777011044481501, 0.09794767026103461, 0.09800643159709324, 0.09745029100517977, 0.09748421846996837, 0.0974835267674161, 0.09748441774853582, 0.09749972057518318, 0.09749168523529882, 0.0975007685456848, 0.09750221508346907, 0.09751461932792024, 0.09752701200825172, 0.09754068790382167, 0.09755054214243336, 0.11679743177951928, 0.18144635581162158, 0.11297602850830679, 0.10531597985932416, 0.10149557678936426, 0.10151138555319632, 0.10152121575286274, 0.10151884715897433, 0.10152523691023918, 0.10152591093829087, 0.0991020596075102, 0.0976666617398847, 0.09768169382652102, 0.09768027765568042, 0.09768071989662248, 0.09767845306700515, 0.09767918695726038, 0.09768637500787163, 0.09768736626545932, 0.0976965587779667, 0.09769699928161599, 0.09769118447150593, 0.09770414008124396, 0.09770074435632523, 0.09770513608177157, 0.09771472878614018, 0.09645998579386393, 0.09647013456877056, 0.0964880218415241, 0.09647302433632021, 0.13361786880941015, 0.1147863974702359, 0.11129961137859465, 0.10782859535117749, 0.10431972356550569, 0.10082883611521695, 0.10082238978653936, 0.10082644129212466, 0.10083040371655258, 0.10083293183415923, 0.10083377995335929, 0.10083863153182383, 0.100840777871824, 0.10084826699245862, 0.09733515364008635, 0.09734971989670183, 0.09733881661908318, 0.09734512330566787, 0.09733730653385231, 0.09734321280508022, 0.09733961186560058, 0.09733893251423865, 0.09734960964989695, 0.09734071550145425, 0.09734234906061176, 0.0973519569411911, 0.09735504346993668, 0.09735303722309556, 0.09735053896575974, 0.09734128022861942, 0.09734867403846856, 0.09735571955308148, 0.09736239718194775, 0.09736533741492542, 0.09735932087908927, 0.097353718752882, 0.09736687506079461, 0.12359987502893668, 0.12168776129965284, 0.11136283227734842, 0.10784082176100215, 0.10708090852394023, 0.10433566494201557, 0.10433462514279758, 0.18764404177949742, 0.09944559597709185, 0.12069462936213957, 0.14175018251773022, 0.09734854527006999, 0.09735471145423823, 0.09736644526239492, 0.0973575754701925, 0.09738740892225166, 0.09739792850100011, 0.09738404293128894, 0.09740459263229231, 0.09746165273393449, 0.09715426911649394, 0.09716394881311438, 0.09716646208363529, 0.09716701706632898, 0.09715899497555645, 0.09717671450726482, 0.09717821207237362, 0.09718042146106876, 0.09717900120262564, 0.09718657296505899, 0.11588320919296918, 0.11437452943382594, 0.19299413018416714, 0.10762282455287253, 0.10679413814044827, 0.09934944233440561, 0.099379238860366, 0.09938118459315111, 0.09661493591457523, 0.09661970795651335, 0.09662625806252223, 0.09662661396519988, 0.0966270681105496, 0.09663306548095979, 0.09663915455531273, 0.09664219001179905, 0.09663733958324183, 0.09664739818971226, 0.09664968974619405, 0.09664780547130308, 0.09655150405232257, 0.09569849320532597, 0.09571079735200408, 0.09570133023795356, 0.09571408493577735, 0.09572090740618866, 0.09575348239831345, 0.09574024641876203, 0.0957685810185397, 0.09580356839050852, 0.09582471807756134, 0.09589574140336912, 0.09582410769477584, 0.09580817234744432, 0.09615344783655651, 0.09615684038269669, 0.09629239868297135, 0.09651747102180887, 0.09633664771769693, 0.096283815771754, 0.09693036227748818, 0.09662094876630087, 0.0969739035655967, 0.09718657296505899, 0.09842810959466096, 0.3397017061257175, 0.17478388596404473, 0.09756423155238537, 0.09758034768368133, 7.548020583585404, 1.6589500095124967, 7.776367848269277, 3.4860620607289556, 0.2098420903809479, 4.347763418572526, 0.5683952837777844, 0.11033266230215759, 0.15700246560421083, 0.10115895104035119, 0.09933108877837478, 0.09570133023795356, 0.09569849320532597, 0.09571408493577735, 0.09571079735200408, 0.09572090740618866, 0.09574024641876203, 0.09575348239831345, 0.0957685810185397, 0.09577599737627383, 0.09580501891214468, 0.09593431197922085, 0.09580356839050852, 0.09579586593293025, 0.09580817234744432, 0.09581301197420147, 0.09580587500480035, 0.09582471807756134, 0.09582410769477584, 0.0958268202102377, 0.09586723904513485, 0.09593325807743792, 0.09589574140336912, 0.09595916751880806, 0.09597090685498275, 0.09603162334618065, 0.09608298240632501, 0.0961149665250762, 0.09627530962231019, 0.0961960733075322, 0.096283815771754, 0.09630421126471499, 0.09645998579386393, 0.09628401098601913, 0.09650647147465155, 0.09651496199441713, 0.09656237297275036, 0.09647548886248403, 0.09661970795651335, 0.12204429186051206, 0.09687406695041474, 0.0971273462378613, 0.12210635124348214, 0.12213650207796704, 0.12216999243772994, 0.09793145654017961, 0.09754952456921002, 0.7124429605614794, 0.33142130907481476, 0.3017151106824554, 0.5028554879396997, 0.2916734839848877, 0.6358308864933961, 0.4265896754689212, 2.6256093663325957, 0.46265665113099447, 0.42107982668843064, 0.5783366318794316, 0.09570133023795356, 0.09572090740618866, 0.09571408493577735, 0.09569849320532597, 0.09574024641876203, 0.09571079735200408, 0.09575348239831345, 0.0957685810185397, 0.09581301197420147, 0.09579586593293025, 0.09580356839050852, 0.09580587500480035, 0.09577599737627383, 0.09580501891214468, 0.0958268202102377, 0.09580817234744432, 0.09582471807756134, 0.09582410769477584, 0.09586723904513485, 0.09589574140336912, 0.09593325807743792, 0.09595916751880806, 0.09593431197922085, 0.09597090685498275, 0.09603162334618065, 0.09608298240632501, 0.09615344783655651, 0.09614806177684254, 0.0961174040673407, 0.09616096439767276, 0.0961960733075322, 0.09618728390925028, 0.09624387852585975, 0.09618083049397129, 0.096331581084285, 0.09628261827082914, 0.09630042073806878, 0.09618193896289846, 0.09666374327799793, 0.09655325388471463, 0.09647871339578774, 0.09669225981656689, 0.09629108737808227, 0.09629350517277573, 0.09668120795371261, 0.096479549239381, 0.09663915455531273, 0.0966751395619506, 0.09656587698076333, 0.09751714619896014, 0.09702717906022586, 0.09659604969610978, 0.09651400565727533, 0.09654893401739367, 0.09806835955158082, 0.09757407304754168, 0.10012952943118587, 0.09806896324416092, 0.09845040647019272, 0.09735311796209782, 0.09806257250555753, 5.865904919047199, 0.8869847881168321, 4.802465993156875, 2.416096167479949, 0.8726363109578461, 14.341578425522451, 1.233590471626098, 1.0409779227543166, 0.8300012604237904, 4.019567297645742, 1.0729755052306624, 1.1489920780622724, 0.727908354259879, 0.3604455299301014, 0.2205904739787275, 0.7158824547763222, 2.111417828562486, 0.2205795265076796, 1.0550171229273804, 6.2798672182345205, 0.5744427263619369, 4.195799381249827, 1.8451389410747199, 2.7825145996458223, 4.648512556001404, 0.7933248690876807, 2.4526079785552346, 0.2483780661361851, 4.347763418572526, 3.8915639084014155, 0.09569849320532597, 0.09571079735200408, 0.09571408493577735, 0.09572090740618866, 0.09570133023795356, 0.09574024641876203, 0.0957685810185397, 0.09575348239831345, 0.09580356839050852, 0.09580817234744432, 0.09582471807756134, 0.09579586593293025, 0.09577599737627383, 0.09581301197420147, 0.09580501891214468, 0.0958268202102377, 0.09582410769477584, 0.09580587500480035, 0.09589574140336912, 0.09586723904513485, 0.09593325807743792, 0.09593431197922085, 0.09595916751880806, 0.09597090685498275, 0.09603162334618065, 0.09608298240632501, 0.09611389828925013, 0.0961840457979885, 0.0961174040673407, 0.0961149665250762, 0.09615344783655651, 0.09614234432174744, 0.09616314634822425, 0.09617194275206208, 0.09631213709837451, 0.09631265547114067, 0.09649086538023148, 0.0962949749173678, 0.09628261827082914, 0.09649184356536593, 0.09658825295288397, 0.09665861671272243, 0.09662094876630087, 0.09653412666668643, 0.09658866097112968, 0.0974984875080232, 0.09805935957618012, 0.09721893419422675, 0.09651565192957408, 0.09628024343765787, 0.09730756500345347, 0.09724679133506099, 0.09696368013078621, 0.09715426911649394, 0.09693535632782456, 0.09691837869672044, 0.09846093661916286, 0.09817504348511347, 0.09802069916507902, 0.09730626251919455, 0.09746967287713643, 3.8461233952149927, 0.6358308864933961, 0.9343228541484538, 2.0037475120809707, 0.32848200072278794, 0.5626237982366079, 2.2419432699028863, 0.6238606828354802, 1.470480249920429, 2.8233579448499646, 2.3453653534040786, 6.390660458683453, 0.6099066955354567, 0.44891622081927024, 5.946654480861716, 0.7224633796363302, 6.172049136981545, 1.20065551030273, 2.151647938398416, 3.643197463766567, 3.428917636926675, 2.607235561701963, 0.7969472860583338, 0.6829412398594944, 0.15941839295424204, 1.006207029277164, 0.8837985243764899, 0.2922725159172283, 0.18439296766299568, 0.1530678941698462], \"Category\": [\"Default\", \"Default\", \"Default\", \"Default\", \"Default\", \"Default\", \"Default\", \"Default\", \"Default\", \"Default\", \"Default\", \"Default\", \"Default\", \"Default\", \"Default\", \"Default\", \"Default\", \"Default\", \"Default\", \"Default\", \"Default\", \"Default\", \"Default\", \"Default\", \"Default\", \"Default\", \"Default\", \"Default\", \"Default\", \"Default\", \"Topic1\", \"Topic1\", \"Topic1\", \"Topic1\", \"Topic1\", \"Topic1\", \"Topic1\", \"Topic1\", \"Topic1\", \"Topic1\", \"Topic1\", \"Topic1\", \"Topic1\", \"Topic1\", \"Topic1\", \"Topic1\", \"Topic1\", \"Topic1\", \"Topic1\", \"Topic1\", \"Topic1\", \"Topic1\", \"Topic1\", \"Topic1\", \"Topic1\", \"Topic1\", \"Topic1\", \"Topic1\", \"Topic1\", \"Topic1\", \"Topic2\", \"Topic2\", \"Topic2\", \"Topic2\", \"Topic2\", \"Topic2\", \"Topic2\", \"Topic2\", \"Topic2\", \"Topic2\", \"Topic2\", \"Topic2\", \"Topic2\", \"Topic2\", \"Topic2\", \"Topic2\", \"Topic2\", \"Topic2\", \"Topic2\", \"Topic2\", \"Topic2\", \"Topic2\", \"Topic2\", \"Topic2\", \"Topic2\", \"Topic2\", \"Topic2\", \"Topic2\", \"Topic2\", \"Topic2\", \"Topic2\", \"Topic2\", \"Topic2\", \"Topic2\", \"Topic3\", \"Topic3\", \"Topic3\", \"Topic3\", \"Topic3\", \"Topic3\", \"Topic3\", \"Topic3\", \"Topic3\", \"Topic3\", \"Topic3\", \"Topic3\", \"Topic3\", \"Topic3\", \"Topic3\", \"Topic3\", \"Topic3\", \"Topic3\", \"Topic3\", \"Topic3\", \"Topic3\", \"Topic3\", \"Topic3\", \"Topic3\", \"Topic3\", \"Topic3\", \"Topic3\", \"Topic3\", \"Topic3\", \"Topic3\", \"Topic3\", \"Topic3\", \"Topic3\", \"Topic3\", \"Topic3\", \"Topic4\", \"Topic4\", \"Topic4\", \"Topic4\", \"Topic4\", \"Topic4\", \"Topic4\", \"Topic4\", \"Topic4\", \"Topic4\", \"Topic4\", \"Topic4\", \"Topic4\", \"Topic4\", \"Topic4\", \"Topic4\", \"Topic4\", \"Topic4\", \"Topic4\", \"Topic4\", \"Topic4\", \"Topic4\", \"Topic4\", \"Topic4\", \"Topic4\", \"Topic4\", \"Topic4\", \"Topic4\", \"Topic4\", \"Topic4\", \"Topic4\", \"Topic4\", \"Topic4\", \"Topic5\", \"Topic5\", \"Topic5\", \"Topic5\", \"Topic5\", \"Topic5\", \"Topic5\", \"Topic5\", \"Topic5\", \"Topic5\", \"Topic5\", \"Topic5\", \"Topic5\", \"Topic5\", \"Topic5\", \"Topic5\", \"Topic5\", \"Topic5\", \"Topic5\", \"Topic5\", \"Topic5\", \"Topic5\", \"Topic5\", \"Topic5\", \"Topic5\", \"Topic5\", \"Topic5\", \"Topic5\", \"Topic5\", \"Topic5\", \"Topic5\", \"Topic5\", \"Topic6\", \"Topic6\", \"Topic6\", \"Topic6\", \"Topic6\", \"Topic6\", \"Topic6\", \"Topic6\", \"Topic6\", \"Topic6\", \"Topic6\", \"Topic6\", \"Topic6\", \"Topic6\", \"Topic6\", \"Topic6\", \"Topic6\", \"Topic6\", \"Topic6\", \"Topic6\", \"Topic6\", \"Topic6\", \"Topic6\", \"Topic6\", \"Topic6\", \"Topic6\", \"Topic6\", \"Topic6\", \"Topic6\", \"Topic6\", \"Topic6\", \"Topic7\", \"Topic7\", \"Topic7\", \"Topic7\", \"Topic7\", \"Topic7\", \"Topic7\", \"Topic7\", \"Topic7\", \"Topic7\", \"Topic7\", \"Topic7\", \"Topic7\", \"Topic7\", \"Topic7\", \"Topic7\", \"Topic7\", \"Topic7\", \"Topic7\", \"Topic7\", \"Topic7\", \"Topic7\", \"Topic7\", \"Topic7\", \"Topic7\", \"Topic7\", \"Topic7\", \"Topic7\", \"Topic7\", \"Topic7\", \"Topic7\", \"Topic7\", \"Topic7\", \"Topic8\", \"Topic8\", \"Topic8\", \"Topic8\", \"Topic8\", \"Topic8\", \"Topic8\", \"Topic8\", \"Topic8\", \"Topic8\", \"Topic8\", \"Topic8\", \"Topic8\", \"Topic8\", \"Topic8\", \"Topic8\", \"Topic8\", \"Topic8\", \"Topic8\", \"Topic8\", \"Topic8\", \"Topic8\", \"Topic8\", \"Topic8\", \"Topic8\", \"Topic8\", \"Topic8\", \"Topic8\", \"Topic8\", \"Topic8\", \"Topic8\", \"Topic8\", \"Topic9\", \"Topic9\", \"Topic9\", \"Topic9\", \"Topic9\", \"Topic9\", \"Topic9\", \"Topic9\", \"Topic9\", \"Topic9\", \"Topic9\", \"Topic9\", \"Topic9\", \"Topic9\", \"Topic9\", \"Topic9\", \"Topic9\", \"Topic9\", \"Topic9\", \"Topic9\", \"Topic9\", \"Topic9\", \"Topic9\", \"Topic9\", \"Topic9\", \"Topic9\", \"Topic9\", \"Topic9\", \"Topic9\", \"Topic9\", \"Topic9\", \"Topic9\", \"Topic10\", \"Topic10\", \"Topic10\", \"Topic10\", \"Topic10\", \"Topic10\", \"Topic10\", \"Topic10\", \"Topic10\", \"Topic10\", \"Topic10\", \"Topic10\", \"Topic10\", \"Topic10\", \"Topic10\", \"Topic10\", \"Topic10\", \"Topic10\", \"Topic10\", \"Topic10\", \"Topic10\", \"Topic10\", \"Topic10\", \"Topic10\", \"Topic10\", \"Topic10\", \"Topic10\", \"Topic10\", \"Topic10\", \"Topic10\", \"Topic11\", \"Topic11\", \"Topic11\", \"Topic11\", \"Topic11\", \"Topic11\", \"Topic11\", \"Topic11\", \"Topic11\", \"Topic11\", \"Topic11\", \"Topic11\", \"Topic11\", \"Topic11\", \"Topic11\", \"Topic11\", \"Topic11\", \"Topic11\", \"Topic11\", \"Topic11\", \"Topic11\", \"Topic11\", \"Topic11\", \"Topic11\", \"Topic11\", \"Topic11\", \"Topic11\", \"Topic11\", \"Topic11\", \"Topic11\", \"Topic12\", \"Topic12\", \"Topic12\", \"Topic12\", \"Topic12\", \"Topic12\", \"Topic12\", \"Topic12\", \"Topic12\", \"Topic12\", \"Topic12\", \"Topic12\", \"Topic12\", \"Topic12\", \"Topic12\", \"Topic12\", \"Topic12\", \"Topic12\", \"Topic12\", \"Topic12\", \"Topic12\", \"Topic12\", \"Topic12\", \"Topic12\", \"Topic12\", \"Topic12\", \"Topic12\", \"Topic12\", \"Topic12\", \"Topic12\", \"Topic12\", \"Topic12\", \"Topic13\", \"Topic13\", \"Topic13\", \"Topic13\", \"Topic13\", \"Topic13\", \"Topic13\", \"Topic13\", \"Topic13\", \"Topic13\", \"Topic13\", \"Topic13\", \"Topic13\", \"Topic13\", \"Topic13\", \"Topic13\", \"Topic13\", \"Topic13\", \"Topic13\", \"Topic13\", \"Topic13\", \"Topic13\", \"Topic13\", \"Topic13\", \"Topic13\", \"Topic13\", \"Topic13\", \"Topic13\", \"Topic13\", \"Topic13\", \"Topic13\", \"Topic13\", \"Topic14\", \"Topic14\", \"Topic14\", \"Topic14\", \"Topic14\", \"Topic14\", \"Topic14\", \"Topic14\", \"Topic14\", \"Topic14\", \"Topic14\", \"Topic14\", \"Topic14\", \"Topic14\", \"Topic14\", \"Topic14\", \"Topic14\", \"Topic14\", \"Topic14\", \"Topic14\", \"Topic14\", \"Topic14\", \"Topic14\", \"Topic14\", \"Topic14\", \"Topic14\", \"Topic14\", \"Topic14\", \"Topic14\", \"Topic14\", \"Topic14\", \"Topic15\", \"Topic15\", \"Topic15\", \"Topic15\", \"Topic15\", \"Topic15\", \"Topic15\", \"Topic15\", \"Topic15\", \"Topic15\", \"Topic15\", \"Topic15\", \"Topic15\", \"Topic15\", \"Topic15\", \"Topic15\", \"Topic15\", \"Topic15\", \"Topic15\", \"Topic15\", \"Topic15\", \"Topic15\", \"Topic15\", \"Topic15\", \"Topic15\", \"Topic15\", \"Topic15\", \"Topic15\", \"Topic15\", \"Topic15\", \"Topic15\", \"Topic15\", \"Topic15\", \"Topic15\", \"Topic15\", \"Topic15\", \"Topic16\", \"Topic16\", \"Topic16\", \"Topic16\", \"Topic16\", \"Topic16\", \"Topic16\", \"Topic16\", \"Topic16\", \"Topic16\", \"Topic16\", \"Topic16\", \"Topic16\", \"Topic16\", \"Topic16\", \"Topic16\", \"Topic16\", \"Topic16\", \"Topic16\", \"Topic16\", \"Topic16\", \"Topic16\", \"Topic16\", \"Topic16\", \"Topic16\", \"Topic16\", \"Topic16\", \"Topic16\", \"Topic16\", \"Topic16\", \"Topic17\", \"Topic17\", \"Topic17\", \"Topic17\", \"Topic17\", \"Topic17\", \"Topic17\", \"Topic17\", \"Topic17\", \"Topic17\", \"Topic17\", \"Topic17\", \"Topic17\", \"Topic17\", \"Topic17\", \"Topic17\", \"Topic17\", \"Topic17\", \"Topic17\", \"Topic17\", \"Topic17\", \"Topic17\", \"Topic17\", \"Topic17\", \"Topic17\", \"Topic17\", \"Topic17\", \"Topic17\", \"Topic17\", \"Topic17\", \"Topic17\", \"Topic17\", \"Topic17\", \"Topic17\", \"Topic17\", \"Topic17\", \"Topic17\", \"Topic17\", \"Topic17\", \"Topic17\", \"Topic17\", \"Topic17\", \"Topic17\", \"Topic17\", \"Topic17\", \"Topic17\", \"Topic17\", \"Topic17\", \"Topic17\", \"Topic17\", \"Topic17\", \"Topic17\", \"Topic17\", \"Topic17\", \"Topic17\", \"Topic17\", \"Topic18\", \"Topic18\", \"Topic18\", \"Topic18\", \"Topic18\", \"Topic18\", \"Topic18\", \"Topic18\", \"Topic18\", \"Topic18\", \"Topic18\", \"Topic18\", \"Topic18\", \"Topic18\", \"Topic18\", \"Topic18\", \"Topic18\", \"Topic18\", \"Topic18\", \"Topic18\", \"Topic18\", \"Topic18\", \"Topic18\", \"Topic18\", \"Topic18\", \"Topic18\", \"Topic18\", \"Topic18\", \"Topic18\", \"Topic18\", \"Topic18\", \"Topic18\", \"Topic18\", \"Topic18\", \"Topic18\", \"Topic18\", \"Topic18\", \"Topic18\", \"Topic18\", \"Topic18\", \"Topic18\", \"Topic18\", \"Topic18\", \"Topic18\", \"Topic18\", \"Topic18\", \"Topic18\", \"Topic18\", \"Topic18\", \"Topic18\", \"Topic18\", \"Topic18\", \"Topic18\", \"Topic18\", \"Topic18\", \"Topic18\", \"Topic18\", \"Topic18\", \"Topic18\", \"Topic18\", \"Topic18\", \"Topic19\", \"Topic19\", \"Topic19\", \"Topic19\", \"Topic19\", \"Topic19\", \"Topic19\", \"Topic19\", \"Topic19\", \"Topic19\", \"Topic19\", \"Topic19\", \"Topic19\", \"Topic19\", \"Topic19\", \"Topic19\", \"Topic19\", \"Topic19\", \"Topic19\", \"Topic19\", \"Topic19\", \"Topic19\", \"Topic19\", \"Topic19\", \"Topic19\", \"Topic19\", \"Topic19\", \"Topic19\", \"Topic19\", \"Topic19\", \"Topic19\", \"Topic19\", \"Topic19\", \"Topic19\", \"Topic19\", \"Topic19\", \"Topic19\", \"Topic19\", \"Topic19\", \"Topic19\", \"Topic19\", \"Topic19\", \"Topic19\", \"Topic19\", \"Topic19\", \"Topic19\", \"Topic19\", \"Topic19\", \"Topic19\", \"Topic19\", \"Topic19\", \"Topic19\", \"Topic19\", \"Topic19\", \"Topic19\", \"Topic19\", \"Topic19\", \"Topic19\", \"Topic19\", \"Topic19\", \"Topic19\", \"Topic19\", \"Topic19\", \"Topic19\", \"Topic19\", \"Topic19\", \"Topic19\", \"Topic19\", \"Topic19\", \"Topic19\", \"Topic19\", \"Topic19\", \"Topic19\", \"Topic19\", \"Topic19\", \"Topic19\", \"Topic19\", \"Topic19\", \"Topic19\", \"Topic19\", \"Topic19\", \"Topic19\", \"Topic19\", \"Topic19\", \"Topic19\", \"Topic19\", \"Topic19\", \"Topic19\", \"Topic19\", \"Topic19\", \"Topic19\", \"Topic20\", \"Topic20\", \"Topic20\", \"Topic20\", \"Topic20\", \"Topic20\", \"Topic20\", \"Topic20\", \"Topic20\", \"Topic20\", \"Topic20\", \"Topic20\", \"Topic20\", \"Topic20\", \"Topic20\", \"Topic20\", \"Topic20\", \"Topic20\", \"Topic20\", \"Topic20\", \"Topic20\", \"Topic20\", \"Topic20\", \"Topic20\", \"Topic20\", \"Topic20\", \"Topic20\", \"Topic20\", \"Topic20\", \"Topic20\", \"Topic20\", \"Topic20\", \"Topic20\", \"Topic20\", \"Topic20\", \"Topic20\", \"Topic20\", \"Topic20\", \"Topic20\", \"Topic20\", \"Topic20\", \"Topic20\", \"Topic20\", \"Topic20\", \"Topic20\", \"Topic20\", \"Topic20\", \"Topic20\", \"Topic20\", \"Topic20\", \"Topic20\", \"Topic20\", \"Topic20\", \"Topic20\", \"Topic20\", \"Topic20\", \"Topic20\", \"Topic20\", \"Topic20\", \"Topic20\", \"Topic20\", \"Topic20\", \"Topic20\", \"Topic20\", \"Topic20\", \"Topic20\", \"Topic20\", \"Topic20\", \"Topic20\", \"Topic20\", \"Topic20\", \"Topic20\", \"Topic20\", \"Topic20\", \"Topic20\", \"Topic20\", \"Topic20\", \"Topic20\", \"Topic20\", \"Topic20\", \"Topic20\", \"Topic20\", \"Topic20\", \"Topic20\", \"Topic20\", \"Topic20\", \"Topic20\", \"Topic20\", \"Topic20\", \"Topic20\", \"Topic20\"], \"logprob\": [30.0, 29.0, 28.0, 27.0, 26.0, 25.0, 24.0, 23.0, 22.0, 21.0, 20.0, 19.0, 18.0, 17.0, 16.0, 15.0, 14.0, 13.0, 12.0, 11.0, 10.0, 9.0, 8.0, 7.0, 6.0, 5.0, 4.0, 3.0, 2.0, 1.0, -6.0323, -6.0785, -6.1011, -6.2263, -6.4992, -6.5359, -6.5473, -6.568, -6.5693, -6.5981, -6.5996, -6.6285, -6.6476, -6.6726, -6.6772, -6.6776, -6.6824, -6.6925, -6.6932, -6.6941, -6.7007, -6.7165, -6.7185, -6.724, -6.7474, -6.7522, -6.7664, -6.7688, -6.8008, -6.8039, -7.1969, -7.2917, -7.3296, -7.3322, -7.3686, -7.4008, -7.4107, -7.4107, -7.475, -7.5288, -7.5326, -7.545, -7.5752, -7.6278, -7.6392, -7.667, -7.7199, -7.7207, -7.4485, -7.7875, -7.8104, -7.8182, -7.863, -7.4795, -7.8733, -7.9742, -7.9743, -7.5374, -7.9899, -7.9899, -7.3887, -7.5856, -7.4775, -7.6341, -6.0058, -6.9906, -6.0401, -7.371, -7.5096, -7.5223, -5.6521, -6.7524, -7.3596, -6.3418, -7.8518, -7.9595, -6.6506, -8.0193, -8.0378, -7.8185, -8.1178, -8.2044, -8.2045, -8.2044, -7.4965, -7.7507, -7.6063, -8.3689, -8.3726, -8.3726, -8.394, -8.4285, -8.4389, -8.4389, -8.0554, -8.1535, -6.7628, -7.4496, -8.296, -7.0278, -7.1855, -7.4817, -7.5221, -7.5307, -7.5522, -7.5764, -7.6023, -7.6537, -7.7008, -7.8035, -7.8037, -7.9236, -7.9236, -7.995, -8.053, -8.2016, -8.2235, -8.3226, -8.3228, -8.3228, -8.3373, -8.3374, -8.3378, -8.3762, -8.3765, -8.4664, -8.5449, -8.5449, -8.545, -8.058, -8.1112, -8.2662, -7.1026, -7.2423, -7.2063, -7.4182, -7.6063, -7.6152, -7.4899, -7.659, -7.6751, -7.2258, -7.7053, -7.397, -7.8622, -7.8638, -7.8637, -7.9483, -8.0168, -8.0246, -8.0521, -8.2582, -8.2583, -7.4714, -8.2844, -7.6136, -8.3493, -8.3647, -8.3647, -8.3654, -8.3782, -8.3986, -7.674, -7.9855, -7.2221, -7.31, -7.4242, -7.5437, -7.5498, -7.6187, -7.6187, -7.6377, -7.2864, -7.7472, -7.8085, -7.8532, -7.8532, -7.8645, -7.9453, -7.9453, -7.9699, -7.97, -8.0418, -8.0635, -8.1106, -8.3159, -8.3161, -8.3755, -8.3754, -7.9978, -8.3887, -8.425, -8.4951, -8.4952, -8.4215, -6.6437, -6.6969, -6.8529, -7.4974, -7.8176, -7.9807, -8.3908, -8.5824, -8.2551, -8.6236, -8.8603, -8.8606, -8.8604, -8.8606, -8.8606, -8.8608, -8.8667, -8.8667, -8.8668, -8.8668, -8.8667, -8.8669, -8.8669, -8.8669, -8.8669, -8.8668, -8.867, -8.8669, -8.8669, -8.8668, -8.8669, -8.8669, -8.8669, -7.0855, -7.2763, -7.396, -7.459, -7.579, -7.6312, -7.7614, -7.7617, -7.7911, -7.7479, -8.207, -8.2923, -8.2923, -8.2925, -8.3259, -8.4467, -8.5256, -8.526, -8.5315, -8.2415, -8.2696, -8.5674, -8.5727, -8.9118, -8.9118, -8.9118, -8.9117, -8.9117, -8.9119, -8.9118, -8.9118, -8.7372, -7.2371, -7.2698, -7.381, -7.5321, -7.7104, -7.9423, -7.9423, -8.152, -8.3785, -8.3813, -8.4457, -8.5895, -7.8234, -8.6496, -8.6497, -8.6499, -8.6705, -8.6705, -8.6708, -7.7934, -8.7092, -8.8569, -8.8571, -8.8574, -8.9107, -8.9107, -8.9108, -8.9109, -8.9108, -8.9108, -8.9108, -8.9108, -7.5228, -7.5948, -7.5948, -7.7309, -6.9468, -7.7357, -7.8786, -7.8787, -7.9434, -7.9902, -7.6625, -8.1189, -8.2101, -7.4609, -8.4361, -8.4925, -8.4925, -8.4923, -8.4924, -8.4925, -8.4924, -8.4925, -8.5336, -8.8521, -8.8523, -8.8522, -8.8525, -8.8529, -8.5273, -8.9028, -7.1278, -7.4689, -7.6288, -7.8604, -7.9791, -8.1412, -8.2147, -8.3182, -8.3182, -8.5235, -8.5333, -8.5333, -8.5333, -8.5334, -8.5333, -8.5334, -8.0756, -8.6975, -8.8077, -8.8077, -8.8076, -8.8076, -8.8077, -8.8077, -8.8078, -8.8077, -8.8079, -8.8079, -8.8078, -8.8081, -7.5172, -7.6363, -7.858, -8.1944, -8.1946, -7.4193, -8.3415, -8.4175, -8.4176, -8.4174, -8.6374, -8.705, -8.7052, -8.7052, -8.7053, -8.7054, -9.0592, -9.0591, -9.0592, -9.0592, -9.0593, -9.0594, -9.0597, -9.1102, -9.1104, -9.1104, -9.1104, -9.1105, -9.1104, -9.1104, -9.1105, -9.1104, -7.3387, -7.5401, -7.3779, -7.8952, -7.9375, -7.9502, -8.1347, -8.2687, -8.2688, -7.9883, -8.4978, -8.4979, -8.4981, -8.7663, -8.7664, -8.7668, -8.8036, -8.9136, -8.9158, -8.9166, -8.951, -8.9508, -8.9511, -8.9511, -8.9512, -8.9513, -8.9513, -8.9515, -8.9516, -8.9518, -8.9516, -8.9516, -7.5369, -7.1082, -7.6986, -8.1313, -8.4469, -8.4469, -8.4468, -8.4469, -8.447, -8.447, -8.721, -8.9106, -8.9106, -8.9107, -8.9107, -8.9108, -8.9108, -8.9108, -8.9108, -8.9107, -8.9108, -8.9109, -8.9108, -8.9109, -8.911, -8.9109, -9.1218, -9.1223, -9.1221, -9.1223, -8.9595, -7.6142, -7.7744, -7.9652, -8.2011, -8.5104, -8.5105, -8.5105, -8.5105, -8.5105, -8.5105, -8.5105, -8.5105, -8.5106, -8.9607, -8.9606, -8.9608, -8.9608, -8.9609, -8.9608, -8.9609, -8.9609, -8.9608, -8.9609, -8.961, -8.9609, -8.9608, -8.9609, -8.9609, -8.961, -8.9609, -8.9609, -8.9608, -8.9609, -8.9609, -8.9609, -8.9609, -7.2949, -7.3552, -7.7694, -7.9603, -8.0088, -8.1965, -8.1965, -8.0201, -8.6677, -8.5894, -8.554, -8.9575, -8.9575, -8.9575, -8.9578, -8.9578, -8.9578, -8.958, -8.9579, -8.9588, -8.99, -8.9901, -8.9902, -8.9903, -8.9904, -8.9902, -8.9903, -8.9903, -8.9904, -8.9904, -7.54, -7.6077, -7.1897, -7.9493, -8.0134, -8.6541, -8.654, -8.6543, -9.0714, -9.0714, -9.0714, -9.0714, -9.0716, -9.0716, -9.0716, -9.0715, -9.0717, -9.0717, -9.0717, -9.072, -9.1118, -9.8007, -9.8007, -9.8009, -9.8008, -9.8007, -9.8005, -9.8009, -9.8009, -9.8006, -9.8005, -9.8002, -9.8006, -9.8007, -9.8003, -9.8004, -9.8003, -9.8002, -9.8003, -9.8004, -9.8001, -9.8002, -9.8001, -9.8001, -9.7999, -9.7822, -9.7935, -9.8001, -9.8001, -9.7951, -9.7958, -9.7961, -9.7962, -9.7963, -9.7969, -9.7971, -7.7741, -7.6498, -8.432, -8.6383, -9.2505, -9.2507, -9.2506, -9.2507, -9.2509, -9.2512, -9.2515, -9.2514, -9.2518, -9.2523, -9.2543, -9.7985, -9.7987, -9.7988, -9.7987, -9.799, -9.7989, -9.7989, -9.7989, -9.7989, -9.7983, -9.7988, -9.7983, -9.799, -9.7989, -9.7987, -9.7986, -9.7982, -9.7985, -9.7984, -9.7984, -9.7982, -9.7984, -9.7982, -9.7982, -9.7983, -9.7985, -9.7985, -9.7923, -9.7984, -9.7983, -9.7941, -9.7953, -9.7956, -9.7982, -9.7983, -9.7904, -9.7905, -9.7917, -9.793, -9.7954, -9.7959, -9.796, -9.7962, -9.7963, -9.7965, -9.7965, -9.7971, -9.797, -9.7972, -9.7974, -9.7971, -9.7975, -9.7972, -9.7971, -9.797, -9.7972, -9.7973, -9.7973, -9.7977, -9.7975, -9.7974, -9.7976, -9.7976, -9.7977, -9.7973, -9.7974, -9.7971, -9.7972, -9.7975, -9.7978, -9.7973, -9.7972, -9.7969, -9.797, -9.7974, -9.797, -9.7968, -9.797, -9.7969, -9.7971, -9.7968, -9.7969, -9.7969, -9.7971, -9.7966, -9.7968, -9.7968, -9.7967, -9.797, -9.797, -9.7968, -9.797, -9.7969, -9.7969, -9.797, -9.7967, -9.7969, -9.797, -9.797, -9.797, -9.7967, -9.7968, -9.7965, -9.7968, -9.7968, -9.7969, -9.7968, -9.7902, -9.7917, -9.792, -9.7923, -9.7927, -9.7931, -9.7932, -9.7938, -9.7939, -9.7939, -9.794, -9.7943, -9.7944, -9.7945, -9.7946, -9.7946, -9.7946, -9.7947, -9.7948, -9.7948, -9.7949, -9.7949, -9.7949, -9.7949, -9.795, -9.7951, -9.7951, -9.7952, -9.7952, -9.7953, -9.797, -9.7971, -9.7973, -9.7973, -9.7976, -9.7972, -9.7971, -9.7974, -9.7969, -9.7969, -9.7968, -9.7972, -9.7974, -9.7972, -9.7975, -9.7972, -9.7973, -9.7976, -9.7969, -9.7972, -9.7972, -9.7972, -9.7973, -9.7973, -9.7973, -9.7974, -9.7971, -9.7965, -9.7972, -9.7973, -9.797, -9.7971, -9.7971, -9.7971, -9.797, -9.797, -9.7968, -9.797, -9.797, -9.7969, -9.7968, -9.7968, -9.7968, -9.7969, -9.7969, -9.7966, -9.7965, -9.7968, -9.797, -9.7971, -9.7968, -9.7968, -9.7969, -9.7968, -9.7969, -9.7969, -9.7967, -9.7967, -9.7968, -9.7969, -9.7969, -9.7953, -9.7953, -9.7954, -9.7956, -9.7957, -9.7958, -9.7958, -9.7958, -9.796, -9.7961, -9.7961, -9.7961, -9.7961, -9.7961, -9.7961, -9.7962, -9.7962, -9.7962, -9.7963, -9.7963, -9.7963, -9.7963, -9.7963, -9.7964, -9.7964, -9.7964, -9.7964, -9.7964, -9.7964, -9.7965], \"loglift\": [30.0, 29.0, 28.0, 27.0, 26.0, 25.0, 24.0, 23.0, 22.0, 21.0, 20.0, 19.0, 18.0, 17.0, 16.0, 15.0, 14.0, 13.0, 12.0, 11.0, 10.0, 9.0, 8.0, 7.0, 6.0, 5.0, 4.0, 3.0, 2.0, 1.0, 0.1516, 0.1514, 0.1513, 0.1507, 0.1493, 0.149, 0.149, 0.1488, 0.1488, 0.1486, 0.1486, 0.1484, 0.1483, 0.1481, 0.1481, 0.1481, 0.148, 0.148, 0.148, 0.148, 0.1479, 0.1478, 0.1478, 0.1477, 0.1476, 0.1475, 0.1474, 0.1474, 0.1471, 0.1471, 3.5744, 3.5148, 3.4905, 3.489, 3.4652, 3.4441, 3.4376, 3.4374, 3.3943, 3.3569, 3.3547, 3.3461, 3.3251, 3.2882, 3.2797, 3.2602, 3.2217, 3.2209, 3.1948, 3.1716, 3.1548, 3.149, 3.1152, 3.1117, 3.1075, 3.0298, 3.0297, 3.0257, 3.0179, 3.0176, 2.9409, 2.8641, 2.4036, 2.2896, 4.2179, 3.7479, 3.6998, 3.5032, 3.406, 3.3971, 3.331, 3.3068, 3.2373, 3.2174, 3.1502, 3.0649, 3.0419, 3.0172, 3.0025, 2.9812, 2.9372, 2.8655, 2.8654, 2.8653, 2.7907, 2.7514, 2.7321, 2.7263, 2.7232, 2.7232, 2.7044, 2.675, 2.6663, 2.6662, 2.5917, 2.5925, 1.2199, 1.3379, 2.3834, 3.7509, 3.6493, 3.4442, 3.4149, 3.4082, 3.3926, 3.375, 3.3554, 3.281, 3.2806, 3.2015, 3.2006, 3.1061, 3.106, 3.0484, 3.001, 2.8771, 2.8586, 2.7742, 2.7739, 2.7738, 2.7616, 2.7611, 2.7603, 2.728, 2.7277, 2.6477, 2.5805, 2.5804, 2.5802, 2.5128, 2.3913, 2.4068, 3.7037, 3.6117, 3.5088, 3.4897, 3.3509, 3.346, 3.3261, 3.3113, 3.3003, 3.2925, 3.2777, 3.2456, 3.1553, 3.1539, 3.1539, 3.0863, 3.0301, 3.0243, 3.0019, 2.8293, 2.829, 2.8272, 2.8068, 2.7924, 2.7512, 2.7381, 2.738, 2.7373, 2.7264, 2.7083, 2.5916, 2.2672, 3.6446, 3.5835, 3.4315, 3.414, 3.4091, 3.3571, 3.3571, 3.3426, 3.3346, 3.2577, 3.2092, 3.1737, 3.1736, 3.1638, 3.099, 3.099, 3.0792, 3.0788, 3.0196, 3.001, 2.9621, 2.7869, 2.7865, 2.7352, 2.7351, 2.7231, 2.7186, 2.6908, 2.6298, 2.6295, 2.3614, 4.0352, 4.0041, 3.9103, 3.4665, 3.2157, 2.7415, 2.7291, 2.5583, 2.5292, 2.5209, 2.3046, 2.3044, 2.3044, 2.3042, 2.3041, 2.3037, 2.2989, 2.2987, 2.2987, 2.2987, 2.2987, 2.2985, 2.2985, 2.2985, 2.2985, 2.2985, 2.2985, 2.2985, 2.2984, 2.2984, 2.2984, 2.2984, 2.2983, 3.7611, 3.6288, 3.5424, 3.4955, 3.4045, 3.3639, 3.2607, 3.2599, 3.2371, 3.2344, 2.8898, 2.8158, 2.8154, 2.8153, 2.7857, 2.6798, 2.6091, 2.6085, 2.604, 2.6007, 2.5425, 2.5385, 2.5228, 2.2571, 2.2571, 2.2571, 2.257, 2.257, 2.257, 2.2569, 2.2569, 1.8559, 3.6613, 3.6389, 3.5582, 3.4448, 3.3047, 3.1167, 3.1164, 2.939, 2.7416, 2.7348, 2.6822, 2.553, 2.5057, 2.4988, 2.4985, 2.4984, 2.4796, 2.4795, 2.479, 2.4698, 2.4122, 2.3085, 2.3083, 2.3076, 2.259, 2.2589, 2.2588, 2.2588, 2.2587, 2.2587, 2.2587, 2.2586, 3.4524, 3.3968, 3.3966, 3.2888, 3.2851, 3.2637, 3.1697, 3.1696, 3.1159, 3.0766, 2.9949, 2.9681, 2.8895, 2.8217, 2.6911, 2.6407, 2.6407, 2.6407, 2.6406, 2.6406, 2.6405, 2.6404, 2.6034, 2.3134, 2.3131, 2.313, 2.3126, 2.3116, 2.2732, 2.2663, 3.7424, 3.4956, 3.3724, 3.1864, 3.0878, 2.9504, 2.8867, 2.7966, 2.7963, 2.6132, 2.6051, 2.605, 2.6049, 2.6047, 2.6047, 2.6047, 2.5713, 2.4561, 2.355, 2.355, 2.355, 2.3549, 2.3549, 2.3549, 2.3549, 2.3549, 2.3547, 2.3545, 2.3544, 2.3543, 3.4707, 3.377, 3.1968, 2.9103, 2.9102, 2.8807, 2.7808, 2.7133, 2.7132, 2.7131, 2.5141, 2.4523, 2.4522, 2.452, 2.4519, 2.4519, 2.1227, 2.1226, 2.1225, 2.1225, 2.1225, 2.1222, 2.1216, 2.0746, 2.0746, 2.0745, 2.0745, 2.0744, 2.0744, 2.0744, 2.0743, 2.0742, 3.606, 3.4528, 3.2653, 3.1651, 3.1304, 3.12, 2.9614, 2.8451, 2.8445, 2.7425, 2.641, 2.6408, 2.6401, 2.3959, 2.3959, 2.395, 2.3331, 2.2585, 2.2546, 2.2532, 2.2244, 2.2242, 2.224, 2.2239, 2.2237, 2.2237, 2.2236, 2.2234, 2.2232, 2.2229, 2.2229, 2.2228, 3.4574, 3.4456, 3.329, 2.9665, 2.6878, 2.6877, 2.6877, 2.6876, 2.6875, 2.6875, 2.4376, 2.2626, 2.2625, 2.2623, 2.2623, 2.2623, 2.2623, 2.2622, 2.2622, 2.2621, 2.2621, 2.2621, 2.262, 2.2619, 2.2618, 2.2618, 2.0638, 2.0632, 2.0632, 2.0632, 1.9003, 3.3975, 3.2682, 3.1091, 2.9062, 2.631, 2.6309, 2.6309, 2.6309, 2.6308, 2.6308, 2.6307, 2.6307, 2.6306, 2.2159, 2.2158, 2.2158, 2.2157, 2.2157, 2.2157, 2.2157, 2.2156, 2.2156, 2.2156, 2.2156, 2.2156, 2.2156, 2.2156, 2.2156, 2.2155, 2.2155, 2.2155, 2.2155, 2.2154, 2.2154, 2.2155, 2.2154, 3.6429, 3.5981, 3.2725, 3.1138, 3.0724, 2.9107, 2.9107, 2.5001, 2.4875, 2.3721, 2.2467, 2.2189, 2.2189, 2.2188, 2.2186, 2.2183, 2.2182, 2.2181, 2.218, 2.2165, 2.1884, 2.1883, 2.1881, 2.1881, 2.1881, 2.188, 2.1879, 2.1879, 2.1878, 2.1877, 3.4622, 3.4076, 3.3024, 3.1269, 3.0704, 2.502, 2.5018, 2.5015, 2.1126, 2.1126, 2.1125, 2.1125, 2.1123, 2.1122, 2.1122, 2.1122, 2.1121, 2.112, 2.1119, 2.1117, 2.0729, 1.3929, 1.3927, 1.3927, 1.3926, 1.3926, 1.3925, 1.3922, 1.392, 1.3919, 1.3918, 1.3913, 1.3917, 1.3918, 1.3885, 1.3884, 1.387, 1.3848, 1.3866, 1.3871, 1.3807, 1.3837, 1.3802, 1.378, 1.3655, 0.1445, 0.7977, 1.3742, 1.374, -2.9694, -1.455, -3.0002, -2.1979, 0.6121, -2.4195, -0.3851, 3.2772, 3.0487, 2.7061, 2.518, 1.943, 1.9429, 1.9428, 1.9427, 1.9425, 1.942, 1.9415, 1.9414, 1.941, 1.9402, 1.9368, 1.394, 1.3939, 1.3936, 1.3936, 1.3934, 1.3933, 1.3933, 1.3933, 1.3929, 1.3928, 1.3927, 1.3925, 1.3918, 1.3912, 1.3908, 1.3906, 1.3894, 1.3899, 1.3891, 1.3888, 1.3874, 1.389, 1.3869, 1.3868, 1.3863, 1.387, 1.3855, 1.1581, 1.383, 1.3804, 1.1558, 1.1544, 1.1537, 1.3723, 1.3761, -0.6044, 0.1609, 0.2536, -0.2585, 0.2837, -0.4961, -0.0971, -1.9145, -0.1785, -0.0845, -0.4019, 1.3964, 1.3963, 1.3962, 1.3962, 1.396, 1.396, 1.3958, 1.3957, 1.3954, 1.3954, 1.3952, 1.3951, 1.395, 1.395, 1.3949, 1.3948, 1.3947, 1.3946, 1.3945, 1.3941, 1.394, 1.3936, 1.3936, 1.393, 1.3928, 1.3924, 1.3919, 1.3918, 1.3918, 1.3918, 1.3916, 1.3914, 1.391, 1.3915, 1.3901, 1.3906, 1.3903, 1.3914, 1.3869, 1.3879, 1.3886, 1.3865, 1.3904, 1.3903, 1.3865, 1.3885, 1.3869, 1.3865, 1.3876, 1.378, 1.3829, 1.3873, 1.3881, 1.3877, 1.3724, 1.3774, 1.3518, 1.3723, 1.3685, 1.3795, 1.3723, -2.7123, -0.8248, -2.5141, -1.8274, -0.8094, -3.6092, -1.1561, -0.9869, -0.7605, -2.3381, -1.0175, -1.0862, -0.6298, 0.0729, 0.5639, -0.6134, -1.695, 0.5638, -1.0013, -2.7852, -0.3935, -2.3819, -1.5605, -1.9713, -2.4845, -0.7166, -1.8452, 0.4446, -2.4179, -2.3071, 1.3965, 1.3963, 1.3961, 1.396, 1.3959, 1.3959, 1.3957, 1.3956, 1.3955, 1.3955, 1.3955, 1.3953, 1.3953, 1.3952, 1.395, 1.395, 1.3949, 1.3948, 1.3946, 1.3946, 1.3939, 1.3939, 1.3935, 1.3934, 1.3928, 1.3922, 1.3922, 1.392, 1.3919, 1.3919, 1.3918, 1.3918, 1.3916, 1.3915, 1.3902, 1.3902, 1.3886, 1.3903, 1.3904, 1.3884, 1.3875, 1.3868, 1.3871, 1.3879, 1.3874, 1.3783, 1.3727, 1.381, 1.3881, 1.3904, 1.3801, 1.3807, 1.3835, 1.3816, 1.3838, 1.384, 1.3684, 1.3713, 1.3728, 1.38, 1.3784, -2.2953, -0.4955, -0.8805, -1.6436, 0.1646, -0.3736, -1.7561, -0.477, -1.3346, -1.987, -1.8015, -2.8039, -0.4547, -0.1482, -2.732, -0.6241, -2.7692, -1.1321, -1.7155, -2.2421, -2.1815, -1.9076, -0.7224, -0.568, 0.8869, -0.9556, -0.8259, 0.2807, 0.7413, 0.9274]}, \"token.table\": {\"Topic\": [1, 1, 1, 1, 1, 1, 1, 1, 1, 1, 1, 1, 1, 1, 1, 1, 1, 1, 1, 1, 1, 1, 1, 1, 1, 1, 1, 1, 1, 1, 1, 1, 1, 1, 1, 1, 1, 1, 1, 1, 1, 1, 1, 1, 1, 1, 1, 1, 1, 1, 1, 1, 1, 1, 1, 1, 1, 1, 1, 1, 1, 1, 1, 1, 1, 1, 1, 1, 1, 1, 1, 1, 1, 1, 1, 1, 1, 1, 1, 1, 1, 1, 1, 1, 1, 1, 1, 1, 1, 1, 1, 1, 1, 1, 1, 1, 1, 1, 1, 1, 1, 1, 1, 1, 1, 1, 1, 1, 1, 1, 1, 1, 1], \"Freq\": [1.7408175856507127, 1.059323047149076, 0.9453366406271558, 0.9710563270148568, 0.8426700558327852, 1.1425919020811335, 1.0948422069389778, 1.0287579183616546, 0.9504915926867556, 1.3737993171087832, 0.9185897609248079, 1.0127989437603797, 0.8277816201687253, 0.9951319890433971, 1.0358061365175397, 1.0781614588408128, 1.0852900767365259, 0.9297203148233069, 0.9139210755637671, 0.9517210025329157, 1.0221273873737227, 0.8823446475913448, 1.3841532016520681, 1.0884281260559365, 0.972124470631534, 1.0278643995449963, 1.0093597794085156, 1.759339017300771, 0.8527456061790915, 0.9939179718673204, 0.9478519146924146, 0.9388700962585746, 1.7290967662730974, 0.8994322145833157, 0.870328019742711, 1.2048174474932845, 0.8328783663749335, 0.9471175053640313, 1.205581837024568, 1.13147959904718, 1.0625645272758437, 1.0400082339990566, 0.9761826477262381, 0.9273954571908325, 0.931794888839145, 0.9547275111424876, 0.9442863409374694, 1.0479840749011706, 1.0871550869391278, 0.9808273510072274, 0.9319877249061949, 0.8783748739945453, 0.9417901638084244, 0.9554342140512326, 0.9191148648458535, 1.0476268887108735, 1.6029219784374718, 1.0702938449594115, 0.9327780458558311, 1.0545865101232348, 1.7773866003077536, 1.4642548167185452, 1.0700267943467534, 1.5727452397208863, 1.0152261785172776, 0.9030482654922773, 0.9638423562071471, 1.2547881365478462, 1.4036211393146416, 0.8154584905077844, 0.9657645032857575, 0.9793953095216419, 1.096208236747624, 0.8605698773396716, 0.8749116536636581, 1.0979366448791243, 0.9533344272548362, 1.6395950517022408, 0.926963236318513, 1.0756128847161686, 1.083929212851082, 0.8844672832278164, 0.9426305763728434, 0.8991489566870486, 1.1458557505207994, 0.9986055200108838, 1.0089706774304723, 1.0512215109590681, 1.1506440170069046, 1.0592053233985315, 0.9707820963880568, 1.0150259233606467, 0.9489134121478171, 0.9200132608211915, 0.9295200968094737, 1.067735921799603, 0.9412118464819794, 1.2605176504172806, 0.9472308005287885, 0.9422285224294593, 1.1274150508523508, 0.9938312602709374, 1.396877369082122, 0.998129748354832, 0.9606351663579057, 1.0411317866955425, 1.0228600843012952, 0.9986640076837858, 1.1459527725844385, 0.8920832328137516, 0.8106417996904735, 0.6800499361036044, 1.096034353219373], \"Term\": [\"lpg\", \"\\uac00\\uaca9\", \"\\uac00\\uad6c\", \"\\uac1c\\ubc1c\", \"\\uac70\\ub798\", \"\\uac70\\ub9ac\", \"\\uacb0\\uacfc\", \"\\uacbd\\uc81c\", \"\\uacc4\\ud68d\", \"\\uacf5\\ubb34\", \"\\uacfc\\uc815\", \"\\uad00\\ub9ac\", \"\\uad50\\uc0ac\", \"\\uad50\\uc218\", \"\\uad50\\uc721\", \"\\uad50\\uc721\\uccad\", \"\\uad6d\\ud68c\", \"\\uae30\\uac04\", \"\\uae30\\ub85d\", \"\\uae30\\uc220\", \"\\uae30\\uc5c5\", \"\\uae30\\uc900\", \"\\ub099\\ub3d9\\uac15\", \"\\ub300\\ube44\", \"\\ub300\\ud1b5\\ub839\", \"\\ub300\\ud559\", \"\\ub3c4\\uc2dc\", \"\\ub9c8\\uc77c\\ub9ac\\uc9c0\", \"\\ubb34\\uc5ed\", \"\\ubb38\\ud654\", \"\\ubb38\\ud654\\uc7ac\", \"\\ubbf8\\uad6d\", \"\\ubc15\\ud55c\\ubcc4\", \"\\ubc1c\\uc804\", \"\\ubc29\\ud574\", \"\\ubc88\\ud638\\ud310\", \"\\ubcf4\\uace0\\ud68c\", \"\\ubcf5\\uc9c0\", \"\\ubd09\\uc0ac\", \"\\ubd80\\ubd80\", \"\\ubd81\\ud55c\", \"\\uc0ac\\ub791\", \"\\uc0ac\\uc5c5\", \"\\uc0ac\\ud68c\", \"\\uc0b0\\uc5c5\", \"\\uc0c1\\uc2b9\", \"\\uc0dd\\uc0b0\", \"\\uc11c\\ube44\\uc2a4\", \"\\uc131\\uc7a5\", \"\\uc13c\\ud130\", \"\\uc218\\uc6d0\\uc2dc\", \"\\uc218\\ucd9c\", \"\\uc2dc\\ubbfc\", \"\\uc2dc\\uc124\", \"\\uc2dc\\uc2a4\\ud15c\", \"\\uc2dc\\uc7a5\", \"\\uc544\\ubca0\", \"\\uc5b4\\uc5c5\", \"\\uc5c5\\uccb4\", \"\\uc5f0\\uad6c\", \"\\uc5f0\\uadf9\", \"\\uc5f0\\ucd9c\", \"\\uc608\\uc0b0\", \"\\uc608\\ucc9c\", \"\\uc62c\\ud574\", \"\\uc6b4\\ub3d9\", \"\\uc6b4\\uc601\", \"\\uc6c3\\uc74c\", \"\\uc720\\uc81c\\ud488\", \"\\uc720\\ud1b5\", \"\\uc758\\uc6d0\", \"\\uc774\\ubc88\", \"\\uc774\\uc6a9\", \"\\uc77c\\uc790\\ub9ac\", \"\\uc790\\uc6d0\", \"\\uc804\\ub0a8\", \"\\uc804\\ubd81\", \"\\uc804\\uc2dc\\uad00\", \"\\uc815\\ubd80\", \"\\uc81c\\uc8fc\", \"\\uc81c\\uc8fc\\ub3c4\", \"\\uc81c\\ud488\", \"\\uc870\\uc0ac\", \"\\uc870\\uc131\", \"\\uc885\\ubaa9\", \"\\uc8fc\\ubbfc\", \"\\uc911\\uad6d\", \"\\uc9c0\\ub09c\\ud574\", \"\\uc9c0\\ub3c4\", \"\\uc9c0\\ubc29\", \"\\uc9c0\\uc5ed\", \"\\uc9c0\\uc6d0\", \"\\uc9c4\\ud589\", \"\\uccad\\ub144\", \"\\ucd1d\\ub9ac\", \"\\ucd5c\\uadfc\", \"\\ucd94\\uc9c4\", \"\\ucda9\\uc804\", \"\\uce5c\\ud658\\uacbd\", \"\\ucf54\\uc2a4\\ud53c\", \"\\ud0dc\\ud48d\", \"\\ud1b5\\ud654\", \"\\ud2b8\\ub7a8\", \"\\ud2b8\\ub7fc\\ud504\", \"\\ud558\\uc218\", \"\\ud559\\uad50\", \"\\ud559\\uc0dd\", \"\\ud55c\\uad6d\", \"\\ud5a5\\uad50\", \"\\ud611\\uc0c1\", \"\\ud654\\uc7a5\\uc2e4\", \"\\ud658\\uc728\", \"\\ud65c\\uc6a9\"]}, \"R\": 30, \"lambda.step\": 0.01, \"plot.opts\": {\"xlab\": \"PC1\", \"ylab\": \"PC2\"}, \"topic.order\": [19, 16, 11, 9, 5, 15, 6, 12, 10, 20, 4, 13, 7, 1, 14, 2, 8, 3, 17, 18]};\n",
              "\n",
              "function LDAvis_load_lib(url, callback){\n",
              "  var s = document.createElement('script');\n",
              "  s.src = url;\n",
              "  s.async = true;\n",
              "  s.onreadystatechange = s.onload = callback;\n",
              "  s.onerror = function(){console.warn(\"failed to load library \" + url);};\n",
              "  document.getElementsByTagName(\"head\")[0].appendChild(s);\n",
              "}\n",
              "\n",
              "if(typeof(LDAvis) !== \"undefined\"){\n",
              "   // already loaded: just create the visualization\n",
              "   !function(LDAvis){\n",
              "       new LDAvis(\"#\" + \"ldavis_el731404705577022244616694080\", ldavis_el731404705577022244616694080_data);\n",
              "   }(LDAvis);\n",
              "}else if(typeof define === \"function\" && define.amd){\n",
              "   // require.js is available: use it to load d3/LDAvis\n",
              "   require.config({paths: {d3: \"https://d3js.org/d3.v5\"}});\n",
              "   require([\"d3\"], function(d3){\n",
              "      window.d3 = d3;\n",
              "      LDAvis_load_lib(\"https://cdn.jsdelivr.net/gh/bmabey/pyLDAvis@3.3.1/pyLDAvis/js/ldavis.v3.0.0.js\", function(){\n",
              "        new LDAvis(\"#\" + \"ldavis_el731404705577022244616694080\", ldavis_el731404705577022244616694080_data);\n",
              "      });\n",
              "    });\n",
              "}else{\n",
              "    // require.js not available: dynamically load d3 & LDAvis\n",
              "    LDAvis_load_lib(\"https://d3js.org/d3.v5.js\", function(){\n",
              "         LDAvis_load_lib(\"https://cdn.jsdelivr.net/gh/bmabey/pyLDAvis@3.3.1/pyLDAvis/js/ldavis.v3.0.0.js\", function(){\n",
              "                 new LDAvis(\"#\" + \"ldavis_el731404705577022244616694080\", ldavis_el731404705577022244616694080_data);\n",
              "            })\n",
              "         });\n",
              "}\n",
              "</script>"
            ]
          },
          "metadata": {},
          "execution_count": 26
        }
      ]
    },
    {
      "cell_type": "markdown",
      "source": [
        "✔️LDAvis의 두가지 정보\n",
        "- HTML 의 좌측에 출력되는 topic의 2차원 embedding vector (비슷한 위치에 존재하는 topic들은 서로 비슷한 문맥을 지님)\n",
        "- 오른쪽에 출력되는 각 topic의 keyword"
      ],
      "metadata": {
        "id": "-4-I8gzksMsh"
      }
    },
    {
      "cell_type": "markdown",
      "source": [
        "✔️원들은 각각의 20개의 topic을 나타냄\n",
        "\n",
        "✔️각 원과의 거리 = 각 topic들이 서로 얼마나 다른지를 보여줌 (만약 두 원이 겹치면 이 두개의 topic은 유사한 topic이라는 의미)\n",
        "\n",
        "✔️각 원을 클릭시 우측에 해당 topic에 관한 정보 나타남\n",
        "\n",
        "✔️위의 예시에서\n",
        "- 1번 topic : 사업, 지역, 산업, 지원, 한국 등 가장 광범위한 키워드들을 포함\n",
        "- 15번 topic : 1번 topic과 겹치는 부분 거의 없고 거리가 멀다. 이는 조광조, 영의정, 기묘사화 등 역사와 관련된 topic\n",
        "- 3번 topic : 1번 topic에 포함된 것으로 코스피, 거래와 관련한 키워드를 갖고 있음.\n",
        "\n",
        "✔️ 우측 상단의 λ\n",
        "- [0, 1] 사이에서 조절가능한 값\n",
        "- λ를 1 로 설정하면 토픽 별로 가장 자주 등장하는 단어들을 우선적으로 키워드로 선택한다는 의미\n",
        "- λ 를 0 에 가깝게 설정할수록 토픽 간에 차이가 많이 나는 단어를 선택한다는 의미"
      ],
      "metadata": {
        "id": "mhx4XEAPskRW"
      }
    }
  ]
}